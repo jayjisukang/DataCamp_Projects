{
 "cells": [
  {
   "cell_type": "markdown",
   "metadata": {},
   "source": [
    "- Import Modules"
   ]
  },
  {
   "cell_type": "code",
   "execution_count": 1,
   "metadata": {},
   "outputs": [],
   "source": [
    "import matplotlib.pyplot as plt\n",
    "%matplotlib inline \n",
    "import platform\n",
    "from matplotlib import font_manager, rc\n",
    "plt.rcParams['axes.unicode_minus'] = False \n",
    "\n",
    "if platform.system() == 'Darwin':\n",
    "    rc('font', family = 'AppleGothic')\n",
    "elif platform.system() == 'Windows':\n",
    "    path=\"c:/Windows/Fonts/malgun.ttf\"\n",
    "    font_name = font_manager.FontProperties(fname=path).get_name()\n",
    "    rc('font', family=font_name)\n",
    "else:\n",
    "    print('Unknown system')\n",
    "import seaborn as sns"
   ]
  },
  {
   "cell_type": "code",
   "execution_count": 2,
   "metadata": {},
   "outputs": [],
   "source": [
    "import pandas as pd\n",
    "import numpy as np"
   ]
  },
  {
   "cell_type": "markdown",
   "metadata": {},
   "source": [
    "### 1. Data Loading & Cleaning"
   ]
  },
  {
   "cell_type": "code",
   "execution_count": 6,
   "metadata": {},
   "outputs": [
    {
     "data": {
      "text/html": [
       "<div>\n",
       "<style scoped>\n",
       "    .dataframe tbody tr th:only-of-type {\n",
       "        vertical-align: middle;\n",
       "    }\n",
       "\n",
       "    .dataframe tbody tr th {\n",
       "        vertical-align: top;\n",
       "    }\n",
       "\n",
       "    .dataframe thead th {\n",
       "        text-align: right;\n",
       "    }\n",
       "</style>\n",
       "<table border=\"1\" class=\"dataframe\">\n",
       "  <thead>\n",
       "    <tr style=\"text-align: right;\">\n",
       "      <th></th>\n",
       "      <th>구분</th>\n",
       "      <th>죄종</th>\n",
       "      <th>발생검거</th>\n",
       "      <th>건수</th>\n",
       "    </tr>\n",
       "  </thead>\n",
       "  <tbody>\n",
       "    <tr>\n",
       "      <td>0</td>\n",
       "      <td>중부</td>\n",
       "      <td>살인</td>\n",
       "      <td>발생</td>\n",
       "      <td>1</td>\n",
       "    </tr>\n",
       "    <tr>\n",
       "      <td>1</td>\n",
       "      <td>중부</td>\n",
       "      <td>살인</td>\n",
       "      <td>검거</td>\n",
       "      <td>1</td>\n",
       "    </tr>\n",
       "    <tr>\n",
       "      <td>2</td>\n",
       "      <td>중부</td>\n",
       "      <td>강도</td>\n",
       "      <td>발생</td>\n",
       "      <td>17</td>\n",
       "    </tr>\n",
       "    <tr>\n",
       "      <td>3</td>\n",
       "      <td>중부</td>\n",
       "      <td>강도</td>\n",
       "      <td>검거</td>\n",
       "      <td>15</td>\n",
       "    </tr>\n",
       "    <tr>\n",
       "      <td>4</td>\n",
       "      <td>중부</td>\n",
       "      <td>강간</td>\n",
       "      <td>발생</td>\n",
       "      <td>14</td>\n",
       "    </tr>\n",
       "  </tbody>\n",
       "</table>\n",
       "</div>"
      ],
      "text/plain": [
       "   구분  죄종 발생검거  건수\n",
       "0  중부  살인   발생   1\n",
       "1  중부  살인   검거   1\n",
       "2  중부  강도   발생  17\n",
       "3  중부  강도   검거  15\n",
       "4  중부  강간   발생  14"
      ]
     },
     "execution_count": 6,
     "metadata": {},
     "output_type": "execute_result"
    }
   ],
   "source": [
    "# Sample Data \n",
    "crime2000 = pd.read_csv('../data/crime/2000년.csv', engine='python', encoding='EUC-KR')\n",
    "crime2000.head()"
   ]
  },
  {
   "cell_type": "code",
   "execution_count": 9,
   "metadata": {},
   "outputs": [],
   "source": [
    "# Merge files from 2000-2018\n",
    "pieces=[] #개별 데이터 리스트\n",
    "years = range(2000,2019) #year범위 지정\n",
    "columns=['area', 'type', 'arrest','frequency'] #column명 지정\n",
    "for year in years:\n",
    "    path = '../data/crime/%d년.csv' %year\n",
    "    frame = pd.read_csv(path, names=columns, skiprows=1, engine='python',header= None, encoding='EUC-KR') \n",
    "    frame['year'] = year\n",
    "    pieces.append(frame)\n",
    "    crime = pd.concat(pieces, ignore_index=True)"
   ]
  },
  {
   "cell_type": "code",
   "execution_count": 10,
   "metadata": {},
   "outputs": [
    {
     "data": {
      "text/html": [
       "<div>\n",
       "<style scoped>\n",
       "    .dataframe tbody tr th:only-of-type {\n",
       "        vertical-align: middle;\n",
       "    }\n",
       "\n",
       "    .dataframe tbody tr th {\n",
       "        vertical-align: top;\n",
       "    }\n",
       "\n",
       "    .dataframe thead th {\n",
       "        text-align: right;\n",
       "    }\n",
       "</style>\n",
       "<table border=\"1\" class=\"dataframe\">\n",
       "  <thead>\n",
       "    <tr style=\"text-align: right;\">\n",
       "      <th></th>\n",
       "      <th>area</th>\n",
       "      <th>type</th>\n",
       "      <th>arrest</th>\n",
       "      <th>frequency</th>\n",
       "      <th>year</th>\n",
       "    </tr>\n",
       "  </thead>\n",
       "  <tbody>\n",
       "    <tr>\n",
       "      <td>0</td>\n",
       "      <td>중부</td>\n",
       "      <td>살인</td>\n",
       "      <td>발생</td>\n",
       "      <td>1.0</td>\n",
       "      <td>2000</td>\n",
       "    </tr>\n",
       "    <tr>\n",
       "      <td>1</td>\n",
       "      <td>중부</td>\n",
       "      <td>살인</td>\n",
       "      <td>검거</td>\n",
       "      <td>1.0</td>\n",
       "      <td>2000</td>\n",
       "    </tr>\n",
       "    <tr>\n",
       "      <td>2</td>\n",
       "      <td>중부</td>\n",
       "      <td>강도</td>\n",
       "      <td>발생</td>\n",
       "      <td>17.0</td>\n",
       "      <td>2000</td>\n",
       "    </tr>\n",
       "    <tr>\n",
       "      <td>3</td>\n",
       "      <td>중부</td>\n",
       "      <td>강도</td>\n",
       "      <td>검거</td>\n",
       "      <td>15.0</td>\n",
       "      <td>2000</td>\n",
       "    </tr>\n",
       "    <tr>\n",
       "      <td>4</td>\n",
       "      <td>중부</td>\n",
       "      <td>강간</td>\n",
       "      <td>발생</td>\n",
       "      <td>14.0</td>\n",
       "      <td>2000</td>\n",
       "    </tr>\n",
       "    <tr>\n",
       "      <td>...</td>\n",
       "      <td>...</td>\n",
       "      <td>...</td>\n",
       "      <td>...</td>\n",
       "      <td>...</td>\n",
       "      <td>...</td>\n",
       "    </tr>\n",
       "    <tr>\n",
       "      <td>305</td>\n",
       "      <td>수서</td>\n",
       "      <td>강간</td>\n",
       "      <td>검거</td>\n",
       "      <td>29.0</td>\n",
       "      <td>2000</td>\n",
       "    </tr>\n",
       "    <tr>\n",
       "      <td>306</td>\n",
       "      <td>수서</td>\n",
       "      <td>절도</td>\n",
       "      <td>발생</td>\n",
       "      <td>1183.0</td>\n",
       "      <td>2000</td>\n",
       "    </tr>\n",
       "    <tr>\n",
       "      <td>307</td>\n",
       "      <td>수서</td>\n",
       "      <td>절도</td>\n",
       "      <td>검거</td>\n",
       "      <td>352.0</td>\n",
       "      <td>2000</td>\n",
       "    </tr>\n",
       "    <tr>\n",
       "      <td>308</td>\n",
       "      <td>수서</td>\n",
       "      <td>폭력</td>\n",
       "      <td>발생</td>\n",
       "      <td>3351.0</td>\n",
       "      <td>2000</td>\n",
       "    </tr>\n",
       "    <tr>\n",
       "      <td>309</td>\n",
       "      <td>수서</td>\n",
       "      <td>폭력</td>\n",
       "      <td>검거</td>\n",
       "      <td>2983.0</td>\n",
       "      <td>2000</td>\n",
       "    </tr>\n",
       "  </tbody>\n",
       "</table>\n",
       "<p>310 rows × 5 columns</p>\n",
       "</div>"
      ],
      "text/plain": [
       "    area type arrest  frequency  year\n",
       "0     중부   살인     발생        1.0  2000\n",
       "1     중부   살인     검거        1.0  2000\n",
       "2     중부   강도     발생       17.0  2000\n",
       "3     중부   강도     검거       15.0  2000\n",
       "4     중부   강간     발생       14.0  2000\n",
       "..   ...  ...    ...        ...   ...\n",
       "305   수서   강간     검거       29.0  2000\n",
       "306   수서   절도     발생     1183.0  2000\n",
       "307   수서   절도     검거      352.0  2000\n",
       "308   수서   폭력     발생     3351.0  2000\n",
       "309   수서   폭력     검거     2983.0  2000\n",
       "\n",
       "[310 rows x 5 columns]"
      ]
     },
     "execution_count": 10,
     "metadata": {},
     "output_type": "execute_result"
    }
   ],
   "source": [
    "crime[crime.year==2000]"
   ]
  },
  {
   "cell_type": "code",
   "execution_count": 11,
   "metadata": {},
   "outputs": [
    {
     "data": {
      "text/plain": [
       "919026"
      ]
     },
     "execution_count": 11,
     "metadata": {},
     "output_type": "execute_result"
    }
   ],
   "source": [
    "len(crime)"
   ]
  },
  {
   "cell_type": "code",
   "execution_count": 288,
   "metadata": {},
   "outputs": [
    {
     "data": {
      "text/html": [
       "<div>\n",
       "<style scoped>\n",
       "    .dataframe tbody tr th:only-of-type {\n",
       "        vertical-align: middle;\n",
       "    }\n",
       "\n",
       "    .dataframe tbody tr th {\n",
       "        vertical-align: top;\n",
       "    }\n",
       "\n",
       "    .dataframe thead th {\n",
       "        text-align: right;\n",
       "    }\n",
       "</style>\n",
       "<table border=\"1\" class=\"dataframe\">\n",
       "  <thead>\n",
       "    <tr style=\"text-align: right;\">\n",
       "      <th></th>\n",
       "      <th>area</th>\n",
       "      <th>type</th>\n",
       "      <th>arrest</th>\n",
       "      <th>frequency</th>\n",
       "      <th>year</th>\n",
       "    </tr>\n",
       "  </thead>\n",
       "  <tbody>\n",
       "    <tr>\n",
       "      <td>0</td>\n",
       "      <td>중부</td>\n",
       "      <td>살인</td>\n",
       "      <td>발생</td>\n",
       "      <td>1</td>\n",
       "      <td>2000</td>\n",
       "    </tr>\n",
       "    <tr>\n",
       "      <td>1</td>\n",
       "      <td>중부</td>\n",
       "      <td>살인</td>\n",
       "      <td>검거</td>\n",
       "      <td>1</td>\n",
       "      <td>2000</td>\n",
       "    </tr>\n",
       "    <tr>\n",
       "      <td>2</td>\n",
       "      <td>중부</td>\n",
       "      <td>강도</td>\n",
       "      <td>발생</td>\n",
       "      <td>17</td>\n",
       "      <td>2000</td>\n",
       "    </tr>\n",
       "    <tr>\n",
       "      <td>3</td>\n",
       "      <td>중부</td>\n",
       "      <td>강도</td>\n",
       "      <td>검거</td>\n",
       "      <td>15</td>\n",
       "      <td>2000</td>\n",
       "    </tr>\n",
       "    <tr>\n",
       "      <td>4</td>\n",
       "      <td>중부</td>\n",
       "      <td>강간</td>\n",
       "      <td>발생</td>\n",
       "      <td>14</td>\n",
       "      <td>2000</td>\n",
       "    </tr>\n",
       "    <tr>\n",
       "      <td>5</td>\n",
       "      <td>중부</td>\n",
       "      <td>강간</td>\n",
       "      <td>검거</td>\n",
       "      <td>14</td>\n",
       "      <td>2000</td>\n",
       "    </tr>\n",
       "    <tr>\n",
       "      <td>6</td>\n",
       "      <td>중부</td>\n",
       "      <td>절도</td>\n",
       "      <td>발생</td>\n",
       "      <td>601</td>\n",
       "      <td>2000</td>\n",
       "    </tr>\n",
       "    <tr>\n",
       "      <td>7</td>\n",
       "      <td>중부</td>\n",
       "      <td>절도</td>\n",
       "      <td>검거</td>\n",
       "      <td>569</td>\n",
       "      <td>2000</td>\n",
       "    </tr>\n",
       "    <tr>\n",
       "      <td>8</td>\n",
       "      <td>중부</td>\n",
       "      <td>폭력</td>\n",
       "      <td>발생</td>\n",
       "      <td>1783</td>\n",
       "      <td>2000</td>\n",
       "    </tr>\n",
       "    <tr>\n",
       "      <td>9</td>\n",
       "      <td>중부</td>\n",
       "      <td>폭력</td>\n",
       "      <td>검거</td>\n",
       "      <td>1762</td>\n",
       "      <td>2000</td>\n",
       "    </tr>\n",
       "  </tbody>\n",
       "</table>\n",
       "</div>"
      ],
      "text/plain": [
       "  area type arrest  frequency  year\n",
       "0   중부   살인     발생          1  2000\n",
       "1   중부   살인     검거          1  2000\n",
       "2   중부   강도     발생         17  2000\n",
       "3   중부   강도     검거         15  2000\n",
       "4   중부   강간     발생         14  2000\n",
       "5   중부   강간     검거         14  2000\n",
       "6   중부   절도     발생        601  2000\n",
       "7   중부   절도     검거        569  2000\n",
       "8   중부   폭력     발생       1783  2000\n",
       "9   중부   폭력     검거       1762  2000"
      ]
     },
     "execution_count": 288,
     "metadata": {},
     "output_type": "execute_result"
    }
   ],
   "source": [
    "crime.head(10)"
   ]
  },
  {
   "cell_type": "markdown",
   "metadata": {},
   "source": [
    "While debuging, it turned out empty columns were read as 'Nan'. "
   ]
  },
  {
   "cell_type": "code",
   "execution_count": 291,
   "metadata": {},
   "outputs": [
    {
     "data": {
      "text/html": [
       "<div>\n",
       "<style scoped>\n",
       "    .dataframe tbody tr th:only-of-type {\n",
       "        vertical-align: middle;\n",
       "    }\n",
       "\n",
       "    .dataframe tbody tr th {\n",
       "        vertical-align: top;\n",
       "    }\n",
       "\n",
       "    .dataframe thead th {\n",
       "        text-align: right;\n",
       "    }\n",
       "</style>\n",
       "<table border=\"1\" class=\"dataframe\">\n",
       "  <thead>\n",
       "    <tr style=\"text-align: right;\">\n",
       "      <th></th>\n",
       "      <th>area</th>\n",
       "      <th>type</th>\n",
       "      <th>arrest</th>\n",
       "      <th>frequency</th>\n",
       "      <th>year</th>\n",
       "    </tr>\n",
       "  </thead>\n",
       "  <tbody>\n",
       "    <tr>\n",
       "      <td>0</td>\n",
       "      <td>중부</td>\n",
       "      <td>살인</td>\n",
       "      <td>발생</td>\n",
       "      <td>1</td>\n",
       "      <td>2000</td>\n",
       "    </tr>\n",
       "    <tr>\n",
       "      <td>1</td>\n",
       "      <td>중부</td>\n",
       "      <td>살인</td>\n",
       "      <td>검거</td>\n",
       "      <td>1</td>\n",
       "      <td>2000</td>\n",
       "    </tr>\n",
       "    <tr>\n",
       "      <td>10</td>\n",
       "      <td>종로</td>\n",
       "      <td>살인</td>\n",
       "      <td>발생</td>\n",
       "      <td>4</td>\n",
       "      <td>2000</td>\n",
       "    </tr>\n",
       "    <tr>\n",
       "      <td>11</td>\n",
       "      <td>종로</td>\n",
       "      <td>살인</td>\n",
       "      <td>검거</td>\n",
       "      <td>4</td>\n",
       "      <td>2000</td>\n",
       "    </tr>\n",
       "    <tr>\n",
       "      <td>20</td>\n",
       "      <td>남대문</td>\n",
       "      <td>살인</td>\n",
       "      <td>발생</td>\n",
       "      <td>3</td>\n",
       "      <td>2000</td>\n",
       "    </tr>\n",
       "    <tr>\n",
       "      <td>...</td>\n",
       "      <td>...</td>\n",
       "      <td>...</td>\n",
       "      <td>...</td>\n",
       "      <td>...</td>\n",
       "      <td>...</td>\n",
       "    </tr>\n",
       "    <tr>\n",
       "      <td>918997</td>\n",
       "      <td>은평</td>\n",
       "      <td>살인</td>\n",
       "      <td>검거</td>\n",
       "      <td>4</td>\n",
       "      <td>2018</td>\n",
       "    </tr>\n",
       "    <tr>\n",
       "      <td>919006</td>\n",
       "      <td>도봉</td>\n",
       "      <td>살인</td>\n",
       "      <td>발생</td>\n",
       "      <td>1</td>\n",
       "      <td>2018</td>\n",
       "    </tr>\n",
       "    <tr>\n",
       "      <td>919007</td>\n",
       "      <td>도봉</td>\n",
       "      <td>살인</td>\n",
       "      <td>검거</td>\n",
       "      <td>1</td>\n",
       "      <td>2018</td>\n",
       "    </tr>\n",
       "    <tr>\n",
       "      <td>919016</td>\n",
       "      <td>수서</td>\n",
       "      <td>살인</td>\n",
       "      <td>발생</td>\n",
       "      <td>5</td>\n",
       "      <td>2018</td>\n",
       "    </tr>\n",
       "    <tr>\n",
       "      <td>919017</td>\n",
       "      <td>수서</td>\n",
       "      <td>살인</td>\n",
       "      <td>검거</td>\n",
       "      <td>5</td>\n",
       "      <td>2018</td>\n",
       "    </tr>\n",
       "  </tbody>\n",
       "</table>\n",
       "<p>1178 rows × 5 columns</p>\n",
       "</div>"
      ],
      "text/plain": [
       "       area type arrest  frequency  year\n",
       "0        중부   살인     발생          1  2000\n",
       "1        중부   살인     검거          1  2000\n",
       "10       종로   살인     발생          4  2000\n",
       "11       종로   살인     검거          4  2000\n",
       "20      남대문   살인     발생          3  2000\n",
       "...     ...  ...    ...        ...   ...\n",
       "918997   은평   살인     검거          4  2018\n",
       "919006   도봉   살인     발생          1  2018\n",
       "919007   도봉   살인     검거          1  2018\n",
       "919016   수서   살인     발생          5  2018\n",
       "919017   수서   살인     검거          5  2018\n",
       "\n",
       "[1178 rows x 5 columns]"
      ]
     },
     "execution_count": 291,
     "metadata": {},
     "output_type": "execute_result"
    }
   ],
   "source": [
    "crime[crime['type'] == '살인']"
   ]
  },
  {
   "cell_type": "code",
   "execution_count": null,
   "metadata": {},
   "outputs": [],
   "source": [
    "for i in crime[crime['type'] == '살인'].frequency "
   ]
  },
  {
   "cell_type": "code",
   "execution_count": 13,
   "metadata": {},
   "outputs": [
    {
     "data": {
      "text/plain": [
       "5890"
      ]
     },
     "execution_count": 13,
     "metadata": {},
     "output_type": "execute_result"
    }
   ],
   "source": [
    "crime.dropna(inplace=True)\n",
    "len(crime)"
   ]
  },
  {
   "cell_type": "code",
   "execution_count": 14,
   "metadata": {},
   "outputs": [
    {
     "data": {
      "text/html": [
       "<div>\n",
       "<style scoped>\n",
       "    .dataframe tbody tr th:only-of-type {\n",
       "        vertical-align: middle;\n",
       "    }\n",
       "\n",
       "    .dataframe tbody tr th {\n",
       "        vertical-align: top;\n",
       "    }\n",
       "\n",
       "    .dataframe thead th {\n",
       "        text-align: right;\n",
       "    }\n",
       "</style>\n",
       "<table border=\"1\" class=\"dataframe\">\n",
       "  <thead>\n",
       "    <tr style=\"text-align: right;\">\n",
       "      <th></th>\n",
       "      <th>area</th>\n",
       "      <th>type</th>\n",
       "      <th>arrest</th>\n",
       "      <th>frequency</th>\n",
       "      <th>year</th>\n",
       "    </tr>\n",
       "  </thead>\n",
       "  <tbody>\n",
       "    <tr>\n",
       "      <td>0</td>\n",
       "      <td>중부</td>\n",
       "      <td>살인</td>\n",
       "      <td>발생</td>\n",
       "      <td>1.0</td>\n",
       "      <td>2000</td>\n",
       "    </tr>\n",
       "    <tr>\n",
       "      <td>1</td>\n",
       "      <td>중부</td>\n",
       "      <td>살인</td>\n",
       "      <td>검거</td>\n",
       "      <td>1.0</td>\n",
       "      <td>2000</td>\n",
       "    </tr>\n",
       "    <tr>\n",
       "      <td>2</td>\n",
       "      <td>중부</td>\n",
       "      <td>강도</td>\n",
       "      <td>발생</td>\n",
       "      <td>17.0</td>\n",
       "      <td>2000</td>\n",
       "    </tr>\n",
       "    <tr>\n",
       "      <td>3</td>\n",
       "      <td>중부</td>\n",
       "      <td>강도</td>\n",
       "      <td>검거</td>\n",
       "      <td>15.0</td>\n",
       "      <td>2000</td>\n",
       "    </tr>\n",
       "    <tr>\n",
       "      <td>4</td>\n",
       "      <td>중부</td>\n",
       "      <td>강간</td>\n",
       "      <td>발생</td>\n",
       "      <td>14.0</td>\n",
       "      <td>2000</td>\n",
       "    </tr>\n",
       "    <tr>\n",
       "      <td>5</td>\n",
       "      <td>중부</td>\n",
       "      <td>강간</td>\n",
       "      <td>검거</td>\n",
       "      <td>14.0</td>\n",
       "      <td>2000</td>\n",
       "    </tr>\n",
       "    <tr>\n",
       "      <td>6</td>\n",
       "      <td>중부</td>\n",
       "      <td>절도</td>\n",
       "      <td>발생</td>\n",
       "      <td>601.0</td>\n",
       "      <td>2000</td>\n",
       "    </tr>\n",
       "    <tr>\n",
       "      <td>7</td>\n",
       "      <td>중부</td>\n",
       "      <td>절도</td>\n",
       "      <td>검거</td>\n",
       "      <td>569.0</td>\n",
       "      <td>2000</td>\n",
       "    </tr>\n",
       "    <tr>\n",
       "      <td>8</td>\n",
       "      <td>중부</td>\n",
       "      <td>폭력</td>\n",
       "      <td>발생</td>\n",
       "      <td>1783.0</td>\n",
       "      <td>2000</td>\n",
       "    </tr>\n",
       "    <tr>\n",
       "      <td>9</td>\n",
       "      <td>중부</td>\n",
       "      <td>폭력</td>\n",
       "      <td>검거</td>\n",
       "      <td>1762.0</td>\n",
       "      <td>2000</td>\n",
       "    </tr>\n",
       "  </tbody>\n",
       "</table>\n",
       "</div>"
      ],
      "text/plain": [
       "  area type arrest  frequency  year\n",
       "0   중부   살인     발생        1.0  2000\n",
       "1   중부   살인     검거        1.0  2000\n",
       "2   중부   강도     발생       17.0  2000\n",
       "3   중부   강도     검거       15.0  2000\n",
       "4   중부   강간     발생       14.0  2000\n",
       "5   중부   강간     검거       14.0  2000\n",
       "6   중부   절도     발생      601.0  2000\n",
       "7   중부   절도     검거      569.0  2000\n",
       "8   중부   폭력     발생     1783.0  2000\n",
       "9   중부   폭력     검거     1762.0  2000"
      ]
     },
     "execution_count": 14,
     "metadata": {},
     "output_type": "execute_result"
    }
   ],
   "source": [
    "crime.head(10)"
   ]
  },
  {
   "cell_type": "code",
   "execution_count": 16,
   "metadata": {},
   "outputs": [],
   "source": [
    "#convert dtype of 'frequency' to int  \n",
    "crime.frequency = crime['frequency'].astype('int32')"
   ]
  },
  {
   "cell_type": "markdown",
   "metadata": {},
   "source": [
    "### 2. Separate Crime '발생' & '검거'"
   ]
  },
  {
   "cell_type": "markdown",
   "metadata": {},
   "source": [
    "#### 범죄 발생"
   ]
  },
  {
   "cell_type": "code",
   "execution_count": 17,
   "metadata": {},
   "outputs": [
    {
     "name": "stdout",
     "output_type": "stream",
     "text": [
      "   area type arrest  frequency  year\n",
      "0    중부   살인     발생          1  2000\n",
      "2    중부   강도     발생         17  2000\n",
      "4    중부   강간     발생         14  2000\n",
      "6    중부   절도     발생        601  2000\n",
      "8    중부   폭력     발생       1783  2000\n",
      "10   종로   살인     발생          4  2000\n",
      "12   종로   강도     발생         24  2000\n",
      "14   종로   강간     발생         18  2000\n",
      "16   종로   절도     발생        644  2000\n",
      "18   종로   폭력     발생       1886  2000\n",
      "2945\n"
     ]
    }
   ],
   "source": [
    "incidence = crime[crime.arrest =='발생']\n",
    "print(incidence.head(10))\n",
    "print(len(incidence))"
   ]
  },
  {
   "cell_type": "code",
   "execution_count": 18,
   "metadata": {},
   "outputs": [],
   "source": [
    "incidence.reset_index(inplace=True)"
   ]
  },
  {
   "cell_type": "code",
   "execution_count": 19,
   "metadata": {},
   "outputs": [
    {
     "data": {
      "text/html": [
       "<div>\n",
       "<style scoped>\n",
       "    .dataframe tbody tr th:only-of-type {\n",
       "        vertical-align: middle;\n",
       "    }\n",
       "\n",
       "    .dataframe tbody tr th {\n",
       "        vertical-align: top;\n",
       "    }\n",
       "\n",
       "    .dataframe thead th {\n",
       "        text-align: right;\n",
       "    }\n",
       "</style>\n",
       "<table border=\"1\" class=\"dataframe\">\n",
       "  <thead>\n",
       "    <tr style=\"text-align: right;\">\n",
       "      <th></th>\n",
       "      <th>index</th>\n",
       "      <th>area</th>\n",
       "      <th>type</th>\n",
       "      <th>arrest</th>\n",
       "      <th>frequency</th>\n",
       "      <th>year</th>\n",
       "    </tr>\n",
       "  </thead>\n",
       "  <tbody>\n",
       "    <tr>\n",
       "      <td>0</td>\n",
       "      <td>0</td>\n",
       "      <td>중부</td>\n",
       "      <td>살인</td>\n",
       "      <td>발생</td>\n",
       "      <td>1</td>\n",
       "      <td>2000</td>\n",
       "    </tr>\n",
       "    <tr>\n",
       "      <td>1</td>\n",
       "      <td>2</td>\n",
       "      <td>중부</td>\n",
       "      <td>강도</td>\n",
       "      <td>발생</td>\n",
       "      <td>17</td>\n",
       "      <td>2000</td>\n",
       "    </tr>\n",
       "    <tr>\n",
       "      <td>2</td>\n",
       "      <td>4</td>\n",
       "      <td>중부</td>\n",
       "      <td>강간</td>\n",
       "      <td>발생</td>\n",
       "      <td>14</td>\n",
       "      <td>2000</td>\n",
       "    </tr>\n",
       "    <tr>\n",
       "      <td>3</td>\n",
       "      <td>6</td>\n",
       "      <td>중부</td>\n",
       "      <td>절도</td>\n",
       "      <td>발생</td>\n",
       "      <td>601</td>\n",
       "      <td>2000</td>\n",
       "    </tr>\n",
       "    <tr>\n",
       "      <td>4</td>\n",
       "      <td>8</td>\n",
       "      <td>중부</td>\n",
       "      <td>폭력</td>\n",
       "      <td>발생</td>\n",
       "      <td>1783</td>\n",
       "      <td>2000</td>\n",
       "    </tr>\n",
       "  </tbody>\n",
       "</table>\n",
       "</div>"
      ],
      "text/plain": [
       "   index area type arrest  frequency  year\n",
       "0      0   중부   살인     발생          1  2000\n",
       "1      2   중부   강도     발생         17  2000\n",
       "2      4   중부   강간     발생         14  2000\n",
       "3      6   중부   절도     발생        601  2000\n",
       "4      8   중부   폭력     발생       1783  2000"
      ]
     },
     "execution_count": 19,
     "metadata": {},
     "output_type": "execute_result"
    }
   ],
   "source": [
    "incidence.head()"
   ]
  },
  {
   "cell_type": "code",
   "execution_count": 20,
   "metadata": {},
   "outputs": [],
   "source": [
    "incidence = incidence[incidence.columns.difference(['index'])]"
   ]
  },
  {
   "cell_type": "code",
   "execution_count": 21,
   "metadata": {},
   "outputs": [
    {
     "data": {
      "text/html": [
       "<div>\n",
       "<style scoped>\n",
       "    .dataframe tbody tr th:only-of-type {\n",
       "        vertical-align: middle;\n",
       "    }\n",
       "\n",
       "    .dataframe tbody tr th {\n",
       "        vertical-align: top;\n",
       "    }\n",
       "\n",
       "    .dataframe thead th {\n",
       "        text-align: right;\n",
       "    }\n",
       "</style>\n",
       "<table border=\"1\" class=\"dataframe\">\n",
       "  <thead>\n",
       "    <tr style=\"text-align: right;\">\n",
       "      <th></th>\n",
       "      <th>area</th>\n",
       "      <th>arrest</th>\n",
       "      <th>frequency</th>\n",
       "      <th>type</th>\n",
       "      <th>year</th>\n",
       "    </tr>\n",
       "  </thead>\n",
       "  <tbody>\n",
       "    <tr>\n",
       "      <td>0</td>\n",
       "      <td>중부</td>\n",
       "      <td>발생</td>\n",
       "      <td>1</td>\n",
       "      <td>살인</td>\n",
       "      <td>2000</td>\n",
       "    </tr>\n",
       "    <tr>\n",
       "      <td>1</td>\n",
       "      <td>중부</td>\n",
       "      <td>발생</td>\n",
       "      <td>17</td>\n",
       "      <td>강도</td>\n",
       "      <td>2000</td>\n",
       "    </tr>\n",
       "    <tr>\n",
       "      <td>2</td>\n",
       "      <td>중부</td>\n",
       "      <td>발생</td>\n",
       "      <td>14</td>\n",
       "      <td>강간</td>\n",
       "      <td>2000</td>\n",
       "    </tr>\n",
       "    <tr>\n",
       "      <td>3</td>\n",
       "      <td>중부</td>\n",
       "      <td>발생</td>\n",
       "      <td>601</td>\n",
       "      <td>절도</td>\n",
       "      <td>2000</td>\n",
       "    </tr>\n",
       "    <tr>\n",
       "      <td>4</td>\n",
       "      <td>중부</td>\n",
       "      <td>발생</td>\n",
       "      <td>1783</td>\n",
       "      <td>폭력</td>\n",
       "      <td>2000</td>\n",
       "    </tr>\n",
       "  </tbody>\n",
       "</table>\n",
       "</div>"
      ],
      "text/plain": [
       "  area arrest  frequency type  year\n",
       "0   중부     발생          1   살인  2000\n",
       "1   중부     발생         17   강도  2000\n",
       "2   중부     발생         14   강간  2000\n",
       "3   중부     발생        601   절도  2000\n",
       "4   중부     발생       1783   폭력  2000"
      ]
     },
     "execution_count": 21,
     "metadata": {},
     "output_type": "execute_result"
    }
   ],
   "source": [
    "incidence.head()"
   ]
  },
  {
   "cell_type": "markdown",
   "metadata": {},
   "source": [
    "#### 범죄 검거"
   ]
  },
  {
   "cell_type": "code",
   "execution_count": 22,
   "metadata": {},
   "outputs": [
    {
     "name": "stdout",
     "output_type": "stream",
     "text": [
      "   area type arrest  frequency  year\n",
      "1    중부   살인     검거          1  2000\n",
      "3    중부   강도     검거         15  2000\n",
      "5    중부   강간     검거         14  2000\n",
      "7    중부   절도     검거        569  2000\n",
      "9    중부   폭력     검거       1762  2000\n",
      "11   종로   살인     검거          4  2000\n",
      "13   종로   강도     검거         36  2000\n",
      "15   종로   강간     검거         18  2000\n",
      "17   종로   절도     검거        385  2000\n",
      "19   종로   폭력     검거       1830  2000\n",
      "2945\n"
     ]
    }
   ],
   "source": [
    "arrest = crime[crime.arrest =='검거']\n",
    "print(arrest.head(10))\n",
    "print(len(arrest))"
   ]
  },
  {
   "cell_type": "code",
   "execution_count": 23,
   "metadata": {},
   "outputs": [
    {
     "data": {
      "text/html": [
       "<div>\n",
       "<style scoped>\n",
       "    .dataframe tbody tr th:only-of-type {\n",
       "        vertical-align: middle;\n",
       "    }\n",
       "\n",
       "    .dataframe tbody tr th {\n",
       "        vertical-align: top;\n",
       "    }\n",
       "\n",
       "    .dataframe thead th {\n",
       "        text-align: right;\n",
       "    }\n",
       "</style>\n",
       "<table border=\"1\" class=\"dataframe\">\n",
       "  <thead>\n",
       "    <tr style=\"text-align: right;\">\n",
       "      <th></th>\n",
       "      <th>area</th>\n",
       "      <th>arrest</th>\n",
       "      <th>frequency</th>\n",
       "      <th>type</th>\n",
       "      <th>year</th>\n",
       "    </tr>\n",
       "  </thead>\n",
       "  <tbody>\n",
       "    <tr>\n",
       "      <td>0</td>\n",
       "      <td>중부</td>\n",
       "      <td>검거</td>\n",
       "      <td>1</td>\n",
       "      <td>살인</td>\n",
       "      <td>2000</td>\n",
       "    </tr>\n",
       "    <tr>\n",
       "      <td>1</td>\n",
       "      <td>중부</td>\n",
       "      <td>검거</td>\n",
       "      <td>15</td>\n",
       "      <td>강도</td>\n",
       "      <td>2000</td>\n",
       "    </tr>\n",
       "    <tr>\n",
       "      <td>2</td>\n",
       "      <td>중부</td>\n",
       "      <td>검거</td>\n",
       "      <td>14</td>\n",
       "      <td>강간</td>\n",
       "      <td>2000</td>\n",
       "    </tr>\n",
       "    <tr>\n",
       "      <td>3</td>\n",
       "      <td>중부</td>\n",
       "      <td>검거</td>\n",
       "      <td>569</td>\n",
       "      <td>절도</td>\n",
       "      <td>2000</td>\n",
       "    </tr>\n",
       "    <tr>\n",
       "      <td>4</td>\n",
       "      <td>중부</td>\n",
       "      <td>검거</td>\n",
       "      <td>1762</td>\n",
       "      <td>폭력</td>\n",
       "      <td>2000</td>\n",
       "    </tr>\n",
       "  </tbody>\n",
       "</table>\n",
       "</div>"
      ],
      "text/plain": [
       "  area arrest  frequency type  year\n",
       "0   중부     검거          1   살인  2000\n",
       "1   중부     검거         15   강도  2000\n",
       "2   중부     검거         14   강간  2000\n",
       "3   중부     검거        569   절도  2000\n",
       "4   중부     검거       1762   폭력  2000"
      ]
     },
     "execution_count": 23,
     "metadata": {},
     "output_type": "execute_result"
    }
   ],
   "source": [
    "arrest.reset_index(inplace=True)\n",
    "arrest = arrest[arrest.columns.difference(['index'])]\n",
    "arrest.head()"
   ]
  },
  {
   "cell_type": "markdown",
   "metadata": {},
   "source": [
    "### 3. Data Processing \n",
    "https://rfriend.tistory.com/275"
   ]
  },
  {
   "cell_type": "markdown",
   "metadata": {},
   "source": [
    "#### 3.1 지역별 범죄 발생"
   ]
  },
  {
   "cell_type": "code",
   "execution_count": 24,
   "metadata": {},
   "outputs": [
    {
     "name": "stdout",
     "output_type": "stream",
     "text": [
      "<class 'pandas.core.frame.DataFrame'>\n",
      "Int64Index: 5890 entries, 0 to 919025\n",
      "Data columns (total 5 columns):\n",
      "area         5890 non-null object\n",
      "type         5890 non-null object\n",
      "arrest       5890 non-null object\n",
      "frequency    5890 non-null int32\n",
      "year         5890 non-null int64\n",
      "dtypes: int32(1), int64(1), object(3)\n",
      "memory usage: 253.1+ KB\n"
     ]
    }
   ],
   "source": [
    "crime.info()"
   ]
  },
  {
   "cell_type": "code",
   "execution_count": 25,
   "metadata": {},
   "outputs": [
    {
     "data": {
      "text/html": [
       "<div>\n",
       "<style scoped>\n",
       "    .dataframe tbody tr th:only-of-type {\n",
       "        vertical-align: middle;\n",
       "    }\n",
       "\n",
       "    .dataframe tbody tr th {\n",
       "        vertical-align: top;\n",
       "    }\n",
       "\n",
       "    .dataframe thead th {\n",
       "        text-align: right;\n",
       "    }\n",
       "</style>\n",
       "<table border=\"1\" class=\"dataframe\">\n",
       "  <thead>\n",
       "    <tr style=\"text-align: right;\">\n",
       "      <th>type</th>\n",
       "      <th>강간</th>\n",
       "      <th>강도</th>\n",
       "      <th>살인</th>\n",
       "      <th>절도</th>\n",
       "      <th>폭력</th>\n",
       "    </tr>\n",
       "    <tr>\n",
       "      <th>area</th>\n",
       "      <th></th>\n",
       "      <th></th>\n",
       "      <th></th>\n",
       "      <th></th>\n",
       "      <th></th>\n",
       "    </tr>\n",
       "  </thead>\n",
       "  <tbody>\n",
       "    <tr>\n",
       "      <td>강남</td>\n",
       "      <td>4400</td>\n",
       "      <td>1418</td>\n",
       "      <td>139</td>\n",
       "      <td>41710</td>\n",
       "      <td>60534</td>\n",
       "    </tr>\n",
       "    <tr>\n",
       "      <td>강동</td>\n",
       "      <td>2386</td>\n",
       "      <td>828</td>\n",
       "      <td>130</td>\n",
       "      <td>31537</td>\n",
       "      <td>57113</td>\n",
       "    </tr>\n",
       "    <tr>\n",
       "      <td>강북</td>\n",
       "      <td>2522</td>\n",
       "      <td>779</td>\n",
       "      <td>142</td>\n",
       "      <td>22637</td>\n",
       "      <td>50874</td>\n",
       "    </tr>\n",
       "    <tr>\n",
       "      <td>강서</td>\n",
       "      <td>3300</td>\n",
       "      <td>1014</td>\n",
       "      <td>201</td>\n",
       "      <td>38363</td>\n",
       "      <td>65401</td>\n",
       "    </tr>\n",
       "    <tr>\n",
       "      <td>관악</td>\n",
       "      <td>4942</td>\n",
       "      <td>912</td>\n",
       "      <td>152</td>\n",
       "      <td>42667</td>\n",
       "      <td>61293</td>\n",
       "    </tr>\n",
       "  </tbody>\n",
       "</table>\n",
       "</div>"
      ],
      "text/plain": [
       "type    강간    강도   살인     절도     폭력\n",
       "area                               \n",
       "강남    4400  1418  139  41710  60534\n",
       "강동    2386   828  130  31537  57113\n",
       "강북    2522   779  142  22637  50874\n",
       "강서    3300  1014  201  38363  65401\n",
       "관악    4942   912  152  42667  61293"
      ]
     },
     "execution_count": 25,
     "metadata": {},
     "output_type": "execute_result"
    }
   ],
   "source": [
    "incidence_area_type = incidence.pivot_table(index='area', \n",
    "                    columns='type', \n",
    "                    values='frequency',\n",
    "                     aggfunc='sum') #aggfunc default = mean \n",
    "incidence_area_type.head()"
   ]
  },
  {
   "cell_type": "code",
   "execution_count": 26,
   "metadata": {},
   "outputs": [
    {
     "data": {
      "text/html": [
       "<div>\n",
       "<style scoped>\n",
       "    .dataframe tbody tr th:only-of-type {\n",
       "        vertical-align: middle;\n",
       "    }\n",
       "\n",
       "    .dataframe tbody tr th {\n",
       "        vertical-align: top;\n",
       "    }\n",
       "\n",
       "    .dataframe thead th {\n",
       "        text-align: right;\n",
       "    }\n",
       "</style>\n",
       "<table border=\"1\" class=\"dataframe\">\n",
       "  <thead>\n",
       "    <tr style=\"text-align: right;\">\n",
       "      <th>type</th>\n",
       "      <th>강간</th>\n",
       "      <th>강도</th>\n",
       "      <th>살인</th>\n",
       "      <th>절도</th>\n",
       "      <th>폭력</th>\n",
       "      <th>합계</th>\n",
       "    </tr>\n",
       "    <tr>\n",
       "      <th>area</th>\n",
       "      <th></th>\n",
       "      <th></th>\n",
       "      <th></th>\n",
       "      <th></th>\n",
       "      <th></th>\n",
       "      <th></th>\n",
       "    </tr>\n",
       "  </thead>\n",
       "  <tbody>\n",
       "    <tr>\n",
       "      <td>강남</td>\n",
       "      <td>4400</td>\n",
       "      <td>1418</td>\n",
       "      <td>139</td>\n",
       "      <td>41710</td>\n",
       "      <td>60534</td>\n",
       "      <td>108201</td>\n",
       "    </tr>\n",
       "    <tr>\n",
       "      <td>강동</td>\n",
       "      <td>2386</td>\n",
       "      <td>828</td>\n",
       "      <td>130</td>\n",
       "      <td>31537</td>\n",
       "      <td>57113</td>\n",
       "      <td>91994</td>\n",
       "    </tr>\n",
       "    <tr>\n",
       "      <td>강북</td>\n",
       "      <td>2522</td>\n",
       "      <td>779</td>\n",
       "      <td>142</td>\n",
       "      <td>22637</td>\n",
       "      <td>50874</td>\n",
       "      <td>76954</td>\n",
       "    </tr>\n",
       "    <tr>\n",
       "      <td>강서</td>\n",
       "      <td>3300</td>\n",
       "      <td>1014</td>\n",
       "      <td>201</td>\n",
       "      <td>38363</td>\n",
       "      <td>65401</td>\n",
       "      <td>108279</td>\n",
       "    </tr>\n",
       "    <tr>\n",
       "      <td>관악</td>\n",
       "      <td>4942</td>\n",
       "      <td>912</td>\n",
       "      <td>152</td>\n",
       "      <td>42667</td>\n",
       "      <td>61293</td>\n",
       "      <td>109966</td>\n",
       "    </tr>\n",
       "  </tbody>\n",
       "</table>\n",
       "</div>"
      ],
      "text/plain": [
       "type    강간    강도   살인     절도     폭력      합계\n",
       "area                                       \n",
       "강남    4400  1418  139  41710  60534  108201\n",
       "강동    2386   828  130  31537  57113   91994\n",
       "강북    2522   779  142  22637  50874   76954\n",
       "강서    3300  1014  201  38363  65401  108279\n",
       "관악    4942   912  152  42667  61293  109966"
      ]
     },
     "execution_count": 26,
     "metadata": {},
     "output_type": "execute_result"
    }
   ],
   "source": [
    "incidence_area_type['합계'] = incidence_area_type.sum(axis=1)\n",
    "incidence_area_type.head()"
   ]
  },
  {
   "cell_type": "markdown",
   "metadata": {},
   "source": [
    "#### **[Graph] 경찰서별 총 범죄 발생 횟수**"
   ]
  },
  {
   "cell_type": "code",
   "execution_count": 27,
   "metadata": {},
   "outputs": [],
   "source": [
    "incidence_sum_area = pd.DataFrame(incidence_area_type.iloc[:,5]) # 합계 "
   ]
  },
  {
   "cell_type": "code",
   "execution_count": 28,
   "metadata": {},
   "outputs": [
    {
     "data": {
      "text/html": [
       "<div>\n",
       "<style scoped>\n",
       "    .dataframe tbody tr th:only-of-type {\n",
       "        vertical-align: middle;\n",
       "    }\n",
       "\n",
       "    .dataframe tbody tr th {\n",
       "        vertical-align: top;\n",
       "    }\n",
       "\n",
       "    .dataframe thead th {\n",
       "        text-align: right;\n",
       "    }\n",
       "</style>\n",
       "<table border=\"1\" class=\"dataframe\">\n",
       "  <thead>\n",
       "    <tr style=\"text-align: right;\">\n",
       "      <th></th>\n",
       "      <th>합계</th>\n",
       "    </tr>\n",
       "    <tr>\n",
       "      <th>area</th>\n",
       "      <th></th>\n",
       "    </tr>\n",
       "  </thead>\n",
       "  <tbody>\n",
       "    <tr>\n",
       "      <td>강남</td>\n",
       "      <td>108201</td>\n",
       "    </tr>\n",
       "    <tr>\n",
       "      <td>강동</td>\n",
       "      <td>91994</td>\n",
       "    </tr>\n",
       "    <tr>\n",
       "      <td>강북</td>\n",
       "      <td>76954</td>\n",
       "    </tr>\n",
       "    <tr>\n",
       "      <td>강서</td>\n",
       "      <td>108279</td>\n",
       "    </tr>\n",
       "    <tr>\n",
       "      <td>관악</td>\n",
       "      <td>109966</td>\n",
       "    </tr>\n",
       "  </tbody>\n",
       "</table>\n",
       "</div>"
      ],
      "text/plain": [
       "          합계\n",
       "area        \n",
       "강남    108201\n",
       "강동     91994\n",
       "강북     76954\n",
       "강서    108279\n",
       "관악    109966"
      ]
     },
     "execution_count": 28,
     "metadata": {},
     "output_type": "execute_result"
    }
   ],
   "source": [
    "incidence_sum_area.head()"
   ]
  },
  {
   "cell_type": "code",
   "execution_count": 29,
   "metadata": {
    "scrolled": true
   },
   "outputs": [
    {
     "data": {
      "text/html": [
       "<div>\n",
       "<style scoped>\n",
       "    .dataframe tbody tr th:only-of-type {\n",
       "        vertical-align: middle;\n",
       "    }\n",
       "\n",
       "    .dataframe tbody tr th {\n",
       "        vertical-align: top;\n",
       "    }\n",
       "\n",
       "    .dataframe thead th {\n",
       "        text-align: right;\n",
       "    }\n",
       "</style>\n",
       "<table border=\"1\" class=\"dataframe\">\n",
       "  <thead>\n",
       "    <tr style=\"text-align: right;\">\n",
       "      <th></th>\n",
       "      <th>area</th>\n",
       "      <th>합계</th>\n",
       "    </tr>\n",
       "  </thead>\n",
       "  <tbody>\n",
       "    <tr>\n",
       "      <td>0</td>\n",
       "      <td>강남</td>\n",
       "      <td>108201</td>\n",
       "    </tr>\n",
       "    <tr>\n",
       "      <td>1</td>\n",
       "      <td>강동</td>\n",
       "      <td>91994</td>\n",
       "    </tr>\n",
       "    <tr>\n",
       "      <td>2</td>\n",
       "      <td>강북</td>\n",
       "      <td>76954</td>\n",
       "    </tr>\n",
       "    <tr>\n",
       "      <td>3</td>\n",
       "      <td>강서</td>\n",
       "      <td>108279</td>\n",
       "    </tr>\n",
       "    <tr>\n",
       "      <td>4</td>\n",
       "      <td>관악</td>\n",
       "      <td>109966</td>\n",
       "    </tr>\n",
       "  </tbody>\n",
       "</table>\n",
       "</div>"
      ],
      "text/plain": [
       "  area      합계\n",
       "0   강남  108201\n",
       "1   강동   91994\n",
       "2   강북   76954\n",
       "3   강서  108279\n",
       "4   관악  109966"
      ]
     },
     "execution_count": 29,
     "metadata": {},
     "output_type": "execute_result"
    }
   ],
   "source": [
    "incidence_sum_area.reset_index(inplace=True)\n",
    "incidence_sum_area.head()"
   ]
  },
  {
   "cell_type": "code",
   "execution_count": 30,
   "metadata": {},
   "outputs": [],
   "source": [
    "incidence_sum_area = incidence_sum_area.sort_values('합계', ascending = False)"
   ]
  },
  {
   "cell_type": "code",
   "execution_count": 181,
   "metadata": {},
   "outputs": [
    {
     "data": {
      "image/png": "[encoded data removed]",
      "text/plain": [
       "<Figure size 864x576 with 1 Axes>"
      ]
     },
     "metadata": {
      "needs_background": "light"
     },
     "output_type": "display_data"
    }
   ],
   "source": [
    "plt.figure(figsize=(12,8))\n",
    "sns.set_color_codes('pastel')\n",
    "plot = sns.barplot(x = 'area', y = '합계', color='b',data = incidence_sum_area)\n",
    "plot.set_xticklabels(plot.get_xticklabels(), rotation=45,\n",
    "                  horizontalalignment='right',\n",
    "                  fontweight='light',\n",
    "                  fontsize='x-small')\n",
    "plt.xlabel('관서')\n",
    "plt.title('서울시내 관서 5대 범죄 발생 건수')\n",
    "\n",
    "plt.show()"
   ]
  },
  {
   "cell_type": "markdown",
   "metadata": {},
   "source": [
    "#### **[Graph] 경찰서별 5대 범죄별 발생 횟수**"
   ]
  },
  {
   "cell_type": "code",
   "execution_count": 32,
   "metadata": {},
   "outputs": [],
   "source": [
    "incidence_area_type.head()\n",
    "incidence_area_type.sort_values(by='합계',ascending=False, inplace=True)"
   ]
  },
  {
   "cell_type": "code",
   "execution_count": 33,
   "metadata": {},
   "outputs": [
    {
     "data": {
      "text/plain": [
       "(array([ 0,  1,  2,  3,  4,  5,  6,  7,  8,  9, 10, 11, 12, 13, 14, 15, 16,\n",
       "        17, 18, 19, 20, 21, 22, 23, 24, 25, 26, 27, 28, 29, 30]),\n",
       " <a list of 31 Text xticklabel objects>)"
      ]
     },
     "execution_count": 33,
     "metadata": {},
     "output_type": "execute_result"
    },
    {
     "data": {
      "image/png": "[encoded data removed]",
      "text/plain": [
       "<Figure size 1080x648 with 1 Axes>"
      ]
     },
     "metadata": {
      "needs_background": "light"
     },
     "output_type": "display_data"
    }
   ],
   "source": [
    "colors = ['#FF9999', '#00BFFF','#C1FFC1','#CAE1FF','#FFDEAD']\n",
    "rape = incidence_area_type['강간']\n",
    "burglar=incidence_area_type['강도']\n",
    "murder = incidence_area_type['살인']\n",
    "theft = incidence_area_type['절도']\n",
    "violence = incidence_area_type['폭력']\n",
    "\n",
    "r = range(len(incidence_area_type))\n",
    "\n",
    "barWidth = 1\n",
    "#plot bars\n",
    "plt.figure(figsize=(15,9))\n",
    "plt.bar(r, rape, color=colors[0], edgecolor='white', width=barWidth, label=\"강간\")\n",
    "plt.bar(r, burglar, bottom=np.array(rape), color=colors[1], edgecolor='white', width=barWidth, label='강도')\n",
    "plt.bar(r, murder, bottom=np.array(rape)+np.array(burglar), color=colors[2], edgecolor='white', width=barWidth, label='살인')\n",
    "plt.bar(r, theft, bottom=np.array(rape)+np.array(burglar)+np.array(murder), color=colors[3], edgecolor='white', width=barWidth, label='절도')\n",
    "plt.bar(r, violence, bottom=np.array(rape)+np.array(burglar)+np.array(murder)+np.array(theft), color=colors[4], edgecolor='white', width=barWidth, label='폭력')\n",
    "plt.xlabel('경찰서')\n",
    "plt.ylabel('범죄 발생 건수')\n",
    "plt.title('관서별 죄목별 범죄 발생 건수')\n",
    "plt.legend()\n",
    "plt.savefig('fig1.png', dpi=300)\n",
    "\n",
    "\n",
    "plt.xticks(r, list(incidence_area_type.index), fontweight='bold')\n",
    "plt.xticks(rotation=45) "
   ]
  },
  {
   "cell_type": "markdown",
   "metadata": {},
   "source": [
    "#### 3.2 년도별 범죄 발생 횟수"
   ]
  },
  {
   "cell_type": "code",
   "execution_count": 34,
   "metadata": {},
   "outputs": [
    {
     "data": {
      "text/html": [
       "<div>\n",
       "<style scoped>\n",
       "    .dataframe tbody tr th:only-of-type {\n",
       "        vertical-align: middle;\n",
       "    }\n",
       "\n",
       "    .dataframe tbody tr th {\n",
       "        vertical-align: top;\n",
       "    }\n",
       "\n",
       "    .dataframe thead th {\n",
       "        text-align: right;\n",
       "    }\n",
       "</style>\n",
       "<table border=\"1\" class=\"dataframe\">\n",
       "  <thead>\n",
       "    <tr style=\"text-align: right;\">\n",
       "      <th>type</th>\n",
       "      <th>강간</th>\n",
       "      <th>강도</th>\n",
       "      <th>살인</th>\n",
       "      <th>절도</th>\n",
       "      <th>폭력</th>\n",
       "    </tr>\n",
       "    <tr>\n",
       "      <th>year</th>\n",
       "      <th></th>\n",
       "      <th></th>\n",
       "      <th></th>\n",
       "      <th></th>\n",
       "      <th></th>\n",
       "    </tr>\n",
       "  </thead>\n",
       "  <tbody>\n",
       "    <tr>\n",
       "      <td>2000</td>\n",
       "      <td>1554</td>\n",
       "      <td>1400</td>\n",
       "      <td>167</td>\n",
       "      <td>36025</td>\n",
       "      <td>96931</td>\n",
       "    </tr>\n",
       "    <tr>\n",
       "      <td>2001</td>\n",
       "      <td>2186</td>\n",
       "      <td>1873</td>\n",
       "      <td>203</td>\n",
       "      <td>52227</td>\n",
       "      <td>98991</td>\n",
       "    </tr>\n",
       "    <tr>\n",
       "      <td>2002</td>\n",
       "      <td>1860</td>\n",
       "      <td>2138</td>\n",
       "      <td>168</td>\n",
       "      <td>61699</td>\n",
       "      <td>81837</td>\n",
       "    </tr>\n",
       "    <tr>\n",
       "      <td>2003</td>\n",
       "      <td>2100</td>\n",
       "      <td>2840</td>\n",
       "      <td>175</td>\n",
       "      <td>57707</td>\n",
       "      <td>81910</td>\n",
       "    </tr>\n",
       "    <tr>\n",
       "      <td>2004</td>\n",
       "      <td>2974</td>\n",
       "      <td>1660</td>\n",
       "      <td>228</td>\n",
       "      <td>36193</td>\n",
       "      <td>80360</td>\n",
       "    </tr>\n",
       "  </tbody>\n",
       "</table>\n",
       "</div>"
      ],
      "text/plain": [
       "type    강간    강도   살인     절도     폭력\n",
       "year                               \n",
       "2000  1554  1400  167  36025  96931\n",
       "2001  2186  1873  203  52227  98991\n",
       "2002  1860  2138  168  61699  81837\n",
       "2003  2100  2840  175  57707  81910\n",
       "2004  2974  1660  228  36193  80360"
      ]
     },
     "execution_count": 34,
     "metadata": {},
     "output_type": "execute_result"
    }
   ],
   "source": [
    "incidence_year_type = incidence.pivot_table(index='year', \n",
    "                    columns='type', \n",
    "                    values='frequency',\n",
    "                     aggfunc='sum') #aggfunc default = mean \n",
    "incidence_year_type.head()"
   ]
  },
  {
   "cell_type": "code",
   "execution_count": 35,
   "metadata": {},
   "outputs": [
    {
     "data": {
      "text/html": [
       "<div>\n",
       "<style scoped>\n",
       "    .dataframe tbody tr th:only-of-type {\n",
       "        vertical-align: middle;\n",
       "    }\n",
       "\n",
       "    .dataframe tbody tr th {\n",
       "        vertical-align: top;\n",
       "    }\n",
       "\n",
       "    .dataframe thead th {\n",
       "        text-align: right;\n",
       "    }\n",
       "</style>\n",
       "<table border=\"1\" class=\"dataframe\">\n",
       "  <thead>\n",
       "    <tr style=\"text-align: right;\">\n",
       "      <th>type</th>\n",
       "      <th>강간</th>\n",
       "      <th>강도</th>\n",
       "      <th>살인</th>\n",
       "      <th>절도</th>\n",
       "      <th>폭력</th>\n",
       "      <th>합계</th>\n",
       "    </tr>\n",
       "    <tr>\n",
       "      <th>year</th>\n",
       "      <th></th>\n",
       "      <th></th>\n",
       "      <th></th>\n",
       "      <th></th>\n",
       "      <th></th>\n",
       "      <th></th>\n",
       "    </tr>\n",
       "  </thead>\n",
       "  <tbody>\n",
       "    <tr>\n",
       "      <td>2000</td>\n",
       "      <td>1554</td>\n",
       "      <td>1400</td>\n",
       "      <td>167</td>\n",
       "      <td>36025</td>\n",
       "      <td>96931</td>\n",
       "      <td>136077</td>\n",
       "    </tr>\n",
       "    <tr>\n",
       "      <td>2001</td>\n",
       "      <td>2186</td>\n",
       "      <td>1873</td>\n",
       "      <td>203</td>\n",
       "      <td>52227</td>\n",
       "      <td>98991</td>\n",
       "      <td>155480</td>\n",
       "    </tr>\n",
       "    <tr>\n",
       "      <td>2002</td>\n",
       "      <td>1860</td>\n",
       "      <td>2138</td>\n",
       "      <td>168</td>\n",
       "      <td>61699</td>\n",
       "      <td>81837</td>\n",
       "      <td>147702</td>\n",
       "    </tr>\n",
       "    <tr>\n",
       "      <td>2003</td>\n",
       "      <td>2100</td>\n",
       "      <td>2840</td>\n",
       "      <td>175</td>\n",
       "      <td>57707</td>\n",
       "      <td>81910</td>\n",
       "      <td>144732</td>\n",
       "    </tr>\n",
       "    <tr>\n",
       "      <td>2004</td>\n",
       "      <td>2974</td>\n",
       "      <td>1660</td>\n",
       "      <td>228</td>\n",
       "      <td>36193</td>\n",
       "      <td>80360</td>\n",
       "      <td>121415</td>\n",
       "    </tr>\n",
       "  </tbody>\n",
       "</table>\n",
       "</div>"
      ],
      "text/plain": [
       "type    강간    강도   살인     절도     폭력      합계\n",
       "year                                       \n",
       "2000  1554  1400  167  36025  96931  136077\n",
       "2001  2186  1873  203  52227  98991  155480\n",
       "2002  1860  2138  168  61699  81837  147702\n",
       "2003  2100  2840  175  57707  81910  144732\n",
       "2004  2974  1660  228  36193  80360  121415"
      ]
     },
     "execution_count": 35,
     "metadata": {},
     "output_type": "execute_result"
    }
   ],
   "source": [
    "incidence_year_type['합계'] = incidence_year_type.sum(axis=1)\n",
    "incidence_year_type.head()"
   ]
  },
  {
   "cell_type": "code",
   "execution_count": 36,
   "metadata": {},
   "outputs": [
    {
     "data": {
      "text/html": [
       "<div>\n",
       "<style scoped>\n",
       "    .dataframe tbody tr th:only-of-type {\n",
       "        vertical-align: middle;\n",
       "    }\n",
       "\n",
       "    .dataframe tbody tr th {\n",
       "        vertical-align: top;\n",
       "    }\n",
       "\n",
       "    .dataframe thead th {\n",
       "        text-align: right;\n",
       "    }\n",
       "</style>\n",
       "<table border=\"1\" class=\"dataframe\">\n",
       "  <thead>\n",
       "    <tr style=\"text-align: right;\">\n",
       "      <th>type</th>\n",
       "      <th>year</th>\n",
       "      <th>강간</th>\n",
       "      <th>강도</th>\n",
       "      <th>살인</th>\n",
       "      <th>절도</th>\n",
       "      <th>폭력</th>\n",
       "      <th>합계</th>\n",
       "    </tr>\n",
       "  </thead>\n",
       "  <tbody>\n",
       "    <tr>\n",
       "      <td>0</td>\n",
       "      <td>2000</td>\n",
       "      <td>1554</td>\n",
       "      <td>1400</td>\n",
       "      <td>167</td>\n",
       "      <td>36025</td>\n",
       "      <td>96931</td>\n",
       "      <td>136077</td>\n",
       "    </tr>\n",
       "    <tr>\n",
       "      <td>1</td>\n",
       "      <td>2001</td>\n",
       "      <td>2186</td>\n",
       "      <td>1873</td>\n",
       "      <td>203</td>\n",
       "      <td>52227</td>\n",
       "      <td>98991</td>\n",
       "      <td>155480</td>\n",
       "    </tr>\n",
       "    <tr>\n",
       "      <td>2</td>\n",
       "      <td>2002</td>\n",
       "      <td>1860</td>\n",
       "      <td>2138</td>\n",
       "      <td>168</td>\n",
       "      <td>61699</td>\n",
       "      <td>81837</td>\n",
       "      <td>147702</td>\n",
       "    </tr>\n",
       "    <tr>\n",
       "      <td>3</td>\n",
       "      <td>2003</td>\n",
       "      <td>2100</td>\n",
       "      <td>2840</td>\n",
       "      <td>175</td>\n",
       "      <td>57707</td>\n",
       "      <td>81910</td>\n",
       "      <td>144732</td>\n",
       "    </tr>\n",
       "    <tr>\n",
       "      <td>4</td>\n",
       "      <td>2004</td>\n",
       "      <td>2974</td>\n",
       "      <td>1660</td>\n",
       "      <td>228</td>\n",
       "      <td>36193</td>\n",
       "      <td>80360</td>\n",
       "      <td>121415</td>\n",
       "    </tr>\n",
       "  </tbody>\n",
       "</table>\n",
       "</div>"
      ],
      "text/plain": [
       "type  year    강간    강도   살인     절도     폭력      합계\n",
       "0     2000  1554  1400  167  36025  96931  136077\n",
       "1     2001  2186  1873  203  52227  98991  155480\n",
       "2     2002  1860  2138  168  61699  81837  147702\n",
       "3     2003  2100  2840  175  57707  81910  144732\n",
       "4     2004  2974  1660  228  36193  80360  121415"
      ]
     },
     "execution_count": 36,
     "metadata": {},
     "output_type": "execute_result"
    }
   ],
   "source": [
    "incidence_year_type.reset_index(inplace=True)\n",
    "incidence_year_type.head()"
   ]
  },
  {
   "cell_type": "markdown",
   "metadata": {},
   "source": [
    "* 참고: ploting unstaked table\n",
    "incidence_year_type.plot(figsize=(16, 9), title='Crime Incidence by Year');\n",
    "plt.ticklabel_format(style='plain', axis='y')"
   ]
  },
  {
   "cell_type": "code",
   "execution_count": 39,
   "metadata": {},
   "outputs": [
    {
     "data": {
      "text/plain": [
       "[2000,\n",
       " 2001,\n",
       " 2002,\n",
       " 2003,\n",
       " 2004,\n",
       " 2005,\n",
       " 2006,\n",
       " 2007,\n",
       " 2008,\n",
       " 2009,\n",
       " 2010,\n",
       " 2011,\n",
       " 2012,\n",
       " 2013,\n",
       " 2014,\n",
       " 2015,\n",
       " 2016,\n",
       " 2017,\n",
       " 2018]"
      ]
     },
     "execution_count": 39,
     "metadata": {},
     "output_type": "execute_result"
    }
   ],
   "source": [
    "list(incidence_year_type.year)"
   ]
  },
  {
   "cell_type": "code",
   "execution_count": 40,
   "metadata": {},
   "outputs": [
    {
     "data": {
      "image/png": "[encoded data removed]",
      "text/plain": [
       "<Figure size 720x504 with 1 Axes>"
      ]
     },
     "metadata": {
      "needs_background": "light"
     },
     "output_type": "display_data"
    }
   ],
   "source": [
    "plt.figure(figsize=(10,7))\n",
    "plt.plot(list(incidence_year_type.year), incidence_year_type['강간'], marker='s', color='r', label='강간',linestyle='--', linewidth=2)\n",
    "plt.plot(list(incidence_year_type.year), incidence_year_type['강도'], marker='o', color='g',label='강도',linestyle='-', linewidth=2)\n",
    "plt.plot(list(incidence_year_type.year), incidence_year_type['살인'], marker='*', color='b',label='살인',linestyle=':', linewidth=2)\n",
    "plt.plot(list(incidence_year_type.year), incidence_year_type['절도'], marker='D', color='m', linestyle='-', linewidth=2, label='절도')\n",
    "plt.plot(list(incidence_year_type.year), incidence_year_type['폭력'], marker='p', color='k',linestyle=':', linewidth=2,label='폭력')\n",
    "plt.title('서울시내 연도별 5대 범죄 발생 횟수')\n",
    "plt.ylabel('발생 횟수')\n",
    "plt.xlabel('년도')\n",
    "plt.legend()\n",
    "\n",
    "plt.show()"
   ]
  },
  {
   "cell_type": "code",
   "execution_count": 67,
   "metadata": {},
   "outputs": [
    {
     "name": "stderr",
     "output_type": "stream",
     "text": [
      "No handles with labels found to put in legend.\n"
     ]
    },
    {
     "data": {
      "text/plain": [
       "<matplotlib.legend.Legend at 0x1a2cf6c850>"
      ]
     },
     "execution_count": 67,
     "metadata": {},
     "output_type": "execute_result"
    },
    {
     "data": {
      "image/png": "[encoded data removed]",
      "text/plain": [
       "<Figure size 720x504 with 1 Axes>"
      ]
     },
     "metadata": {
      "needs_background": "light"
     },
     "output_type": "display_data"
    }
   ],
   "source": [
    "plt.figure(figsize=(10,7))\n",
    "plt.plot(list(incidence_year_type.year), incidence_year_type['합계'])\n",
    "plt.title('서울시내 연도별 5대 범죄 총발생 횟수')\n",
    "plt.ylabel('발생 횟수')\n",
    "plt.xlabel('년도')\n",
    "plt.legend()"
   ]
  },
  {
   "cell_type": "markdown",
   "metadata": {},
   "source": [
    "#### 3.3 범죄 검거율 "
   ]
  },
  {
   "cell_type": "code",
   "execution_count": 41,
   "metadata": {},
   "outputs": [
    {
     "name": "stdout",
     "output_type": "stream",
     "text": [
      "  area arrest  frequency type  year\n",
      "0   중부     발생          1   살인  2000\n",
      "1   중부     발생         17   강도  2000\n",
      "2   중부     발생         14   강간  2000\n",
      "3   중부     발생        601   절도  2000\n",
      "4   중부     발생       1783   폭력  2000\n",
      "2945\n"
     ]
    }
   ],
   "source": [
    "print(incidence.head())\n",
    "print(len(incidence))"
   ]
  },
  {
   "cell_type": "code",
   "execution_count": 42,
   "metadata": {},
   "outputs": [
    {
     "name": "stdout",
     "output_type": "stream",
     "text": [
      "  area arrest  frequency type  year\n",
      "0   중부     검거          1   살인  2000\n",
      "1   중부     검거         15   강도  2000\n",
      "2   중부     검거         14   강간  2000\n",
      "3   중부     검거        569   절도  2000\n",
      "4   중부     검거       1762   폭력  2000\n",
      "2945\n"
     ]
    }
   ],
   "source": [
    "print(arrest.head())\n",
    "print(len(arrest))"
   ]
  },
  {
   "cell_type": "code",
   "execution_count": 43,
   "metadata": {},
   "outputs": [
    {
     "data": {
      "text/html": [
       "<div>\n",
       "<style scoped>\n",
       "    .dataframe tbody tr th:only-of-type {\n",
       "        vertical-align: middle;\n",
       "    }\n",
       "\n",
       "    .dataframe tbody tr th {\n",
       "        vertical-align: top;\n",
       "    }\n",
       "\n",
       "    .dataframe thead th {\n",
       "        text-align: right;\n",
       "    }\n",
       "</style>\n",
       "<table border=\"1\" class=\"dataframe\">\n",
       "  <thead>\n",
       "    <tr style=\"text-align: right;\">\n",
       "      <th></th>\n",
       "      <th>area</th>\n",
       "      <th>arrest</th>\n",
       "      <th>frequency</th>\n",
       "      <th>type</th>\n",
       "      <th>year</th>\n",
       "      <th>area</th>\n",
       "      <th>arrest</th>\n",
       "      <th>frequency</th>\n",
       "      <th>type</th>\n",
       "      <th>year</th>\n",
       "    </tr>\n",
       "  </thead>\n",
       "  <tbody>\n",
       "    <tr>\n",
       "      <td>0</td>\n",
       "      <td>중부</td>\n",
       "      <td>발생</td>\n",
       "      <td>1</td>\n",
       "      <td>살인</td>\n",
       "      <td>2000</td>\n",
       "      <td>중부</td>\n",
       "      <td>검거</td>\n",
       "      <td>1</td>\n",
       "      <td>살인</td>\n",
       "      <td>2000</td>\n",
       "    </tr>\n",
       "    <tr>\n",
       "      <td>1</td>\n",
       "      <td>중부</td>\n",
       "      <td>발생</td>\n",
       "      <td>17</td>\n",
       "      <td>강도</td>\n",
       "      <td>2000</td>\n",
       "      <td>중부</td>\n",
       "      <td>검거</td>\n",
       "      <td>15</td>\n",
       "      <td>강도</td>\n",
       "      <td>2000</td>\n",
       "    </tr>\n",
       "    <tr>\n",
       "      <td>2</td>\n",
       "      <td>중부</td>\n",
       "      <td>발생</td>\n",
       "      <td>14</td>\n",
       "      <td>강간</td>\n",
       "      <td>2000</td>\n",
       "      <td>중부</td>\n",
       "      <td>검거</td>\n",
       "      <td>14</td>\n",
       "      <td>강간</td>\n",
       "      <td>2000</td>\n",
       "    </tr>\n",
       "    <tr>\n",
       "      <td>3</td>\n",
       "      <td>중부</td>\n",
       "      <td>발생</td>\n",
       "      <td>601</td>\n",
       "      <td>절도</td>\n",
       "      <td>2000</td>\n",
       "      <td>중부</td>\n",
       "      <td>검거</td>\n",
       "      <td>569</td>\n",
       "      <td>절도</td>\n",
       "      <td>2000</td>\n",
       "    </tr>\n",
       "    <tr>\n",
       "      <td>4</td>\n",
       "      <td>중부</td>\n",
       "      <td>발생</td>\n",
       "      <td>1783</td>\n",
       "      <td>폭력</td>\n",
       "      <td>2000</td>\n",
       "      <td>중부</td>\n",
       "      <td>검거</td>\n",
       "      <td>1762</td>\n",
       "      <td>폭력</td>\n",
       "      <td>2000</td>\n",
       "    </tr>\n",
       "  </tbody>\n",
       "</table>\n",
       "</div>"
      ],
      "text/plain": [
       "  area arrest  frequency type  year area arrest  frequency type  year\n",
       "0   중부     발생          1   살인  2000   중부     검거          1   살인  2000\n",
       "1   중부     발생         17   강도  2000   중부     검거         15   강도  2000\n",
       "2   중부     발생         14   강간  2000   중부     검거         14   강간  2000\n",
       "3   중부     발생        601   절도  2000   중부     검거        569   절도  2000\n",
       "4   중부     발생       1783   폭력  2000   중부     검거       1762   폭력  2000"
      ]
     },
     "execution_count": 43,
     "metadata": {},
     "output_type": "execute_result"
    }
   ],
   "source": [
    "total = pd.concat([incidence, arrest], axis=1)\n",
    "total.head()"
   ]
  },
  {
   "cell_type": "code",
   "execution_count": 44,
   "metadata": {},
   "outputs": [
    {
     "data": {
      "text/html": [
       "<div>\n",
       "<style scoped>\n",
       "    .dataframe tbody tr th:only-of-type {\n",
       "        vertical-align: middle;\n",
       "    }\n",
       "\n",
       "    .dataframe tbody tr th {\n",
       "        vertical-align: top;\n",
       "    }\n",
       "\n",
       "    .dataframe thead th {\n",
       "        text-align: right;\n",
       "    }\n",
       "</style>\n",
       "<table border=\"1\" class=\"dataframe\">\n",
       "  <thead>\n",
       "    <tr style=\"text-align: right;\">\n",
       "      <th></th>\n",
       "      <th>지역</th>\n",
       "      <th>발생 빈도</th>\n",
       "      <th>검거 빈도</th>\n",
       "      <th>죄목</th>\n",
       "      <th>년도</th>\n",
       "    </tr>\n",
       "  </thead>\n",
       "  <tbody>\n",
       "    <tr>\n",
       "      <td>0</td>\n",
       "      <td>중부</td>\n",
       "      <td>1</td>\n",
       "      <td>1</td>\n",
       "      <td>살인</td>\n",
       "      <td>2000</td>\n",
       "    </tr>\n",
       "    <tr>\n",
       "      <td>1</td>\n",
       "      <td>중부</td>\n",
       "      <td>17</td>\n",
       "      <td>15</td>\n",
       "      <td>강도</td>\n",
       "      <td>2000</td>\n",
       "    </tr>\n",
       "    <tr>\n",
       "      <td>2</td>\n",
       "      <td>중부</td>\n",
       "      <td>14</td>\n",
       "      <td>14</td>\n",
       "      <td>강간</td>\n",
       "      <td>2000</td>\n",
       "    </tr>\n",
       "    <tr>\n",
       "      <td>3</td>\n",
       "      <td>중부</td>\n",
       "      <td>601</td>\n",
       "      <td>569</td>\n",
       "      <td>절도</td>\n",
       "      <td>2000</td>\n",
       "    </tr>\n",
       "    <tr>\n",
       "      <td>4</td>\n",
       "      <td>중부</td>\n",
       "      <td>1783</td>\n",
       "      <td>1762</td>\n",
       "      <td>폭력</td>\n",
       "      <td>2000</td>\n",
       "    </tr>\n",
       "  </tbody>\n",
       "</table>\n",
       "</div>"
      ],
      "text/plain": [
       "   지역  발생 빈도  검거 빈도  죄목    년도\n",
       "0  중부      1      1  살인  2000\n",
       "1  중부     17     15  강도  2000\n",
       "2  중부     14     14  강간  2000\n",
       "3  중부    601    569  절도  2000\n",
       "4  중부   1783   1762  폭력  2000"
      ]
     },
     "execution_count": 44,
     "metadata": {},
     "output_type": "execute_result"
    }
   ],
   "source": [
    "total.columns = ['지역','x','발생 빈도','x','x','x','x','검거 빈도','죄목','년도']\n",
    "total = total[['지역','발생 빈도','검거 빈도','죄목','년도']]\n",
    "total.head()"
   ]
  },
  {
   "cell_type": "markdown",
   "metadata": {},
   "source": [
    "**total['검거율'] = total['검거 빈도'] / total['발생 빈도']**\n",
    "----> We need to remove '0' from denominator beforehand"
   ]
  },
  {
   "cell_type": "code",
   "execution_count": 45,
   "metadata": {},
   "outputs": [
    {
     "name": "stdout",
     "output_type": "stream",
     "text": [
      "   지역  발생 빈도  검거 빈도  죄목    년도\n",
      "0  중부      1      1  살인  2000\n",
      "1  중부     17     15  강도  2000\n",
      "2  중부     14     14  강간  2000\n",
      "3  중부    601    569  절도  2000\n",
      "4  중부   1783   1762  폭력  2000\n",
      "2931\n"
     ]
    }
   ],
   "source": [
    "total = total[total['발생 빈도'] != 0]\n",
    "print(total.head())\n",
    "print(len(total))"
   ]
  },
  {
   "cell_type": "code",
   "execution_count": 46,
   "metadata": {},
   "outputs": [
    {
     "data": {
      "text/html": [
       "<div>\n",
       "<style scoped>\n",
       "    .dataframe tbody tr th:only-of-type {\n",
       "        vertical-align: middle;\n",
       "    }\n",
       "\n",
       "    .dataframe tbody tr th {\n",
       "        vertical-align: top;\n",
       "    }\n",
       "\n",
       "    .dataframe thead th {\n",
       "        text-align: right;\n",
       "    }\n",
       "</style>\n",
       "<table border=\"1\" class=\"dataframe\">\n",
       "  <thead>\n",
       "    <tr style=\"text-align: right;\">\n",
       "      <th></th>\n",
       "      <th>지역</th>\n",
       "      <th>발생 빈도</th>\n",
       "      <th>검거 빈도</th>\n",
       "      <th>죄목</th>\n",
       "      <th>년도</th>\n",
       "      <th>검거율</th>\n",
       "    </tr>\n",
       "  </thead>\n",
       "  <tbody>\n",
       "    <tr>\n",
       "      <td>0</td>\n",
       "      <td>중부</td>\n",
       "      <td>1</td>\n",
       "      <td>1</td>\n",
       "      <td>살인</td>\n",
       "      <td>2000</td>\n",
       "      <td>1.000000</td>\n",
       "    </tr>\n",
       "    <tr>\n",
       "      <td>1</td>\n",
       "      <td>중부</td>\n",
       "      <td>17</td>\n",
       "      <td>15</td>\n",
       "      <td>강도</td>\n",
       "      <td>2000</td>\n",
       "      <td>0.882353</td>\n",
       "    </tr>\n",
       "    <tr>\n",
       "      <td>2</td>\n",
       "      <td>중부</td>\n",
       "      <td>14</td>\n",
       "      <td>14</td>\n",
       "      <td>강간</td>\n",
       "      <td>2000</td>\n",
       "      <td>1.000000</td>\n",
       "    </tr>\n",
       "    <tr>\n",
       "      <td>3</td>\n",
       "      <td>중부</td>\n",
       "      <td>601</td>\n",
       "      <td>569</td>\n",
       "      <td>절도</td>\n",
       "      <td>2000</td>\n",
       "      <td>0.946755</td>\n",
       "    </tr>\n",
       "    <tr>\n",
       "      <td>4</td>\n",
       "      <td>중부</td>\n",
       "      <td>1783</td>\n",
       "      <td>1762</td>\n",
       "      <td>폭력</td>\n",
       "      <td>2000</td>\n",
       "      <td>0.988222</td>\n",
       "    </tr>\n",
       "  </tbody>\n",
       "</table>\n",
       "</div>"
      ],
      "text/plain": [
       "   지역  발생 빈도  검거 빈도  죄목    년도       검거율\n",
       "0  중부      1      1  살인  2000  1.000000\n",
       "1  중부     17     15  강도  2000  0.882353\n",
       "2  중부     14     14  강간  2000  1.000000\n",
       "3  중부    601    569  절도  2000  0.946755\n",
       "4  중부   1783   1762  폭력  2000  0.988222"
      ]
     },
     "execution_count": 46,
     "metadata": {},
     "output_type": "execute_result"
    }
   ],
   "source": [
    "total['검거율'] = total['검거 빈도'] / total['발생 빈도']\n",
    "total.head()"
   ]
  },
  {
   "cell_type": "code",
   "execution_count": 47,
   "metadata": {},
   "outputs": [
    {
     "data": {
      "text/plain": [
       "지역       0\n",
       "발생 빈도    0\n",
       "검거 빈도    0\n",
       "죄목       0\n",
       "년도       0\n",
       "검거율      0\n",
       "dtype: int64"
      ]
     },
     "execution_count": 47,
     "metadata": {},
     "output_type": "execute_result"
    }
   ],
   "source": [
    "total.isna().sum()"
   ]
  },
  {
   "cell_type": "markdown",
   "metadata": {},
   "source": [
    "#### [GRAPH] 지역 별 범죄 검거율 "
   ]
  },
  {
   "cell_type": "code",
   "execution_count": 48,
   "metadata": {},
   "outputs": [
    {
     "data": {
      "text/html": [
       "<div>\n",
       "<style scoped>\n",
       "    .dataframe tbody tr th:only-of-type {\n",
       "        vertical-align: middle;\n",
       "    }\n",
       "\n",
       "    .dataframe tbody tr th {\n",
       "        vertical-align: top;\n",
       "    }\n",
       "\n",
       "    .dataframe thead th {\n",
       "        text-align: right;\n",
       "    }\n",
       "</style>\n",
       "<table border=\"1\" class=\"dataframe\">\n",
       "  <thead>\n",
       "    <tr style=\"text-align: right;\">\n",
       "      <th></th>\n",
       "      <th>발생 빈도</th>\n",
       "      <th>검거 빈도</th>\n",
       "      <th>년도</th>\n",
       "      <th>검거율</th>\n",
       "    </tr>\n",
       "    <tr>\n",
       "      <th>지역</th>\n",
       "      <th></th>\n",
       "      <th></th>\n",
       "      <th></th>\n",
       "      <th></th>\n",
       "    </tr>\n",
       "  </thead>\n",
       "  <tbody>\n",
       "    <tr>\n",
       "      <td>강남</td>\n",
       "      <td>1138.96</td>\n",
       "      <td>803.18</td>\n",
       "      <td>2009.00</td>\n",
       "      <td>0.78</td>\n",
       "    </tr>\n",
       "    <tr>\n",
       "      <td>강동</td>\n",
       "      <td>968.36</td>\n",
       "      <td>773.77</td>\n",
       "      <td>2009.00</td>\n",
       "      <td>0.90</td>\n",
       "    </tr>\n",
       "    <tr>\n",
       "      <td>강북</td>\n",
       "      <td>810.04</td>\n",
       "      <td>673.58</td>\n",
       "      <td>2009.00</td>\n",
       "      <td>0.86</td>\n",
       "    </tr>\n",
       "    <tr>\n",
       "      <td>강서</td>\n",
       "      <td>1139.78</td>\n",
       "      <td>847.17</td>\n",
       "      <td>2009.00</td>\n",
       "      <td>0.83</td>\n",
       "    </tr>\n",
       "    <tr>\n",
       "      <td>관악</td>\n",
       "      <td>1169.85</td>\n",
       "      <td>782.02</td>\n",
       "      <td>2009.05</td>\n",
       "      <td>0.72</td>\n",
       "    </tr>\n",
       "  </tbody>\n",
       "</table>\n",
       "</div>"
      ],
      "text/plain": [
       "      발생 빈도   검거 빈도       년도   검거율\n",
       "지역                                \n",
       "강남  1138.96  803.18  2009.00  0.78\n",
       "강동   968.36  773.77  2009.00  0.90\n",
       "강북   810.04  673.58  2009.00  0.86\n",
       "강서  1139.78  847.17  2009.00  0.83\n",
       "관악  1169.85  782.02  2009.05  0.72"
      ]
     },
     "execution_count": 48,
     "metadata": {},
     "output_type": "execute_result"
    }
   ],
   "source": [
    "rate_area = round(total.groupby(['지역']).mean(),2)\n",
    "rate_area.head()"
   ]
  },
  {
   "cell_type": "code",
   "execution_count": 49,
   "metadata": {},
   "outputs": [
    {
     "data": {
      "text/html": [
       "<div>\n",
       "<style scoped>\n",
       "    .dataframe tbody tr th:only-of-type {\n",
       "        vertical-align: middle;\n",
       "    }\n",
       "\n",
       "    .dataframe tbody tr th {\n",
       "        vertical-align: top;\n",
       "    }\n",
       "\n",
       "    .dataframe thead th {\n",
       "        text-align: right;\n",
       "    }\n",
       "</style>\n",
       "<table border=\"1\" class=\"dataframe\">\n",
       "  <thead>\n",
       "    <tr style=\"text-align: right;\">\n",
       "      <th></th>\n",
       "      <th>지역</th>\n",
       "      <th>발생 빈도</th>\n",
       "      <th>검거 빈도</th>\n",
       "      <th>년도</th>\n",
       "      <th>검거율</th>\n",
       "    </tr>\n",
       "  </thead>\n",
       "  <tbody>\n",
       "    <tr>\n",
       "      <td>27</td>\n",
       "      <td>종암</td>\n",
       "      <td>493.85</td>\n",
       "      <td>406.95</td>\n",
       "      <td>2009.00</td>\n",
       "      <td>0.92</td>\n",
       "    </tr>\n",
       "    <tr>\n",
       "      <td>16</td>\n",
       "      <td>서부</td>\n",
       "      <td>532.14</td>\n",
       "      <td>428.14</td>\n",
       "      <td>2008.85</td>\n",
       "      <td>0.91</td>\n",
       "    </tr>\n",
       "    <tr>\n",
       "      <td>1</td>\n",
       "      <td>강동</td>\n",
       "      <td>968.36</td>\n",
       "      <td>773.77</td>\n",
       "      <td>2009.00</td>\n",
       "      <td>0.90</td>\n",
       "    </tr>\n",
       "    <tr>\n",
       "      <td>14</td>\n",
       "      <td>방배</td>\n",
       "      <td>352.92</td>\n",
       "      <td>268.95</td>\n",
       "      <td>2008.88</td>\n",
       "      <td>0.90</td>\n",
       "    </tr>\n",
       "    <tr>\n",
       "      <td>18</td>\n",
       "      <td>성동</td>\n",
       "      <td>707.62</td>\n",
       "      <td>545.84</td>\n",
       "      <td>2009.00</td>\n",
       "      <td>0.89</td>\n",
       "    </tr>\n",
       "  </tbody>\n",
       "</table>\n",
       "</div>"
      ],
      "text/plain": [
       "    지역   발생 빈도   검거 빈도       년도   검거율\n",
       "27  종암  493.85  406.95  2009.00  0.92\n",
       "16  서부  532.14  428.14  2008.85  0.91\n",
       "1   강동  968.36  773.77  2009.00  0.90\n",
       "14  방배  352.92  268.95  2008.88  0.90\n",
       "18  성동  707.62  545.84  2009.00  0.89"
      ]
     },
     "execution_count": 49,
     "metadata": {},
     "output_type": "execute_result"
    }
   ],
   "source": [
    "rate_area.reset_index(inplace=True)\n",
    "rate_area.sort_values(by='검거율',ascending=False, inplace=True)\n",
    "rate_area.head(5)"
   ]
  },
  {
   "cell_type": "code",
   "execution_count": 50,
   "metadata": {},
   "outputs": [
    {
     "data": {
      "image/png": "[encoded data removed]",
      "text/plain": [
       "<Figure size 1080x576 with 1 Axes>"
      ]
     },
     "metadata": {
      "needs_background": "light"
     },
     "output_type": "display_data"
    }
   ],
   "source": [
    "rate_area.sort_values(by='검거율',ascending=False, inplace=True)\n",
    "plt.figure(figsize=(15,8))\n",
    "ax = sns.barplot(y= \"검거율\", x = \"지역\", data = rate_area, palette=(\"Blues_d\"))\n",
    "ax.set_title('서울시내 경찰서별 범죄 검거율')\n",
    "ax.set_ylabel('검거율')\n",
    "ax.set_xlabel('경찰서')\n",
    "plt.show()"
   ]
  },
  {
   "cell_type": "code",
   "execution_count": 278,
   "metadata": {},
   "outputs": [
    {
     "data": {
      "text/html": [
       "<div>\n",
       "<style scoped>\n",
       "    .dataframe tbody tr th:only-of-type {\n",
       "        vertical-align: middle;\n",
       "    }\n",
       "\n",
       "    .dataframe tbody tr th {\n",
       "        vertical-align: top;\n",
       "    }\n",
       "\n",
       "    .dataframe thead th {\n",
       "        text-align: right;\n",
       "    }\n",
       "</style>\n",
       "<table border=\"1\" class=\"dataframe\">\n",
       "  <thead>\n",
       "    <tr style=\"text-align: right;\">\n",
       "      <th></th>\n",
       "      <th>발생 빈도</th>\n",
       "      <th>검거 빈도</th>\n",
       "      <th>년도</th>\n",
       "      <th>검거율</th>\n",
       "    </tr>\n",
       "    <tr>\n",
       "      <th>지역</th>\n",
       "      <th></th>\n",
       "      <th></th>\n",
       "      <th></th>\n",
       "      <th></th>\n",
       "    </tr>\n",
       "  </thead>\n",
       "  <tbody>\n",
       "    <tr>\n",
       "      <td>강남</td>\n",
       "      <td>108201</td>\n",
       "      <td>76302</td>\n",
       "      <td>190855</td>\n",
       "      <td>73.852168</td>\n",
       "    </tr>\n",
       "    <tr>\n",
       "      <td>강동</td>\n",
       "      <td>91994</td>\n",
       "      <td>73508</td>\n",
       "      <td>190855</td>\n",
       "      <td>85.830969</td>\n",
       "    </tr>\n",
       "    <tr>\n",
       "      <td>강북</td>\n",
       "      <td>76954</td>\n",
       "      <td>63990</td>\n",
       "      <td>190855</td>\n",
       "      <td>82.055888</td>\n",
       "    </tr>\n",
       "    <tr>\n",
       "      <td>강서</td>\n",
       "      <td>108279</td>\n",
       "      <td>80481</td>\n",
       "      <td>190855</td>\n",
       "      <td>78.742740</td>\n",
       "    </tr>\n",
       "    <tr>\n",
       "      <td>관악</td>\n",
       "      <td>109966</td>\n",
       "      <td>73510</td>\n",
       "      <td>188851</td>\n",
       "      <td>67.774985</td>\n",
       "    </tr>\n",
       "  </tbody>\n",
       "</table>\n",
       "</div>"
      ],
      "text/plain": [
       "     발생 빈도  검거 빈도      년도        검거율\n",
       "지역                                  \n",
       "강남  108201  76302  190855  73.852168\n",
       "강동   91994  73508  190855  85.830969\n",
       "강북   76954  63990  190855  82.055888\n",
       "강서  108279  80481  190855  78.742740\n",
       "관악  109966  73510  188851  67.774985"
      ]
     },
     "execution_count": 278,
     "metadata": {},
     "output_type": "execute_result"
    }
   ],
   "source": [
    "rate_area1 = total.groupby(['지역']).sum()\n",
    "rate_area1.head()"
   ]
  },
  {
   "cell_type": "code",
   "execution_count": 282,
   "metadata": {},
   "outputs": [
    {
     "data": {
      "text/html": [
       "<div>\n",
       "<style scoped>\n",
       "    .dataframe tbody tr th:only-of-type {\n",
       "        vertical-align: middle;\n",
       "    }\n",
       "\n",
       "    .dataframe tbody tr th {\n",
       "        vertical-align: top;\n",
       "    }\n",
       "\n",
       "    .dataframe thead th {\n",
       "        text-align: right;\n",
       "    }\n",
       "</style>\n",
       "<table border=\"1\" class=\"dataframe\">\n",
       "  <thead>\n",
       "    <tr style=\"text-align: right;\">\n",
       "      <th></th>\n",
       "      <th>지역</th>\n",
       "      <th>발생 빈도</th>\n",
       "      <th>검거 빈도</th>\n",
       "      <th>년도</th>\n",
       "      <th>검거율</th>\n",
       "    </tr>\n",
       "  </thead>\n",
       "  <tbody>\n",
       "    <tr>\n",
       "      <td>0</td>\n",
       "      <td>송파</td>\n",
       "      <td>113367</td>\n",
       "      <td>76268</td>\n",
       "      <td>190855</td>\n",
       "      <td>78.319105</td>\n",
       "    </tr>\n",
       "    <tr>\n",
       "      <td>1</td>\n",
       "      <td>관악</td>\n",
       "      <td>109966</td>\n",
       "      <td>73510</td>\n",
       "      <td>188851</td>\n",
       "      <td>67.774985</td>\n",
       "    </tr>\n",
       "    <tr>\n",
       "      <td>2</td>\n",
       "      <td>광진</td>\n",
       "      <td>108983</td>\n",
       "      <td>77936</td>\n",
       "      <td>190855</td>\n",
       "      <td>81.686766</td>\n",
       "    </tr>\n",
       "    <tr>\n",
       "      <td>3</td>\n",
       "      <td>영등포</td>\n",
       "      <td>108928</td>\n",
       "      <td>79128</td>\n",
       "      <td>190855</td>\n",
       "      <td>74.813441</td>\n",
       "    </tr>\n",
       "    <tr>\n",
       "      <td>4</td>\n",
       "      <td>강서</td>\n",
       "      <td>108279</td>\n",
       "      <td>80481</td>\n",
       "      <td>190855</td>\n",
       "      <td>78.742740</td>\n",
       "    </tr>\n",
       "  </tbody>\n",
       "</table>\n",
       "</div>"
      ],
      "text/plain": [
       "    지역   발생 빈도  검거 빈도      년도        검거율\n",
       "0   송파  113367  76268  190855  78.319105\n",
       "1   관악  109966  73510  188851  67.774985\n",
       "2   광진  108983  77936  190855  81.686766\n",
       "3  영등포  108928  79128  190855  74.813441\n",
       "4   강서  108279  80481  190855  78.742740"
      ]
     },
     "execution_count": 282,
     "metadata": {},
     "output_type": "execute_result"
    }
   ],
   "source": [
    "rate_area1.reset_index(inplace=True)\n",
    "rate_area1.sort_values(by='발생 빈도',ascending=False, inplace=True)\n",
    "rate_area1.head(5)"
   ]
  },
  {
   "cell_type": "code",
   "execution_count": 283,
   "metadata": {},
   "outputs": [
    {
     "data": {
      "image/png": "[encoded data removed]",
      "text/plain": [
       "<Figure size 1080x576 with 1 Axes>"
      ]
     },
     "metadata": {
      "needs_background": "light"
     },
     "output_type": "display_data"
    }
   ],
   "source": [
    "plt.figure(figsize=(15,8))\n",
    "ax = sns.barplot(y= \"발생 빈도\", x = \"지역\", data = rate_area1, palette=(\"Blues_d\"))\n",
    "ax.set_title('서울시내 관서별 5대 범죄 발생 빈도')\n",
    "ax.set_ylabel('발생 빈도')\n",
    "ax.set_xlabel('관서명')\n",
    "plt.show()"
   ]
  },
  {
   "cell_type": "code",
   "execution_count": 177,
   "metadata": {},
   "outputs": [],
   "source": [
    "freq_rate_area = total.groupby('지역').agg({'발생 빈도':'sum', \n",
    "                         '검거 빈도':'sum', \n",
    "                         '검거율':'mean'\n",
    "                        })"
   ]
  },
  {
   "cell_type": "code",
   "execution_count": 190,
   "metadata": {},
   "outputs": [
    {
     "data": {
      "text/html": [
       "<div>\n",
       "<style scoped>\n",
       "    .dataframe tbody tr th:only-of-type {\n",
       "        vertical-align: middle;\n",
       "    }\n",
       "\n",
       "    .dataframe tbody tr th {\n",
       "        vertical-align: top;\n",
       "    }\n",
       "\n",
       "    .dataframe thead th {\n",
       "        text-align: right;\n",
       "    }\n",
       "</style>\n",
       "<table border=\"1\" class=\"dataframe\">\n",
       "  <thead>\n",
       "    <tr style=\"text-align: right;\">\n",
       "      <th></th>\n",
       "      <th>발생 빈도</th>\n",
       "      <th>검거 빈도</th>\n",
       "      <th>검거율</th>\n",
       "    </tr>\n",
       "    <tr>\n",
       "      <th>지역</th>\n",
       "      <th></th>\n",
       "      <th></th>\n",
       "      <th></th>\n",
       "    </tr>\n",
       "  </thead>\n",
       "  <tbody>\n",
       "    <tr>\n",
       "      <td>강남</td>\n",
       "      <td>108201</td>\n",
       "      <td>76302</td>\n",
       "      <td>0.777391</td>\n",
       "    </tr>\n",
       "    <tr>\n",
       "      <td>강동</td>\n",
       "      <td>91994</td>\n",
       "      <td>73508</td>\n",
       "      <td>0.903484</td>\n",
       "    </tr>\n",
       "    <tr>\n",
       "      <td>강북</td>\n",
       "      <td>76954</td>\n",
       "      <td>63990</td>\n",
       "      <td>0.863746</td>\n",
       "    </tr>\n",
       "    <tr>\n",
       "      <td>강서</td>\n",
       "      <td>108279</td>\n",
       "      <td>80481</td>\n",
       "      <td>0.828871</td>\n",
       "    </tr>\n",
       "    <tr>\n",
       "      <td>관악</td>\n",
       "      <td>109966</td>\n",
       "      <td>73510</td>\n",
       "      <td>0.721010</td>\n",
       "    </tr>\n",
       "  </tbody>\n",
       "</table>\n",
       "</div>"
      ],
      "text/plain": [
       "     발생 빈도  검거 빈도       검거율\n",
       "지역                         \n",
       "강남  108201  76302  0.777391\n",
       "강동   91994  73508  0.903484\n",
       "강북   76954  63990  0.863746\n",
       "강서  108279  80481  0.828871\n",
       "관악  109966  73510  0.721010"
      ]
     },
     "execution_count": 190,
     "metadata": {},
     "output_type": "execute_result"
    }
   ],
   "source": [
    "freq_rate_area.head()"
   ]
  },
  {
   "cell_type": "code",
   "execution_count": null,
   "metadata": {},
   "outputs": [],
   "source": [
    "df = freq_rate_area['검거율']"
   ]
  },
  {
   "cell_type": "code",
   "execution_count": 192,
   "metadata": {},
   "outputs": [
    {
     "data": {
      "text/plain": [
       "지역\n",
       "강남     0.777391\n",
       "강동     0.903484\n",
       "강북     0.863746\n",
       "강서     0.828871\n",
       "관악     0.721010\n",
       "광진     0.859861\n",
       "구로     0.770063\n",
       "금천     0.830504\n",
       "남대문    0.885404\n",
       "노원     0.877198\n",
       "도봉     0.866298\n",
       "동대문    0.879079\n",
       "동작     0.744663\n",
       "마포     0.803221\n",
       "방배     0.902991\n",
       "서대문    0.861616\n",
       "서부     0.913306\n",
       "서초     0.770848\n",
       "성동     0.890523\n",
       "성북     0.830502\n",
       "송파     0.824412\n",
       "수서     0.810497\n",
       "양천     0.848258\n",
       "영등포    0.787510\n",
       "용산     0.848039\n",
       "은평     0.852867\n",
       "종로     0.817120\n",
       "종암     0.918484\n",
       "중랑     0.869012\n",
       "중부     0.821280\n",
       "혜화     0.821977\n",
       "Name: 검거율, dtype: float64"
      ]
     },
     "execution_count": 192,
     "metadata": {},
     "output_type": "execute_result"
    }
   ],
   "source": [
    "freq_rate_area['검거율']"
   ]
  },
  {
   "cell_type": "code",
   "execution_count": null,
   "metadata": {},
   "outputs": [],
   "source": [
    "matplotlib.pyplot.table"
   ]
  },
  {
   "cell_type": "code",
   "execution_count": 120,
   "metadata": {},
   "outputs": [
    {
     "data": {
      "text/html": [
       "<div>\n",
       "<style scoped>\n",
       "    .dataframe tbody tr th:only-of-type {\n",
       "        vertical-align: middle;\n",
       "    }\n",
       "\n",
       "    .dataframe tbody tr th {\n",
       "        vertical-align: top;\n",
       "    }\n",
       "\n",
       "    .dataframe thead th {\n",
       "        text-align: right;\n",
       "    }\n",
       "</style>\n",
       "<table border=\"1\" class=\"dataframe\">\n",
       "  <thead>\n",
       "    <tr style=\"text-align: right;\">\n",
       "      <th></th>\n",
       "      <th>지역</th>\n",
       "      <th>발생 빈도</th>\n",
       "      <th>검거 빈도</th>\n",
       "      <th>죄목</th>\n",
       "      <th>년도</th>\n",
       "      <th>검거율</th>\n",
       "    </tr>\n",
       "  </thead>\n",
       "  <tbody>\n",
       "    <tr>\n",
       "      <td>0</td>\n",
       "      <td>중부</td>\n",
       "      <td>1</td>\n",
       "      <td>1</td>\n",
       "      <td>살인</td>\n",
       "      <td>2000</td>\n",
       "      <td>1.000000</td>\n",
       "    </tr>\n",
       "    <tr>\n",
       "      <td>1</td>\n",
       "      <td>중부</td>\n",
       "      <td>17</td>\n",
       "      <td>15</td>\n",
       "      <td>강도</td>\n",
       "      <td>2000</td>\n",
       "      <td>0.882353</td>\n",
       "    </tr>\n",
       "    <tr>\n",
       "      <td>2</td>\n",
       "      <td>중부</td>\n",
       "      <td>14</td>\n",
       "      <td>14</td>\n",
       "      <td>강간</td>\n",
       "      <td>2000</td>\n",
       "      <td>1.000000</td>\n",
       "    </tr>\n",
       "    <tr>\n",
       "      <td>3</td>\n",
       "      <td>중부</td>\n",
       "      <td>601</td>\n",
       "      <td>569</td>\n",
       "      <td>절도</td>\n",
       "      <td>2000</td>\n",
       "      <td>0.946755</td>\n",
       "    </tr>\n",
       "    <tr>\n",
       "      <td>4</td>\n",
       "      <td>중부</td>\n",
       "      <td>1783</td>\n",
       "      <td>1762</td>\n",
       "      <td>폭력</td>\n",
       "      <td>2000</td>\n",
       "      <td>0.988222</td>\n",
       "    </tr>\n",
       "  </tbody>\n",
       "</table>\n",
       "</div>"
      ],
      "text/plain": [
       "   지역  발생 빈도  검거 빈도  죄목    년도       검거율\n",
       "0  중부      1      1  살인  2000  1.000000\n",
       "1  중부     17     15  강도  2000  0.882353\n",
       "2  중부     14     14  강간  2000  1.000000\n",
       "3  중부    601    569  절도  2000  0.946755\n",
       "4  중부   1783   1762  폭력  2000  0.988222"
      ]
     },
     "execution_count": 120,
     "metadata": {},
     "output_type": "execute_result"
    }
   ],
   "source": [
    "total.head()"
   ]
  },
  {
   "cell_type": "markdown",
   "metadata": {},
   "source": [
    "#### [GRAPH] 지역별 범죄 발생 횟수 & 검거 횟수 비교 "
   ]
  },
  {
   "cell_type": "code",
   "execution_count": 184,
   "metadata": {},
   "outputs": [
    {
     "data": {
      "text/html": [
       "<div>\n",
       "<style scoped>\n",
       "    .dataframe tbody tr th:only-of-type {\n",
       "        vertical-align: middle;\n",
       "    }\n",
       "\n",
       "    .dataframe tbody tr th {\n",
       "        vertical-align: top;\n",
       "    }\n",
       "\n",
       "    .dataframe thead th {\n",
       "        text-align: right;\n",
       "    }\n",
       "</style>\n",
       "<table border=\"1\" class=\"dataframe\">\n",
       "  <thead>\n",
       "    <tr style=\"text-align: right;\">\n",
       "      <th></th>\n",
       "      <th>발생 빈도</th>\n",
       "      <th>검거 빈도</th>\n",
       "      <th>년도</th>\n",
       "      <th>검거율</th>\n",
       "    </tr>\n",
       "    <tr>\n",
       "      <th>지역</th>\n",
       "      <th></th>\n",
       "      <th></th>\n",
       "      <th></th>\n",
       "      <th></th>\n",
       "    </tr>\n",
       "  </thead>\n",
       "  <tbody>\n",
       "    <tr>\n",
       "      <td>강남</td>\n",
       "      <td>108201</td>\n",
       "      <td>76302</td>\n",
       "      <td>190855</td>\n",
       "      <td>73.852168</td>\n",
       "    </tr>\n",
       "    <tr>\n",
       "      <td>강동</td>\n",
       "      <td>91994</td>\n",
       "      <td>73508</td>\n",
       "      <td>190855</td>\n",
       "      <td>85.830969</td>\n",
       "    </tr>\n",
       "    <tr>\n",
       "      <td>강북</td>\n",
       "      <td>76954</td>\n",
       "      <td>63990</td>\n",
       "      <td>190855</td>\n",
       "      <td>82.055888</td>\n",
       "    </tr>\n",
       "    <tr>\n",
       "      <td>강서</td>\n",
       "      <td>108279</td>\n",
       "      <td>80481</td>\n",
       "      <td>190855</td>\n",
       "      <td>78.742740</td>\n",
       "    </tr>\n",
       "    <tr>\n",
       "      <td>관악</td>\n",
       "      <td>109966</td>\n",
       "      <td>73510</td>\n",
       "      <td>188851</td>\n",
       "      <td>67.774985</td>\n",
       "    </tr>\n",
       "  </tbody>\n",
       "</table>\n",
       "</div>"
      ],
      "text/plain": [
       "     발생 빈도  검거 빈도      년도        검거율\n",
       "지역                                  \n",
       "강남  108201  76302  190855  73.852168\n",
       "강동   91994  73508  190855  85.830969\n",
       "강북   76954  63990  190855  82.055888\n",
       "강서  108279  80481  190855  78.742740\n",
       "관악  109966  73510  188851  67.774985"
      ]
     },
     "execution_count": 184,
     "metadata": {},
     "output_type": "execute_result"
    }
   ],
   "source": [
    "freq_area = total.groupby(['지역']).sum()\n",
    "freq_area.head()"
   ]
  },
  {
   "cell_type": "code",
   "execution_count": null,
   "metadata": {},
   "outputs": [],
   "source": []
  },
  {
   "cell_type": "code",
   "execution_count": 185,
   "metadata": {},
   "outputs": [
    {
     "data": {
      "text/html": [
       "<div>\n",
       "<style scoped>\n",
       "    .dataframe tbody tr th:only-of-type {\n",
       "        vertical-align: middle;\n",
       "    }\n",
       "\n",
       "    .dataframe tbody tr th {\n",
       "        vertical-align: top;\n",
       "    }\n",
       "\n",
       "    .dataframe thead th {\n",
       "        text-align: right;\n",
       "    }\n",
       "</style>\n",
       "<table border=\"1\" class=\"dataframe\">\n",
       "  <thead>\n",
       "    <tr style=\"text-align: right;\">\n",
       "      <th></th>\n",
       "      <th>지역</th>\n",
       "      <th>발생 빈도</th>\n",
       "      <th>검거 빈도</th>\n",
       "    </tr>\n",
       "  </thead>\n",
       "  <tbody>\n",
       "    <tr>\n",
       "      <td>0</td>\n",
       "      <td>강남</td>\n",
       "      <td>108201</td>\n",
       "      <td>76302</td>\n",
       "    </tr>\n",
       "    <tr>\n",
       "      <td>1</td>\n",
       "      <td>강동</td>\n",
       "      <td>91994</td>\n",
       "      <td>73508</td>\n",
       "    </tr>\n",
       "    <tr>\n",
       "      <td>2</td>\n",
       "      <td>강북</td>\n",
       "      <td>76954</td>\n",
       "      <td>63990</td>\n",
       "    </tr>\n",
       "    <tr>\n",
       "      <td>3</td>\n",
       "      <td>강서</td>\n",
       "      <td>108279</td>\n",
       "      <td>80481</td>\n",
       "    </tr>\n",
       "    <tr>\n",
       "      <td>4</td>\n",
       "      <td>관악</td>\n",
       "      <td>109966</td>\n",
       "      <td>73510</td>\n",
       "    </tr>\n",
       "  </tbody>\n",
       "</table>\n",
       "</div>"
      ],
      "text/plain": [
       "   지역   발생 빈도  검거 빈도\n",
       "0  강남  108201  76302\n",
       "1  강동   91994  73508\n",
       "2  강북   76954  63990\n",
       "3  강서  108279  80481\n",
       "4  관악  109966  73510"
      ]
     },
     "execution_count": 185,
     "metadata": {},
     "output_type": "execute_result"
    }
   ],
   "source": [
    "freq_area=freq_area[['발생 빈도','검거 빈도']]\n",
    "freq_area.reset_index(inplace=True)\n",
    "freq_area.head()"
   ]
  },
  {
   "cell_type": "code",
   "execution_count": 142,
   "metadata": {
    "collapsed": true
   },
   "outputs": [
    {
     "ename": "KeyError",
     "evalue": "'지역'",
     "output_type": "error",
     "traceback": [
      "\u001b[0;31m---------------------------------------------------------------------------\u001b[0m",
      "\u001b[0;31mKeyError\u001b[0m                                  Traceback (most recent call last)",
      "\u001b[0;32m/opt/anaconda3/lib/python3.7/site-packages/pandas/core/indexes/base.py\u001b[0m in \u001b[0;36mget_loc\u001b[0;34m(self, key, method, tolerance)\u001b[0m\n\u001b[1;32m   2896\u001b[0m             \u001b[0;32mtry\u001b[0m\u001b[0;34m:\u001b[0m\u001b[0;34m\u001b[0m\u001b[0;34m\u001b[0m\u001b[0m\n\u001b[0;32m-> 2897\u001b[0;31m                 \u001b[0;32mreturn\u001b[0m \u001b[0mself\u001b[0m\u001b[0;34m.\u001b[0m\u001b[0m_engine\u001b[0m\u001b[0;34m.\u001b[0m\u001b[0mget_loc\u001b[0m\u001b[0;34m(\u001b[0m\u001b[0mkey\u001b[0m\u001b[0;34m)\u001b[0m\u001b[0;34m\u001b[0m\u001b[0;34m\u001b[0m\u001b[0m\n\u001b[0m\u001b[1;32m   2898\u001b[0m             \u001b[0;32mexcept\u001b[0m \u001b[0mKeyError\u001b[0m\u001b[0;34m:\u001b[0m\u001b[0;34m\u001b[0m\u001b[0;34m\u001b[0m\u001b[0m\n",
      "\u001b[0;32mpandas/_libs/index.pyx\u001b[0m in \u001b[0;36mpandas._libs.index.IndexEngine.get_loc\u001b[0;34m()\u001b[0m\n",
      "\u001b[0;32mpandas/_libs/index.pyx\u001b[0m in \u001b[0;36mpandas._libs.index.IndexEngine.get_loc\u001b[0;34m()\u001b[0m\n",
      "\u001b[0;32mpandas/_libs/hashtable_class_helper.pxi\u001b[0m in \u001b[0;36mpandas._libs.hashtable.PyObjectHashTable.get_item\u001b[0;34m()\u001b[0m\n",
      "\u001b[0;32mpandas/_libs/hashtable_class_helper.pxi\u001b[0m in \u001b[0;36mpandas._libs.hashtable.PyObjectHashTable.get_item\u001b[0;34m()\u001b[0m\n",
      "\u001b[0;31mKeyError\u001b[0m: '지역'",
      "\nDuring handling of the above exception, another exception occurred:\n",
      "\u001b[0;31mKeyError\u001b[0m                                  Traceback (most recent call last)",
      "\u001b[0;32m<ipython-input-142-026643da471f>\u001b[0m in \u001b[0;36m<module>\u001b[0;34m\u001b[0m\n\u001b[0;32m----> 1\u001b[0;31m \u001b[0mfreq_area_melted\u001b[0m \u001b[0;34m=\u001b[0m \u001b[0mfreq_area\u001b[0m\u001b[0;34m.\u001b[0m\u001b[0mmelt\u001b[0m\u001b[0;34m(\u001b[0m\u001b[0mid_vars\u001b[0m\u001b[0;34m=\u001b[0m\u001b[0;34m'지역'\u001b[0m\u001b[0;34m)\u001b[0m\u001b[0;34m\u001b[0m\u001b[0;34m\u001b[0m\u001b[0m\n\u001b[0m\u001b[1;32m      2\u001b[0m \u001b[0mfreq_area_melted\u001b[0m\u001b[0;34m.\u001b[0m\u001b[0msort_values\u001b[0m\u001b[0;34m(\u001b[0m\u001b[0mby\u001b[0m\u001b[0;34m=\u001b[0m\u001b[0;34m'value'\u001b[0m\u001b[0;34m)\u001b[0m\u001b[0;34m\u001b[0m\u001b[0;34m\u001b[0m\u001b[0m\n\u001b[1;32m      3\u001b[0m \u001b[0mfreq_area_melted\u001b[0m\u001b[0;34m.\u001b[0m\u001b[0mhead\u001b[0m\u001b[0;34m(\u001b[0m\u001b[0;34m)\u001b[0m\u001b[0;34m\u001b[0m\u001b[0;34m\u001b[0m\u001b[0m\n",
      "\u001b[0;32m/opt/anaconda3/lib/python3.7/site-packages/pandas/core/frame.py\u001b[0m in \u001b[0;36mmelt\u001b[0;34m(self, id_vars, value_vars, var_name, value_name, col_level)\u001b[0m\n\u001b[1;32m   6498\u001b[0m             \u001b[0mvar_name\u001b[0m\u001b[0;34m=\u001b[0m\u001b[0mvar_name\u001b[0m\u001b[0;34m,\u001b[0m\u001b[0;34m\u001b[0m\u001b[0;34m\u001b[0m\u001b[0m\n\u001b[1;32m   6499\u001b[0m             \u001b[0mvalue_name\u001b[0m\u001b[0;34m=\u001b[0m\u001b[0mvalue_name\u001b[0m\u001b[0;34m,\u001b[0m\u001b[0;34m\u001b[0m\u001b[0;34m\u001b[0m\u001b[0m\n\u001b[0;32m-> 6500\u001b[0;31m             \u001b[0mcol_level\u001b[0m\u001b[0;34m=\u001b[0m\u001b[0mcol_level\u001b[0m\u001b[0;34m,\u001b[0m\u001b[0;34m\u001b[0m\u001b[0;34m\u001b[0m\u001b[0m\n\u001b[0m\u001b[1;32m   6501\u001b[0m         )\n\u001b[1;32m   6502\u001b[0m \u001b[0;34m\u001b[0m\u001b[0m\n",
      "\u001b[0;32m/opt/anaconda3/lib/python3.7/site-packages/pandas/core/reshape/melt.py\u001b[0m in \u001b[0;36mmelt\u001b[0;34m(frame, id_vars, value_vars, var_name, value_name, col_level)\u001b[0m\n\u001b[1;32m    102\u001b[0m     \u001b[0mmdata\u001b[0m \u001b[0;34m=\u001b[0m \u001b[0;34m{\u001b[0m\u001b[0;34m}\u001b[0m\u001b[0;34m\u001b[0m\u001b[0;34m\u001b[0m\u001b[0m\n\u001b[1;32m    103\u001b[0m     \u001b[0;32mfor\u001b[0m \u001b[0mcol\u001b[0m \u001b[0;32min\u001b[0m \u001b[0mid_vars\u001b[0m\u001b[0;34m:\u001b[0m\u001b[0;34m\u001b[0m\u001b[0;34m\u001b[0m\u001b[0m\n\u001b[0;32m--> 104\u001b[0;31m         \u001b[0mid_data\u001b[0m \u001b[0;34m=\u001b[0m \u001b[0mframe\u001b[0m\u001b[0;34m.\u001b[0m\u001b[0mpop\u001b[0m\u001b[0;34m(\u001b[0m\u001b[0mcol\u001b[0m\u001b[0;34m)\u001b[0m\u001b[0;34m\u001b[0m\u001b[0;34m\u001b[0m\u001b[0m\n\u001b[0m\u001b[1;32m    105\u001b[0m         \u001b[0;32mif\u001b[0m \u001b[0mis_extension_type\u001b[0m\u001b[0;34m(\u001b[0m\u001b[0mid_data\u001b[0m\u001b[0;34m)\u001b[0m\u001b[0;34m:\u001b[0m\u001b[0;34m\u001b[0m\u001b[0;34m\u001b[0m\u001b[0m\n\u001b[1;32m    106\u001b[0m             \u001b[0mid_data\u001b[0m \u001b[0;34m=\u001b[0m \u001b[0mconcat\u001b[0m\u001b[0;34m(\u001b[0m\u001b[0;34m[\u001b[0m\u001b[0mid_data\u001b[0m\u001b[0;34m]\u001b[0m \u001b[0;34m*\u001b[0m \u001b[0mK\u001b[0m\u001b[0;34m,\u001b[0m \u001b[0mignore_index\u001b[0m\u001b[0;34m=\u001b[0m\u001b[0;32mTrue\u001b[0m\u001b[0;34m)\u001b[0m\u001b[0;34m\u001b[0m\u001b[0;34m\u001b[0m\u001b[0m\n",
      "\u001b[0;32m/opt/anaconda3/lib/python3.7/site-packages/pandas/core/generic.py\u001b[0m in \u001b[0;36mpop\u001b[0;34m(self, item)\u001b[0m\n\u001b[1;32m    860\u001b[0m         \u001b[0;36m3\u001b[0m  \u001b[0mmonkey\u001b[0m        \u001b[0mNaN\u001b[0m\u001b[0;34m\u001b[0m\u001b[0;34m\u001b[0m\u001b[0m\n\u001b[1;32m    861\u001b[0m         \"\"\"\n\u001b[0;32m--> 862\u001b[0;31m         \u001b[0mresult\u001b[0m \u001b[0;34m=\u001b[0m \u001b[0mself\u001b[0m\u001b[0;34m[\u001b[0m\u001b[0mitem\u001b[0m\u001b[0;34m]\u001b[0m\u001b[0;34m\u001b[0m\u001b[0;34m\u001b[0m\u001b[0m\n\u001b[0m\u001b[1;32m    863\u001b[0m         \u001b[0;32mdel\u001b[0m \u001b[0mself\u001b[0m\u001b[0;34m[\u001b[0m\u001b[0mitem\u001b[0m\u001b[0;34m]\u001b[0m\u001b[0;34m\u001b[0m\u001b[0;34m\u001b[0m\u001b[0m\n\u001b[1;32m    864\u001b[0m         \u001b[0;32mtry\u001b[0m\u001b[0;34m:\u001b[0m\u001b[0;34m\u001b[0m\u001b[0;34m\u001b[0m\u001b[0m\n",
      "\u001b[0;32m/opt/anaconda3/lib/python3.7/site-packages/pandas/core/frame.py\u001b[0m in \u001b[0;36m__getitem__\u001b[0;34m(self, key)\u001b[0m\n\u001b[1;32m   2978\u001b[0m             \u001b[0;32mif\u001b[0m \u001b[0mself\u001b[0m\u001b[0;34m.\u001b[0m\u001b[0mcolumns\u001b[0m\u001b[0;34m.\u001b[0m\u001b[0mnlevels\u001b[0m \u001b[0;34m>\u001b[0m \u001b[0;36m1\u001b[0m\u001b[0;34m:\u001b[0m\u001b[0;34m\u001b[0m\u001b[0;34m\u001b[0m\u001b[0m\n\u001b[1;32m   2979\u001b[0m                 \u001b[0;32mreturn\u001b[0m \u001b[0mself\u001b[0m\u001b[0;34m.\u001b[0m\u001b[0m_getitem_multilevel\u001b[0m\u001b[0;34m(\u001b[0m\u001b[0mkey\u001b[0m\u001b[0;34m)\u001b[0m\u001b[0;34m\u001b[0m\u001b[0;34m\u001b[0m\u001b[0m\n\u001b[0;32m-> 2980\u001b[0;31m             \u001b[0mindexer\u001b[0m \u001b[0;34m=\u001b[0m \u001b[0mself\u001b[0m\u001b[0;34m.\u001b[0m\u001b[0mcolumns\u001b[0m\u001b[0;34m.\u001b[0m\u001b[0mget_loc\u001b[0m\u001b[0;34m(\u001b[0m\u001b[0mkey\u001b[0m\u001b[0;34m)\u001b[0m\u001b[0;34m\u001b[0m\u001b[0;34m\u001b[0m\u001b[0m\n\u001b[0m\u001b[1;32m   2981\u001b[0m             \u001b[0;32mif\u001b[0m \u001b[0mis_integer\u001b[0m\u001b[0;34m(\u001b[0m\u001b[0mindexer\u001b[0m\u001b[0;34m)\u001b[0m\u001b[0;34m:\u001b[0m\u001b[0;34m\u001b[0m\u001b[0;34m\u001b[0m\u001b[0m\n\u001b[1;32m   2982\u001b[0m                 \u001b[0mindexer\u001b[0m \u001b[0;34m=\u001b[0m \u001b[0;34m[\u001b[0m\u001b[0mindexer\u001b[0m\u001b[0;34m]\u001b[0m\u001b[0;34m\u001b[0m\u001b[0;34m\u001b[0m\u001b[0m\n",
      "\u001b[0;32m/opt/anaconda3/lib/python3.7/site-packages/pandas/core/indexes/base.py\u001b[0m in \u001b[0;36mget_loc\u001b[0;34m(self, key, method, tolerance)\u001b[0m\n\u001b[1;32m   2897\u001b[0m                 \u001b[0;32mreturn\u001b[0m \u001b[0mself\u001b[0m\u001b[0;34m.\u001b[0m\u001b[0m_engine\u001b[0m\u001b[0;34m.\u001b[0m\u001b[0mget_loc\u001b[0m\u001b[0;34m(\u001b[0m\u001b[0mkey\u001b[0m\u001b[0;34m)\u001b[0m\u001b[0;34m\u001b[0m\u001b[0;34m\u001b[0m\u001b[0m\n\u001b[1;32m   2898\u001b[0m             \u001b[0;32mexcept\u001b[0m \u001b[0mKeyError\u001b[0m\u001b[0;34m:\u001b[0m\u001b[0;34m\u001b[0m\u001b[0;34m\u001b[0m\u001b[0m\n\u001b[0;32m-> 2899\u001b[0;31m                 \u001b[0;32mreturn\u001b[0m \u001b[0mself\u001b[0m\u001b[0;34m.\u001b[0m\u001b[0m_engine\u001b[0m\u001b[0;34m.\u001b[0m\u001b[0mget_loc\u001b[0m\u001b[0;34m(\u001b[0m\u001b[0mself\u001b[0m\u001b[0;34m.\u001b[0m\u001b[0m_maybe_cast_indexer\u001b[0m\u001b[0;34m(\u001b[0m\u001b[0mkey\u001b[0m\u001b[0;34m)\u001b[0m\u001b[0;34m)\u001b[0m\u001b[0;34m\u001b[0m\u001b[0;34m\u001b[0m\u001b[0m\n\u001b[0m\u001b[1;32m   2900\u001b[0m         \u001b[0mindexer\u001b[0m \u001b[0;34m=\u001b[0m \u001b[0mself\u001b[0m\u001b[0;34m.\u001b[0m\u001b[0mget_indexer\u001b[0m\u001b[0;34m(\u001b[0m\u001b[0;34m[\u001b[0m\u001b[0mkey\u001b[0m\u001b[0;34m]\u001b[0m\u001b[0;34m,\u001b[0m \u001b[0mmethod\u001b[0m\u001b[0;34m=\u001b[0m\u001b[0mmethod\u001b[0m\u001b[0;34m,\u001b[0m \u001b[0mtolerance\u001b[0m\u001b[0;34m=\u001b[0m\u001b[0mtolerance\u001b[0m\u001b[0;34m)\u001b[0m\u001b[0;34m\u001b[0m\u001b[0;34m\u001b[0m\u001b[0m\n\u001b[1;32m   2901\u001b[0m         \u001b[0;32mif\u001b[0m \u001b[0mindexer\u001b[0m\u001b[0;34m.\u001b[0m\u001b[0mndim\u001b[0m \u001b[0;34m>\u001b[0m \u001b[0;36m1\u001b[0m \u001b[0;32mor\u001b[0m \u001b[0mindexer\u001b[0m\u001b[0;34m.\u001b[0m\u001b[0msize\u001b[0m \u001b[0;34m>\u001b[0m \u001b[0;36m1\u001b[0m\u001b[0;34m:\u001b[0m\u001b[0;34m\u001b[0m\u001b[0;34m\u001b[0m\u001b[0m\n",
      "\u001b[0;32mpandas/_libs/index.pyx\u001b[0m in \u001b[0;36mpandas._libs.index.IndexEngine.get_loc\u001b[0;34m()\u001b[0m\n",
      "\u001b[0;32mpandas/_libs/index.pyx\u001b[0m in \u001b[0;36mpandas._libs.index.IndexEngine.get_loc\u001b[0;34m()\u001b[0m\n",
      "\u001b[0;32mpandas/_libs/hashtable_class_helper.pxi\u001b[0m in \u001b[0;36mpandas._libs.hashtable.PyObjectHashTable.get_item\u001b[0;34m()\u001b[0m\n",
      "\u001b[0;32mpandas/_libs/hashtable_class_helper.pxi\u001b[0m in \u001b[0;36mpandas._libs.hashtable.PyObjectHashTable.get_item\u001b[0;34m()\u001b[0m\n",
      "\u001b[0;31mKeyError\u001b[0m: '지역'"
     ]
    }
   ],
   "source": [
    "freq_area_melted = freq_area.melt(id_vars='지역')"
   ]
  },
  {
   "cell_type": "code",
   "execution_count": 171,
   "metadata": {},
   "outputs": [],
   "source": [
    "freq_area_melted.sort_values(by='value', ascending=False, inplace=True)\n",
    "freq_area_melted.head()\n",
    "freq_area_melted.columns = ['관서',' ','빈도']"
   ]
  },
  {
   "cell_type": "code",
   "execution_count": 172,
   "metadata": {},
   "outputs": [
    {
     "data": {
      "text/html": [
       "<div>\n",
       "<style scoped>\n",
       "    .dataframe tbody tr th:only-of-type {\n",
       "        vertical-align: middle;\n",
       "    }\n",
       "\n",
       "    .dataframe tbody tr th {\n",
       "        vertical-align: top;\n",
       "    }\n",
       "\n",
       "    .dataframe thead th {\n",
       "        text-align: right;\n",
       "    }\n",
       "</style>\n",
       "<table border=\"1\" class=\"dataframe\">\n",
       "  <thead>\n",
       "    <tr style=\"text-align: right;\">\n",
       "      <th></th>\n",
       "      <th>관서</th>\n",
       "      <th></th>\n",
       "      <th>빈도</th>\n",
       "    </tr>\n",
       "  </thead>\n",
       "  <tbody>\n",
       "    <tr>\n",
       "      <td>20</td>\n",
       "      <td>송파</td>\n",
       "      <td>발생 빈도</td>\n",
       "      <td>113367</td>\n",
       "    </tr>\n",
       "    <tr>\n",
       "      <td>4</td>\n",
       "      <td>관악</td>\n",
       "      <td>발생 빈도</td>\n",
       "      <td>109966</td>\n",
       "    </tr>\n",
       "    <tr>\n",
       "      <td>5</td>\n",
       "      <td>광진</td>\n",
       "      <td>발생 빈도</td>\n",
       "      <td>108983</td>\n",
       "    </tr>\n",
       "    <tr>\n",
       "      <td>23</td>\n",
       "      <td>영등포</td>\n",
       "      <td>발생 빈도</td>\n",
       "      <td>108928</td>\n",
       "    </tr>\n",
       "    <tr>\n",
       "      <td>3</td>\n",
       "      <td>강서</td>\n",
       "      <td>발생 빈도</td>\n",
       "      <td>108279</td>\n",
       "    </tr>\n",
       "  </tbody>\n",
       "</table>\n",
       "</div>"
      ],
      "text/plain": [
       "     관서             빈도\n",
       "20   송파  발생 빈도  113367\n",
       "4    관악  발생 빈도  109966\n",
       "5    광진  발생 빈도  108983\n",
       "23  영등포  발생 빈도  108928\n",
       "3    강서  발생 빈도  108279"
      ]
     },
     "execution_count": 172,
     "metadata": {},
     "output_type": "execute_result"
    }
   ],
   "source": [
    "freq_area_melted.head()"
   ]
  },
  {
   "cell_type": "code",
   "execution_count": 175,
   "metadata": {},
   "outputs": [
    {
     "data": {
      "application/vnd.plotly.v1+json": {
       "config": {
        "plotlyServerURL": "https://plot.ly"
       },
       "data": [
        {
         "alignmentgroup": "True",
         "hoverlabel": {
          "namelength": 0
         },
         "hovertemplate": " =발생 빈도<br>관서=%{x}<br>빈도=%{y}",
         "legendgroup": "발생 빈도",
         "marker": {
          "color": "rgb(141,211,199)"
         },
         "name": "발생 빈도",
         "offsetgroup": "발생 빈도",
         "orientation": "v",
         "showlegend": true,
         "textposition": "auto",
         "type": "bar",
         "x": [
          "송파",
          "관악",
          "광진",
          "영등포",
          "강서",
          "강남",
          "마포",
          "구로",
          "중랑",
          "강동",
          "동대문",
          "금천",
          "양천",
          "노원",
          "강북",
          "동작",
          "서초",
          "서대문",
          "수서",
          "성동",
          "용산",
          "도봉",
          "은평",
          "중부",
          "혜화",
          "서부",
          "종암",
          "성북",
          "종로",
          "남대문",
          "방배"
         ],
         "xaxis": "x",
         "y": [
          113367,
          109966,
          108983,
          108928,
          108279,
          108201,
          100270,
          100166,
          100002,
          91994,
          89412,
          86659,
          82014,
          81668,
          76954,
          75404,
          75214,
          72773,
          71408,
          67224,
          67209,
          62280,
          54194,
          51459,
          51025,
          49489,
          46916,
          44026,
          43920,
          36654,
          32469
         ],
         "yaxis": "y"
        },
        {
         "alignmentgroup": "True",
         "hoverlabel": {
          "namelength": 0
         },
         "hovertemplate": " =검거 빈도<br>관서=%{x}<br>빈도=%{y}",
         "legendgroup": "검거 빈도",
         "marker": {
          "color": "rgb(255,255,179)"
         },
         "name": "검거 빈도",
         "offsetgroup": "검거 빈도",
         "orientation": "v",
         "showlegend": true,
         "textposition": "auto",
         "type": "bar",
         "x": [
          "강서",
          "중랑",
          "영등포",
          "광진",
          "강남",
          "송파",
          "동대문",
          "관악",
          "강동",
          "구로",
          "마포",
          "금천",
          "강북",
          "노원",
          "양천",
          "서초",
          "서대문",
          "동작",
          "용산",
          "성동",
          "수서",
          "도봉",
          "은평",
          "혜화",
          "서부",
          "종암",
          "중부",
          "성북",
          "종로",
          "남대문",
          "방배"
         ],
         "xaxis": "x",
         "y": [
          80481,
          80392,
          79128,
          77936,
          76302,
          76268,
          74970,
          73510,
          73508,
          71310,
          70450,
          66294,
          63990,
          63699,
          59550,
          54829,
          53895,
          53285,
          52274,
          51855,
          50073,
          48798,
          41487,
          41222,
          39817,
          38660,
          38408,
          34931,
          34545,
          28388,
          24743
         ],
         "yaxis": "y"
        }
       ],
       "layout": {
        "barmode": "group",
        "height": 400,
        "legend": {
         "title": {
          "text": " "
         },
         "tracegroupgap": 0
        },
        "margin": {
         "t": 60
        },
        "template": {
         "data": {
          "bar": [
           {
            "error_x": {
             "color": "#2a3f5f"
            },
            "error_y": {
             "color": "#2a3f5f"
            },
            "marker": {
             "line": {
              "color": "#E5ECF6",
              "width": 0.5
             }
            },
            "type": "bar"
           }
          ],
          "barpolar": [
           {
            "marker": {
             "line": {
              "color": "#E5ECF6",
              "width": 0.5
             }
            },
            "type": "barpolar"
           }
          ],
          "carpet": [
           {
            "aaxis": {
             "endlinecolor": "#2a3f5f",
             "gridcolor": "white",
             "linecolor": "white",
             "minorgridcolor": "white",
             "startlinecolor": "#2a3f5f"
            },
            "baxis": {
             "endlinecolor": "#2a3f5f",
             "gridcolor": "white",
             "linecolor": "white",
             "minorgridcolor": "white",
             "startlinecolor": "#2a3f5f"
            },
            "type": "carpet"
           }
          ],
          "choropleth": [
           {
            "colorbar": {
             "outlinewidth": 0,
             "ticks": ""
            },
            "type": "choropleth"
           }
          ],
          "contour": [
           {
            "colorbar": {
             "outlinewidth": 0,
             "ticks": ""
            },
            "colorscale": [
             [
              0,
              "#0d0887"
             ],
             [
              0.1111111111111111,
              "#46039f"
             ],
             [
              0.2222222222222222,
              "#7201a8"
             ],
             [
              0.3333333333333333,
              "#9c179e"
             ],
             [
              0.4444444444444444,
              "#bd3786"
             ],
             [
              0.5555555555555556,
              "#d8576b"
             ],
             [
              0.6666666666666666,
              "#ed7953"
             ],
             [
              0.7777777777777778,
              "#fb9f3a"
             ],
             [
              0.8888888888888888,
              "#fdca26"
             ],
             [
              1,
              "#f0f921"
             ]
            ],
            "type": "contour"
           }
          ],
          "contourcarpet": [
           {
            "colorbar": {
             "outlinewidth": 0,
             "ticks": ""
            },
            "type": "contourcarpet"
           }
          ],
          "heatmap": [
           {
            "colorbar": {
             "outlinewidth": 0,
             "ticks": ""
            },
            "colorscale": [
             [
              0,
              "#0d0887"
             ],
             [
              0.1111111111111111,
              "#46039f"
             ],
             [
              0.2222222222222222,
              "#7201a8"
             ],
             [
              0.3333333333333333,
              "#9c179e"
             ],
             [
              0.4444444444444444,
              "#bd3786"
             ],
             [
              0.5555555555555556,
              "#d8576b"
             ],
             [
              0.6666666666666666,
              "#ed7953"
             ],
             [
              0.7777777777777778,
              "#fb9f3a"
             ],
             [
              0.8888888888888888,
              "#fdca26"
             ],
             [
              1,
              "#f0f921"
             ]
            ],
            "type": "heatmap"
           }
          ],
          "heatmapgl": [
           {
            "colorbar": {
             "outlinewidth": 0,
             "ticks": ""
            },
            "colorscale": [
             [
              0,
              "#0d0887"
             ],
             [
              0.1111111111111111,
              "#46039f"
             ],
             [
              0.2222222222222222,
              "#7201a8"
             ],
             [
              0.3333333333333333,
              "#9c179e"
             ],
             [
              0.4444444444444444,
              "#bd3786"
             ],
             [
              0.5555555555555556,
              "#d8576b"
             ],
             [
              0.6666666666666666,
              "#ed7953"
             ],
             [
              0.7777777777777778,
              "#fb9f3a"
             ],
             [
              0.8888888888888888,
              "#fdca26"
             ],
             [
              1,
              "#f0f921"
             ]
            ],
            "type": "heatmapgl"
           }
          ],
          "histogram": [
           {
            "marker": {
             "colorbar": {
              "outlinewidth": 0,
              "ticks": ""
             }
            },
            "type": "histogram"
           }
          ],
          "histogram2d": [
           {
            "colorbar": {
             "outlinewidth": 0,
             "ticks": ""
            },
            "colorscale": [
             [
              0,
              "#0d0887"
             ],
             [
              0.1111111111111111,
              "#46039f"
             ],
             [
              0.2222222222222222,
              "#7201a8"
             ],
             [
              0.3333333333333333,
              "#9c179e"
             ],
             [
              0.4444444444444444,
              "#bd3786"
             ],
             [
              0.5555555555555556,
              "#d8576b"
             ],
             [
              0.6666666666666666,
              "#ed7953"
             ],
             [
              0.7777777777777778,
              "#fb9f3a"
             ],
             [
              0.8888888888888888,
              "#fdca26"
             ],
             [
              1,
              "#f0f921"
             ]
            ],
            "type": "histogram2d"
           }
          ],
          "histogram2dcontour": [
           {
            "colorbar": {
             "outlinewidth": 0,
             "ticks": ""
            },
            "colorscale": [
             [
              0,
              "#0d0887"
             ],
             [
              0.1111111111111111,
              "#46039f"
             ],
             [
              0.2222222222222222,
              "#7201a8"
             ],
             [
              0.3333333333333333,
              "#9c179e"
             ],
             [
              0.4444444444444444,
              "#bd3786"
             ],
             [
              0.5555555555555556,
              "#d8576b"
             ],
             [
              0.6666666666666666,
              "#ed7953"
             ],
             [
              0.7777777777777778,
              "#fb9f3a"
             ],
             [
              0.8888888888888888,
              "#fdca26"
             ],
             [
              1,
              "#f0f921"
             ]
            ],
            "type": "histogram2dcontour"
           }
          ],
          "mesh3d": [
           {
            "colorbar": {
             "outlinewidth": 0,
             "ticks": ""
            },
            "type": "mesh3d"
           }
          ],
          "parcoords": [
           {
            "line": {
             "colorbar": {
              "outlinewidth": 0,
              "ticks": ""
             }
            },
            "type": "parcoords"
           }
          ],
          "pie": [
           {
            "automargin": true,
            "type": "pie"
           }
          ],
          "scatter": [
           {
            "marker": {
             "colorbar": {
              "outlinewidth": 0,
              "ticks": ""
             }
            },
            "type": "scatter"
           }
          ],
          "scatter3d": [
           {
            "line": {
             "colorbar": {
              "outlinewidth": 0,
              "ticks": ""
             }
            },
            "marker": {
             "colorbar": {
              "outlinewidth": 0,
              "ticks": ""
             }
            },
            "type": "scatter3d"
           }
          ],
          "scattercarpet": [
           {
            "marker": {
             "colorbar": {
              "outlinewidth": 0,
              "ticks": ""
             }
            },
            "type": "scattercarpet"
           }
          ],
          "scattergeo": [
           {
            "marker": {
             "colorbar": {
              "outlinewidth": 0,
              "ticks": ""
             }
            },
            "type": "scattergeo"
           }
          ],
          "scattergl": [
           {
            "marker": {
             "colorbar": {
              "outlinewidth": 0,
              "ticks": ""
             }
            },
            "type": "scattergl"
           }
          ],
          "scattermapbox": [
           {
            "marker": {
             "colorbar": {
              "outlinewidth": 0,
              "ticks": ""
             }
            },
            "type": "scattermapbox"
           }
          ],
          "scatterpolar": [
           {
            "marker": {
             "colorbar": {
              "outlinewidth": 0,
              "ticks": ""
             }
            },
            "type": "scatterpolar"
           }
          ],
          "scatterpolargl": [
           {
            "marker": {
             "colorbar": {
              "outlinewidth": 0,
              "ticks": ""
             }
            },
            "type": "scatterpolargl"
           }
          ],
          "scatterternary": [
           {
            "marker": {
             "colorbar": {
              "outlinewidth": 0,
              "ticks": ""
             }
            },
            "type": "scatterternary"
           }
          ],
          "surface": [
           {
            "colorbar": {
             "outlinewidth": 0,
             "ticks": ""
            },
            "colorscale": [
             [
              0,
              "#0d0887"
             ],
             [
              0.1111111111111111,
              "#46039f"
             ],
             [
              0.2222222222222222,
              "#7201a8"
             ],
             [
              0.3333333333333333,
              "#9c179e"
             ],
             [
              0.4444444444444444,
              "#bd3786"
             ],
             [
              0.5555555555555556,
              "#d8576b"
             ],
             [
              0.6666666666666666,
              "#ed7953"
             ],
             [
              0.7777777777777778,
              "#fb9f3a"
             ],
             [
              0.8888888888888888,
              "#fdca26"
             ],
             [
              1,
              "#f0f921"
             ]
            ],
            "type": "surface"
           }
          ],
          "table": [
           {
            "cells": {
             "fill": {
              "color": "#EBF0F8"
             },
             "line": {
              "color": "white"
             }
            },
            "header": {
             "fill": {
              "color": "#C8D4E3"
             },
             "line": {
              "color": "white"
             }
            },
            "type": "table"
           }
          ]
         },
         "layout": {
          "annotationdefaults": {
           "arrowcolor": "#2a3f5f",
           "arrowhead": 0,
           "arrowwidth": 1
          },
          "coloraxis": {
           "colorbar": {
            "outlinewidth": 0,
            "ticks": ""
           }
          },
          "colorscale": {
           "diverging": [
            [
             0,
             "#8e0152"
            ],
            [
             0.1,
             "#c51b7d"
            ],
            [
             0.2,
             "#de77ae"
            ],
            [
             0.3,
             "#f1b6da"
            ],
            [
             0.4,
             "#fde0ef"
            ],
            [
             0.5,
             "#f7f7f7"
            ],
            [
             0.6,
             "#e6f5d0"
            ],
            [
             0.7,
             "#b8e186"
            ],
            [
             0.8,
             "#7fbc41"
            ],
            [
             0.9,
             "#4d9221"
            ],
            [
             1,
             "#276419"
            ]
           ],
           "sequential": [
            [
             0,
             "#0d0887"
            ],
            [
             0.1111111111111111,
             "#46039f"
            ],
            [
             0.2222222222222222,
             "#7201a8"
            ],
            [
             0.3333333333333333,
             "#9c179e"
            ],
            [
             0.4444444444444444,
             "#bd3786"
            ],
            [
             0.5555555555555556,
             "#d8576b"
            ],
            [
             0.6666666666666666,
             "#ed7953"
            ],
            [
             0.7777777777777778,
             "#fb9f3a"
            ],
            [
             0.8888888888888888,
             "#fdca26"
            ],
            [
             1,
             "#f0f921"
            ]
           ],
           "sequentialminus": [
            [
             0,
             "#0d0887"
            ],
            [
             0.1111111111111111,
             "#46039f"
            ],
            [
             0.2222222222222222,
             "#7201a8"
            ],
            [
             0.3333333333333333,
             "#9c179e"
            ],
            [
             0.4444444444444444,
             "#bd3786"
            ],
            [
             0.5555555555555556,
             "#d8576b"
            ],
            [
             0.6666666666666666,
             "#ed7953"
            ],
            [
             0.7777777777777778,
             "#fb9f3a"
            ],
            [
             0.8888888888888888,
             "#fdca26"
            ],
            [
             1,
             "#f0f921"
            ]
           ]
          },
          "colorway": [
           "#636efa",
           "#EF553B",
           "#00cc96",
           "#ab63fa",
           "#FFA15A",
           "#19d3f3",
           "#FF6692",
           "#B6E880",
           "#FF97FF",
           "#FECB52"
          ],
          "font": {
           "color": "#2a3f5f"
          },
          "geo": {
           "bgcolor": "white",
           "lakecolor": "white",
           "landcolor": "#E5ECF6",
           "showlakes": true,
           "showland": true,
           "subunitcolor": "white"
          },
          "hoverlabel": {
           "align": "left"
          },
          "hovermode": "closest",
          "mapbox": {
           "style": "light"
          },
          "paper_bgcolor": "white",
          "plot_bgcolor": "#E5ECF6",
          "polar": {
           "angularaxis": {
            "gridcolor": "white",
            "linecolor": "white",
            "ticks": ""
           },
           "bgcolor": "#E5ECF6",
           "radialaxis": {
            "gridcolor": "white",
            "linecolor": "white",
            "ticks": ""
           }
          },
          "scene": {
           "xaxis": {
            "backgroundcolor": "#E5ECF6",
            "gridcolor": "white",
            "gridwidth": 2,
            "linecolor": "white",
            "showbackground": true,
            "ticks": "",
            "zerolinecolor": "white"
           },
           "yaxis": {
            "backgroundcolor": "#E5ECF6",
            "gridcolor": "white",
            "gridwidth": 2,
            "linecolor": "white",
            "showbackground": true,
            "ticks": "",
            "zerolinecolor": "white"
           },
           "zaxis": {
            "backgroundcolor": "#E5ECF6",
            "gridcolor": "white",
            "gridwidth": 2,
            "linecolor": "white",
            "showbackground": true,
            "ticks": "",
            "zerolinecolor": "white"
           }
          },
          "shapedefaults": {
           "line": {
            "color": "#2a3f5f"
           }
          },
          "ternary": {
           "aaxis": {
            "gridcolor": "white",
            "linecolor": "white",
            "ticks": ""
           },
           "baxis": {
            "gridcolor": "white",
            "linecolor": "white",
            "ticks": ""
           },
           "bgcolor": "#E5ECF6",
           "caxis": {
            "gridcolor": "white",
            "linecolor": "white",
            "ticks": ""
           }
          },
          "title": {
           "x": 0.05
          },
          "xaxis": {
           "automargin": true,
           "gridcolor": "white",
           "linecolor": "white",
           "ticks": "",
           "title": {
            "standoff": 15
           },
           "zerolinecolor": "white",
           "zerolinewidth": 2
          },
          "yaxis": {
           "automargin": true,
           "gridcolor": "white",
           "linecolor": "white",
           "ticks": "",
           "title": {
            "standoff": 15
           },
           "zerolinecolor": "white",
           "zerolinewidth": 2
          }
         }
        },
        "title": {
         "text": "서울시내 관서별 5대 범죄 발생 횟수 및 검거 횟수"
        },
        "xaxis": {
         "anchor": "y",
         "domain": [
          0,
          1
         ],
         "tickangle": -45,
         "title": {
          "text": "관서명"
         }
        },
        "yaxis": {
         "anchor": "x",
         "domain": [
          0,
          1
         ],
         "title": {
          "text": "횟수"
         }
        }
       }
      },
      "text/html": [
       "<div>\n",
       "        \n",
       "        \n",
       "            <div id=\"88ab6c4f-99dd-480e-9e81-8c3af8ea2010\" class=\"plotly-graph-div\" style=\"height:400px; width:100%;\"></div>\n",
       "            <script type=\"text/javascript\">\n",
       "                require([\"plotly\"], function(Plotly) {\n",
       "                    window.PLOTLYENV=window.PLOTLYENV || {};\n",
       "                    \n",
       "                if (document.getElementById(\"88ab6c4f-99dd-480e-9e81-8c3af8ea2010\")) {\n",
       "                    Plotly.newPlot(\n",
       "                        '88ab6c4f-99dd-480e-9e81-8c3af8ea2010',\n",
       "                        [{\"alignmentgroup\": \"True\", \"hoverlabel\": {\"namelength\": 0}, \"hovertemplate\": \" =\\ubc1c\\uc0dd \\ube48\\ub3c4<br>\\uad00\\uc11c=%{x}<br>\\ube48\\ub3c4=%{y}\", \"legendgroup\": \"\\ubc1c\\uc0dd \\ube48\\ub3c4\", \"marker\": {\"color\": \"rgb(141,211,199)\"}, \"name\": \"\\ubc1c\\uc0dd \\ube48\\ub3c4\", \"offsetgroup\": \"\\ubc1c\\uc0dd \\ube48\\ub3c4\", \"orientation\": \"v\", \"showlegend\": true, \"textposition\": \"auto\", \"type\": \"bar\", \"x\": [\"\\uc1a1\\ud30c\", \"\\uad00\\uc545\", \"\\uad11\\uc9c4\", \"\\uc601\\ub4f1\\ud3ec\", \"\\uac15\\uc11c\", \"\\uac15\\ub0a8\", \"\\ub9c8\\ud3ec\", \"\\uad6c\\ub85c\", \"\\uc911\\ub791\", \"\\uac15\\ub3d9\", \"\\ub3d9\\ub300\\ubb38\", \"\\uae08\\ucc9c\", \"\\uc591\\ucc9c\", \"\\ub178\\uc6d0\", \"\\uac15\\ubd81\", \"\\ub3d9\\uc791\", \"\\uc11c\\ucd08\", \"\\uc11c\\ub300\\ubb38\", \"\\uc218\\uc11c\", \"\\uc131\\ub3d9\", \"\\uc6a9\\uc0b0\", \"\\ub3c4\\ubd09\", \"\\uc740\\ud3c9\", \"\\uc911\\ubd80\", \"\\ud61c\\ud654\", \"\\uc11c\\ubd80\", \"\\uc885\\uc554\", \"\\uc131\\ubd81\", \"\\uc885\\ub85c\", \"\\ub0a8\\ub300\\ubb38\", \"\\ubc29\\ubc30\"], \"xaxis\": \"x\", \"y\": [113367, 109966, 108983, 108928, 108279, 108201, 100270, 100166, 100002, 91994, 89412, 86659, 82014, 81668, 76954, 75404, 75214, 72773, 71408, 67224, 67209, 62280, 54194, 51459, 51025, 49489, 46916, 44026, 43920, 36654, 32469], \"yaxis\": \"y\"}, {\"alignmentgroup\": \"True\", \"hoverlabel\": {\"namelength\": 0}, \"hovertemplate\": \" =\\uac80\\uac70 \\ube48\\ub3c4<br>\\uad00\\uc11c=%{x}<br>\\ube48\\ub3c4=%{y}\", \"legendgroup\": \"\\uac80\\uac70 \\ube48\\ub3c4\", \"marker\": {\"color\": \"rgb(255,255,179)\"}, \"name\": \"\\uac80\\uac70 \\ube48\\ub3c4\", \"offsetgroup\": \"\\uac80\\uac70 \\ube48\\ub3c4\", \"orientation\": \"v\", \"showlegend\": true, \"textposition\": \"auto\", \"type\": \"bar\", \"x\": [\"\\uac15\\uc11c\", \"\\uc911\\ub791\", \"\\uc601\\ub4f1\\ud3ec\", \"\\uad11\\uc9c4\", \"\\uac15\\ub0a8\", \"\\uc1a1\\ud30c\", \"\\ub3d9\\ub300\\ubb38\", \"\\uad00\\uc545\", \"\\uac15\\ub3d9\", \"\\uad6c\\ub85c\", \"\\ub9c8\\ud3ec\", \"\\uae08\\ucc9c\", \"\\uac15\\ubd81\", \"\\ub178\\uc6d0\", \"\\uc591\\ucc9c\", \"\\uc11c\\ucd08\", \"\\uc11c\\ub300\\ubb38\", \"\\ub3d9\\uc791\", \"\\uc6a9\\uc0b0\", \"\\uc131\\ub3d9\", \"\\uc218\\uc11c\", \"\\ub3c4\\ubd09\", \"\\uc740\\ud3c9\", \"\\ud61c\\ud654\", \"\\uc11c\\ubd80\", \"\\uc885\\uc554\", \"\\uc911\\ubd80\", \"\\uc131\\ubd81\", \"\\uc885\\ub85c\", \"\\ub0a8\\ub300\\ubb38\", \"\\ubc29\\ubc30\"], \"xaxis\": \"x\", \"y\": [80481, 80392, 79128, 77936, 76302, 76268, 74970, 73510, 73508, 71310, 70450, 66294, 63990, 63699, 59550, 54829, 53895, 53285, 52274, 51855, 50073, 48798, 41487, 41222, 39817, 38660, 38408, 34931, 34545, 28388, 24743], \"yaxis\": \"y\"}],\n",
       "                        {\"barmode\": \"group\", \"height\": 400, \"legend\": {\"title\": {\"text\": \" \"}, \"tracegroupgap\": 0}, \"margin\": {\"t\": 60}, \"template\": {\"data\": {\"bar\": [{\"error_x\": {\"color\": \"#2a3f5f\"}, \"error_y\": {\"color\": \"#2a3f5f\"}, \"marker\": {\"line\": {\"color\": \"#E5ECF6\", \"width\": 0.5}}, \"type\": \"bar\"}], \"barpolar\": [{\"marker\": {\"line\": {\"color\": \"#E5ECF6\", \"width\": 0.5}}, \"type\": \"barpolar\"}], \"carpet\": [{\"aaxis\": {\"endlinecolor\": \"#2a3f5f\", \"gridcolor\": \"white\", \"linecolor\": \"white\", \"minorgridcolor\": \"white\", \"startlinecolor\": \"#2a3f5f\"}, \"baxis\": {\"endlinecolor\": \"#2a3f5f\", \"gridcolor\": \"white\", \"linecolor\": \"white\", \"minorgridcolor\": \"white\", \"startlinecolor\": \"#2a3f5f\"}, \"type\": \"carpet\"}], \"choropleth\": [{\"colorbar\": {\"outlinewidth\": 0, \"ticks\": \"\"}, \"type\": \"choropleth\"}], \"contour\": [{\"colorbar\": {\"outlinewidth\": 0, \"ticks\": \"\"}, \"colorscale\": [[0.0, \"#0d0887\"], [0.1111111111111111, \"#46039f\"], [0.2222222222222222, \"#7201a8\"], [0.3333333333333333, \"#9c179e\"], [0.4444444444444444, \"#bd3786\"], [0.5555555555555556, \"#d8576b\"], [0.6666666666666666, \"#ed7953\"], [0.7777777777777778, \"#fb9f3a\"], [0.8888888888888888, \"#fdca26\"], [1.0, \"#f0f921\"]], \"type\": \"contour\"}], \"contourcarpet\": [{\"colorbar\": {\"outlinewidth\": 0, \"ticks\": \"\"}, \"type\": \"contourcarpet\"}], \"heatmap\": [{\"colorbar\": {\"outlinewidth\": 0, \"ticks\": \"\"}, \"colorscale\": [[0.0, \"#0d0887\"], [0.1111111111111111, \"#46039f\"], [0.2222222222222222, \"#7201a8\"], [0.3333333333333333, \"#9c179e\"], [0.4444444444444444, \"#bd3786\"], [0.5555555555555556, \"#d8576b\"], [0.6666666666666666, \"#ed7953\"], [0.7777777777777778, \"#fb9f3a\"], [0.8888888888888888, \"#fdca26\"], [1.0, \"#f0f921\"]], \"type\": \"heatmap\"}], \"heatmapgl\": [{\"colorbar\": {\"outlinewidth\": 0, \"ticks\": \"\"}, \"colorscale\": [[0.0, \"#0d0887\"], [0.1111111111111111, \"#46039f\"], [0.2222222222222222, \"#7201a8\"], [0.3333333333333333, \"#9c179e\"], [0.4444444444444444, \"#bd3786\"], [0.5555555555555556, \"#d8576b\"], [0.6666666666666666, \"#ed7953\"], [0.7777777777777778, \"#fb9f3a\"], [0.8888888888888888, \"#fdca26\"], [1.0, \"#f0f921\"]], \"type\": \"heatmapgl\"}], \"histogram\": [{\"marker\": {\"colorbar\": {\"outlinewidth\": 0, \"ticks\": \"\"}}, \"type\": \"histogram\"}], \"histogram2d\": [{\"colorbar\": {\"outlinewidth\": 0, \"ticks\": \"\"}, \"colorscale\": [[0.0, \"#0d0887\"], [0.1111111111111111, \"#46039f\"], [0.2222222222222222, \"#7201a8\"], [0.3333333333333333, \"#9c179e\"], [0.4444444444444444, \"#bd3786\"], [0.5555555555555556, \"#d8576b\"], [0.6666666666666666, \"#ed7953\"], [0.7777777777777778, \"#fb9f3a\"], [0.8888888888888888, \"#fdca26\"], [1.0, \"#f0f921\"]], \"type\": \"histogram2d\"}], \"histogram2dcontour\": [{\"colorbar\": {\"outlinewidth\": 0, \"ticks\": \"\"}, \"colorscale\": [[0.0, \"#0d0887\"], [0.1111111111111111, \"#46039f\"], [0.2222222222222222, \"#7201a8\"], [0.3333333333333333, \"#9c179e\"], [0.4444444444444444, \"#bd3786\"], [0.5555555555555556, \"#d8576b\"], [0.6666666666666666, \"#ed7953\"], [0.7777777777777778, \"#fb9f3a\"], [0.8888888888888888, \"#fdca26\"], [1.0, \"#f0f921\"]], \"type\": \"histogram2dcontour\"}], \"mesh3d\": [{\"colorbar\": {\"outlinewidth\": 0, \"ticks\": \"\"}, \"type\": \"mesh3d\"}], \"parcoords\": [{\"line\": {\"colorbar\": {\"outlinewidth\": 0, \"ticks\": \"\"}}, \"type\": \"parcoords\"}], \"pie\": [{\"automargin\": true, \"type\": \"pie\"}], \"scatter\": [{\"marker\": {\"colorbar\": {\"outlinewidth\": 0, \"ticks\": \"\"}}, \"type\": \"scatter\"}], \"scatter3d\": [{\"line\": {\"colorbar\": {\"outlinewidth\": 0, \"ticks\": \"\"}}, \"marker\": {\"colorbar\": {\"outlinewidth\": 0, \"ticks\": \"\"}}, \"type\": \"scatter3d\"}], \"scattercarpet\": [{\"marker\": {\"colorbar\": {\"outlinewidth\": 0, \"ticks\": \"\"}}, \"type\": \"scattercarpet\"}], \"scattergeo\": [{\"marker\": {\"colorbar\": {\"outlinewidth\": 0, \"ticks\": \"\"}}, \"type\": \"scattergeo\"}], \"scattergl\": [{\"marker\": {\"colorbar\": {\"outlinewidth\": 0, \"ticks\": \"\"}}, \"type\": \"scattergl\"}], \"scattermapbox\": [{\"marker\": {\"colorbar\": {\"outlinewidth\": 0, \"ticks\": \"\"}}, \"type\": \"scattermapbox\"}], \"scatterpolar\": [{\"marker\": {\"colorbar\": {\"outlinewidth\": 0, \"ticks\": \"\"}}, \"type\": \"scatterpolar\"}], \"scatterpolargl\": [{\"marker\": {\"colorbar\": {\"outlinewidth\": 0, \"ticks\": \"\"}}, \"type\": \"scatterpolargl\"}], \"scatterternary\": [{\"marker\": {\"colorbar\": {\"outlinewidth\": 0, \"ticks\": \"\"}}, \"type\": \"scatterternary\"}], \"surface\": [{\"colorbar\": {\"outlinewidth\": 0, \"ticks\": \"\"}, \"colorscale\": [[0.0, \"#0d0887\"], [0.1111111111111111, \"#46039f\"], [0.2222222222222222, \"#7201a8\"], [0.3333333333333333, \"#9c179e\"], [0.4444444444444444, \"#bd3786\"], [0.5555555555555556, \"#d8576b\"], [0.6666666666666666, \"#ed7953\"], [0.7777777777777778, \"#fb9f3a\"], [0.8888888888888888, \"#fdca26\"], [1.0, \"#f0f921\"]], \"type\": \"surface\"}], \"table\": [{\"cells\": {\"fill\": {\"color\": \"#EBF0F8\"}, \"line\": {\"color\": \"white\"}}, \"header\": {\"fill\": {\"color\": \"#C8D4E3\"}, \"line\": {\"color\": \"white\"}}, \"type\": \"table\"}]}, \"layout\": {\"annotationdefaults\": {\"arrowcolor\": \"#2a3f5f\", \"arrowhead\": 0, \"arrowwidth\": 1}, \"coloraxis\": {\"colorbar\": {\"outlinewidth\": 0, \"ticks\": \"\"}}, \"colorscale\": {\"diverging\": [[0, \"#8e0152\"], [0.1, \"#c51b7d\"], [0.2, \"#de77ae\"], [0.3, \"#f1b6da\"], [0.4, \"#fde0ef\"], [0.5, \"#f7f7f7\"], [0.6, \"#e6f5d0\"], [0.7, \"#b8e186\"], [0.8, \"#7fbc41\"], [0.9, \"#4d9221\"], [1, \"#276419\"]], \"sequential\": [[0.0, \"#0d0887\"], [0.1111111111111111, \"#46039f\"], [0.2222222222222222, \"#7201a8\"], [0.3333333333333333, \"#9c179e\"], [0.4444444444444444, \"#bd3786\"], [0.5555555555555556, \"#d8576b\"], [0.6666666666666666, \"#ed7953\"], [0.7777777777777778, \"#fb9f3a\"], [0.8888888888888888, \"#fdca26\"], [1.0, \"#f0f921\"]], \"sequentialminus\": [[0.0, \"#0d0887\"], [0.1111111111111111, \"#46039f\"], [0.2222222222222222, \"#7201a8\"], [0.3333333333333333, \"#9c179e\"], [0.4444444444444444, \"#bd3786\"], [0.5555555555555556, \"#d8576b\"], [0.6666666666666666, \"#ed7953\"], [0.7777777777777778, \"#fb9f3a\"], [0.8888888888888888, \"#fdca26\"], [1.0, \"#f0f921\"]]}, \"colorway\": [\"#636efa\", \"#EF553B\", \"#00cc96\", \"#ab63fa\", \"#FFA15A\", \"#19d3f3\", \"#FF6692\", \"#B6E880\", \"#FF97FF\", \"#FECB52\"], \"font\": {\"color\": \"#2a3f5f\"}, \"geo\": {\"bgcolor\": \"white\", \"lakecolor\": \"white\", \"landcolor\": \"#E5ECF6\", \"showlakes\": true, \"showland\": true, \"subunitcolor\": \"white\"}, \"hoverlabel\": {\"align\": \"left\"}, \"hovermode\": \"closest\", \"mapbox\": {\"style\": \"light\"}, \"paper_bgcolor\": \"white\", \"plot_bgcolor\": \"#E5ECF6\", \"polar\": {\"angularaxis\": {\"gridcolor\": \"white\", \"linecolor\": \"white\", \"ticks\": \"\"}, \"bgcolor\": \"#E5ECF6\", \"radialaxis\": {\"gridcolor\": \"white\", \"linecolor\": \"white\", \"ticks\": \"\"}}, \"scene\": {\"xaxis\": {\"backgroundcolor\": \"#E5ECF6\", \"gridcolor\": \"white\", \"gridwidth\": 2, \"linecolor\": \"white\", \"showbackground\": true, \"ticks\": \"\", \"zerolinecolor\": \"white\"}, \"yaxis\": {\"backgroundcolor\": \"#E5ECF6\", \"gridcolor\": \"white\", \"gridwidth\": 2, \"linecolor\": \"white\", \"showbackground\": true, \"ticks\": \"\", \"zerolinecolor\": \"white\"}, \"zaxis\": {\"backgroundcolor\": \"#E5ECF6\", \"gridcolor\": \"white\", \"gridwidth\": 2, \"linecolor\": \"white\", \"showbackground\": true, \"ticks\": \"\", \"zerolinecolor\": \"white\"}}, \"shapedefaults\": {\"line\": {\"color\": \"#2a3f5f\"}}, \"ternary\": {\"aaxis\": {\"gridcolor\": \"white\", \"linecolor\": \"white\", \"ticks\": \"\"}, \"baxis\": {\"gridcolor\": \"white\", \"linecolor\": \"white\", \"ticks\": \"\"}, \"bgcolor\": \"#E5ECF6\", \"caxis\": {\"gridcolor\": \"white\", \"linecolor\": \"white\", \"ticks\": \"\"}}, \"title\": {\"x\": 0.05}, \"xaxis\": {\"automargin\": true, \"gridcolor\": \"white\", \"linecolor\": \"white\", \"ticks\": \"\", \"title\": {\"standoff\": 15}, \"zerolinecolor\": \"white\", \"zerolinewidth\": 2}, \"yaxis\": {\"automargin\": true, \"gridcolor\": \"white\", \"linecolor\": \"white\", \"ticks\": \"\", \"title\": {\"standoff\": 15}, \"zerolinecolor\": \"white\", \"zerolinewidth\": 2}}}, \"title\": {\"text\": \"\\uc11c\\uc6b8\\uc2dc\\ub0b4 \\uad00\\uc11c\\ubcc4 5\\ub300 \\ubc94\\uc8c4 \\ubc1c\\uc0dd \\ud69f\\uc218 \\ubc0f \\uac80\\uac70 \\ud69f\\uc218\"}, \"xaxis\": {\"anchor\": \"y\", \"domain\": [0.0, 1.0], \"tickangle\": -45, \"title\": {\"text\": \"\\uad00\\uc11c\\uba85\"}}, \"yaxis\": {\"anchor\": \"x\", \"domain\": [0.0, 1.0], \"title\": {\"text\": \"\\ud69f\\uc218\"}}},\n",
       "                        {\"responsive\": true}\n",
       "                    ).then(function(){\n",
       "                            \n",
       "var gd = document.getElementById('88ab6c4f-99dd-480e-9e81-8c3af8ea2010');\n",
       "var x = new MutationObserver(function (mutations, observer) {{\n",
       "        var display = window.getComputedStyle(gd).display;\n",
       "        if (!display || display === 'none') {{\n",
       "            console.log([gd, 'removed!']);\n",
       "            Plotly.purge(gd);\n",
       "            observer.disconnect();\n",
       "        }}\n",
       "}});\n",
       "\n",
       "// Listen for the removal of the full notebook cells\n",
       "var notebookContainer = gd.closest('#notebook-container');\n",
       "if (notebookContainer) {{\n",
       "    x.observe(notebookContainer, {childList: true});\n",
       "}}\n",
       "\n",
       "// Listen for the clearing of the current output cell\n",
       "var outputEl = gd.closest('.output');\n",
       "if (outputEl) {{\n",
       "    x.observe(outputEl, {childList: true});\n",
       "}}\n",
       "\n",
       "                        })\n",
       "                };\n",
       "                });\n",
       "            </script>\n",
       "        </div>"
      ]
     },
     "metadata": {},
     "output_type": "display_data"
    },
    {
     "data": {
      "text/plain": [
       "<Figure size 1080x576 with 0 Axes>"
      ]
     },
     "metadata": {},
     "output_type": "display_data"
    }
   ],
   "source": [
    "# execute PLOTLY \n",
    "import plotly.express as px\n",
    "plt.figure(figsize=(15,8))\n",
    "fig = px.bar(freq_area_melted, x=\"관서\", y=\"빈도\", color=' ', barmode='group',\n",
    "             height=400,color_discrete_sequence=px.colors.qualitative.Set3)\n",
    "\n",
    "fig.update_layout(\n",
    "    title='서울시내 관서별 5대 범죄 발생 횟수 및 검거 횟수',\n",
    "    yaxis_title=\"횟수\", xaxis_title='관서명',xaxis_tickangle=-45)\n",
    "\n",
    "\n",
    "fig.show()\n"
   ]
  },
  {
   "cell_type": "code",
   "execution_count": 212,
   "metadata": {},
   "outputs": [
    {
     "data": {
      "image/png": "[encoded data removed]",
      "text/plain": [
       "<Figure size 432x288 with 1 Axes>"
      ]
     },
     "metadata": {
      "needs_background": "light"
     },
     "output_type": "display_data"
    }
   ],
   "source": [
    "plt.plot(freq_rate_area['발생 빈도'], color='#d62728', label='발생 빈도')\n",
    "plt.plot(freq_rate_area['검거 빈도'], color='#e377ce', label = '검거 빈도')\n",
    "plt.show()"
   ]
  },
  {
   "cell_type": "code",
   "execution_count": 264,
   "metadata": {},
   "outputs": [
    {
     "data": {
      "text/plain": [
       "array([0. , 0.1, 0.2, 0.3, 0.4, 0.5, 0.6, 0.7, 0.8, 0.9])"
      ]
     },
     "execution_count": 264,
     "metadata": {},
     "output_type": "execute_result"
    }
   ],
   "source": [
    "np.arange(0, 1, step=0.1)"
   ]
  },
  {
   "cell_type": "code",
   "execution_count": 284,
   "metadata": {},
   "outputs": [
    {
     "data": {
      "image/png": "[encoded data removed]",
      "text/plain": [
       "<Figure size 720x504 with 2 Axes>"
      ]
     },
     "metadata": {
      "needs_background": "light"
     },
     "output_type": "display_data"
    }
   ],
   "source": [
    "\n",
    "fig, ax1 = plt.subplots(figsize=(10,7))\n",
    "\n",
    "ax1.set_xlabel('관서')\n",
    "ax1.set_ylabel('검거율')\n",
    "ax1.plot(freq_rate_area['검거율'], color='m', label ='검거율', linewidth=3)\n",
    "ax1.set_xticklabels(freq_rate_area.index,rotation=45, ha='right',fontweight='bold', fontsize=12)\n",
    "ax1.set_xticks(np.arange(0, 1, step=0.1))\n",
    "plt.legend(loc='upper left')\n",
    "ax1.grid(axis='x', color='grey', linestyle='-.', linewidth='0.2')\n",
    "\n",
    "\n",
    "ax2 = ax1.twinx()  # instantiate a second axes that shares the same x-axis\n",
    "ax2.set_ylabel('발생 빈도') # we already handled the x-label with ax1\n",
    "ax2.plot(freq_rate_area['발생 빈도'], color='b', label='발생 빈도', linewidth=3)\n",
    "\n",
    "fig.tight_layout()  # otherwise the right y-label is slightly clipped\n",
    "plt.legend(loc='upper right')\n",
    "\n",
    "plt.show()"
   ]
  },
  {
   "cell_type": "code",
   "execution_count": 187,
   "metadata": {},
   "outputs": [
    {
     "data": {
      "text/html": [
       "<div>\n",
       "<style scoped>\n",
       "    .dataframe tbody tr th:only-of-type {\n",
       "        vertical-align: middle;\n",
       "    }\n",
       "\n",
       "    .dataframe tbody tr th {\n",
       "        vertical-align: top;\n",
       "    }\n",
       "\n",
       "    .dataframe thead th {\n",
       "        text-align: right;\n",
       "    }\n",
       "</style>\n",
       "<table border=\"1\" class=\"dataframe\">\n",
       "  <thead>\n",
       "    <tr style=\"text-align: right;\">\n",
       "      <th></th>\n",
       "      <th>지역</th>\n",
       "      <th>variable</th>\n",
       "      <th>value</th>\n",
       "    </tr>\n",
       "  </thead>\n",
       "  <tbody>\n",
       "    <tr>\n",
       "      <td>0</td>\n",
       "      <td>강남</td>\n",
       "      <td>발생 빈도</td>\n",
       "      <td>108201</td>\n",
       "    </tr>\n",
       "    <tr>\n",
       "      <td>1</td>\n",
       "      <td>강동</td>\n",
       "      <td>발생 빈도</td>\n",
       "      <td>91994</td>\n",
       "    </tr>\n",
       "    <tr>\n",
       "      <td>2</td>\n",
       "      <td>강북</td>\n",
       "      <td>발생 빈도</td>\n",
       "      <td>76954</td>\n",
       "    </tr>\n",
       "    <tr>\n",
       "      <td>3</td>\n",
       "      <td>강서</td>\n",
       "      <td>발생 빈도</td>\n",
       "      <td>108279</td>\n",
       "    </tr>\n",
       "    <tr>\n",
       "      <td>4</td>\n",
       "      <td>관악</td>\n",
       "      <td>발생 빈도</td>\n",
       "      <td>109966</td>\n",
       "    </tr>\n",
       "  </tbody>\n",
       "</table>\n",
       "</div>"
      ],
      "text/plain": [
       "   지역 variable   value\n",
       "0  강남    발생 빈도  108201\n",
       "1  강동    발생 빈도   91994\n",
       "2  강북    발생 빈도   76954\n",
       "3  강서    발생 빈도  108279\n",
       "4  관악    발생 빈도  109966"
      ]
     },
     "execution_count": 187,
     "metadata": {},
     "output_type": "execute_result"
    }
   ],
   "source": [
    "freq_area_melted1.head()"
   ]
  },
  {
   "cell_type": "code",
   "execution_count": 197,
   "metadata": {},
   "outputs": [
    {
     "data": {
      "text/plain": [
       "62"
      ]
     },
     "execution_count": 197,
     "metadata": {},
     "output_type": "execute_result"
    }
   ],
   "source": [
    "len(freq_area_melted1)"
   ]
  },
  {
   "cell_type": "code",
   "execution_count": 196,
   "metadata": {},
   "outputs": [
    {
     "data": {
      "text/plain": [
       "31"
      ]
     },
     "execution_count": 196,
     "metadata": {},
     "output_type": "execute_result"
    }
   ],
   "source": []
  },
  {
   "cell_type": "code",
   "execution_count": 156,
   "metadata": {},
   "outputs": [
    {
     "data": {
      "text/html": [
       "<div>\n",
       "<style scoped>\n",
       "    .dataframe tbody tr th:only-of-type {\n",
       "        vertical-align: middle;\n",
       "    }\n",
       "\n",
       "    .dataframe tbody tr th {\n",
       "        vertical-align: top;\n",
       "    }\n",
       "\n",
       "    .dataframe thead tr th {\n",
       "        text-align: left;\n",
       "    }\n",
       "\n",
       "    .dataframe thead tr:last-of-type th {\n",
       "        text-align: right;\n",
       "    }\n",
       "</style>\n",
       "<table border=\"1\" class=\"dataframe\">\n",
       "  <thead>\n",
       "    <tr>\n",
       "      <th></th>\n",
       "      <th colspan=\"5\" halign=\"left\">검거율</th>\n",
       "      <th colspan=\"5\" halign=\"left\">발생 빈도</th>\n",
       "    </tr>\n",
       "    <tr>\n",
       "      <th>죄목</th>\n",
       "      <th>강간</th>\n",
       "      <th>강도</th>\n",
       "      <th>살인</th>\n",
       "      <th>절도</th>\n",
       "      <th>폭력</th>\n",
       "      <th>강간</th>\n",
       "      <th>강도</th>\n",
       "      <th>살인</th>\n",
       "      <th>절도</th>\n",
       "      <th>폭력</th>\n",
       "    </tr>\n",
       "    <tr>\n",
       "      <th>지역</th>\n",
       "      <th></th>\n",
       "      <th></th>\n",
       "      <th></th>\n",
       "      <th></th>\n",
       "      <th></th>\n",
       "      <th></th>\n",
       "      <th></th>\n",
       "      <th></th>\n",
       "      <th></th>\n",
       "      <th></th>\n",
       "    </tr>\n",
       "  </thead>\n",
       "  <tbody>\n",
       "    <tr>\n",
       "      <td>강남</td>\n",
       "      <td>0.749623</td>\n",
       "      <td>0.769744</td>\n",
       "      <td>1.029641</td>\n",
       "      <td>0.443576</td>\n",
       "      <td>0.894371</td>\n",
       "      <td>4400</td>\n",
       "      <td>1418</td>\n",
       "      <td>139</td>\n",
       "      <td>41710</td>\n",
       "      <td>60534</td>\n",
       "    </tr>\n",
       "    <tr>\n",
       "      <td>강동</td>\n",
       "      <td>0.901278</td>\n",
       "      <td>1.021059</td>\n",
       "      <td>0.995823</td>\n",
       "      <td>0.690939</td>\n",
       "      <td>0.908320</td>\n",
       "      <td>2386</td>\n",
       "      <td>828</td>\n",
       "      <td>130</td>\n",
       "      <td>31537</td>\n",
       "      <td>57113</td>\n",
       "    </tr>\n",
       "    <tr>\n",
       "      <td>강북</td>\n",
       "      <td>0.864869</td>\n",
       "      <td>0.944774</td>\n",
       "      <td>0.957101</td>\n",
       "      <td>0.621193</td>\n",
       "      <td>0.930794</td>\n",
       "      <td>2522</td>\n",
       "      <td>779</td>\n",
       "      <td>142</td>\n",
       "      <td>22637</td>\n",
       "      <td>50874</td>\n",
       "    </tr>\n",
       "    <tr>\n",
       "      <td>강서</td>\n",
       "      <td>0.857818</td>\n",
       "      <td>0.934138</td>\n",
       "      <td>0.979748</td>\n",
       "      <td>0.482923</td>\n",
       "      <td>0.889729</td>\n",
       "      <td>3300</td>\n",
       "      <td>1014</td>\n",
       "      <td>201</td>\n",
       "      <td>38363</td>\n",
       "      <td>65401</td>\n",
       "    </tr>\n",
       "    <tr>\n",
       "      <td>관악</td>\n",
       "      <td>0.630442</td>\n",
       "      <td>0.809680</td>\n",
       "      <td>0.915394</td>\n",
       "      <td>0.386436</td>\n",
       "      <td>0.873330</td>\n",
       "      <td>4942</td>\n",
       "      <td>912</td>\n",
       "      <td>152</td>\n",
       "      <td>42667</td>\n",
       "      <td>61293</td>\n",
       "    </tr>\n",
       "    <tr>\n",
       "      <td>광진</td>\n",
       "      <td>0.836638</td>\n",
       "      <td>0.950504</td>\n",
       "      <td>1.146531</td>\n",
       "      <td>0.491655</td>\n",
       "      <td>0.873975</td>\n",
       "      <td>3569</td>\n",
       "      <td>1006</td>\n",
       "      <td>150</td>\n",
       "      <td>45594</td>\n",
       "      <td>58664</td>\n",
       "    </tr>\n",
       "    <tr>\n",
       "      <td>구로</td>\n",
       "      <td>0.626331</td>\n",
       "      <td>0.860859</td>\n",
       "      <td>1.035277</td>\n",
       "      <td>0.452661</td>\n",
       "      <td>0.875189</td>\n",
       "      <td>3856</td>\n",
       "      <td>751</td>\n",
       "      <td>202</td>\n",
       "      <td>35673</td>\n",
       "      <td>59684</td>\n",
       "    </tr>\n",
       "    <tr>\n",
       "      <td>금천</td>\n",
       "      <td>0.878490</td>\n",
       "      <td>0.832010</td>\n",
       "      <td>1.016093</td>\n",
       "      <td>0.537755</td>\n",
       "      <td>0.888174</td>\n",
       "      <td>2244</td>\n",
       "      <td>865</td>\n",
       "      <td>168</td>\n",
       "      <td>29614</td>\n",
       "      <td>53768</td>\n",
       "    </tr>\n",
       "    <tr>\n",
       "      <td>남대문</td>\n",
       "      <td>0.861277</td>\n",
       "      <td>0.966497</td>\n",
       "      <td>1.083333</td>\n",
       "      <td>0.596613</td>\n",
       "      <td>0.929719</td>\n",
       "      <td>975</td>\n",
       "      <td>226</td>\n",
       "      <td>33</td>\n",
       "      <td>15617</td>\n",
       "      <td>19803</td>\n",
       "    </tr>\n",
       "    <tr>\n",
       "      <td>노원</td>\n",
       "      <td>0.877809</td>\n",
       "      <td>0.983518</td>\n",
       "      <td>1.032872</td>\n",
       "      <td>0.582260</td>\n",
       "      <td>0.909532</td>\n",
       "      <td>2392</td>\n",
       "      <td>386</td>\n",
       "      <td>130</td>\n",
       "      <td>28534</td>\n",
       "      <td>50226</td>\n",
       "    </tr>\n",
       "    <tr>\n",
       "      <td>도봉</td>\n",
       "      <td>0.931805</td>\n",
       "      <td>0.977448</td>\n",
       "      <td>0.976023</td>\n",
       "      <td>0.536520</td>\n",
       "      <td>0.909693</td>\n",
       "      <td>1645</td>\n",
       "      <td>395</td>\n",
       "      <td>90</td>\n",
       "      <td>21874</td>\n",
       "      <td>38276</td>\n",
       "    </tr>\n",
       "    <tr>\n",
       "      <td>동대문</td>\n",
       "      <td>0.898661</td>\n",
       "      <td>0.911707</td>\n",
       "      <td>0.980633</td>\n",
       "      <td>0.668478</td>\n",
       "      <td>0.935915</td>\n",
       "      <td>2550</td>\n",
       "      <td>869</td>\n",
       "      <td>173</td>\n",
       "      <td>28727</td>\n",
       "      <td>57093</td>\n",
       "    </tr>\n",
       "    <tr>\n",
       "      <td>동작</td>\n",
       "      <td>0.625443</td>\n",
       "      <td>0.732133</td>\n",
       "      <td>1.007555</td>\n",
       "      <td>0.469827</td>\n",
       "      <td>0.888358</td>\n",
       "      <td>3481</td>\n",
       "      <td>653</td>\n",
       "      <td>134</td>\n",
       "      <td>29910</td>\n",
       "      <td>41226</td>\n",
       "    </tr>\n",
       "    <tr>\n",
       "      <td>마포</td>\n",
       "      <td>0.853078</td>\n",
       "      <td>0.848383</td>\n",
       "      <td>0.997306</td>\n",
       "      <td>0.435144</td>\n",
       "      <td>0.882194</td>\n",
       "      <td>3724</td>\n",
       "      <td>810</td>\n",
       "      <td>103</td>\n",
       "      <td>38994</td>\n",
       "      <td>56639</td>\n",
       "    </tr>\n",
       "    <tr>\n",
       "      <td>방배</td>\n",
       "      <td>0.674001</td>\n",
       "      <td>1.033324</td>\n",
       "      <td>1.390625</td>\n",
       "      <td>0.582028</td>\n",
       "      <td>0.911971</td>\n",
       "      <td>1385</td>\n",
       "      <td>337</td>\n",
       "      <td>33</td>\n",
       "      <td>12549</td>\n",
       "      <td>18165</td>\n",
       "    </tr>\n",
       "    <tr>\n",
       "      <td>서대문</td>\n",
       "      <td>0.861328</td>\n",
       "      <td>1.040347</td>\n",
       "      <td>0.999123</td>\n",
       "      <td>0.524143</td>\n",
       "      <td>0.883141</td>\n",
       "      <td>2569</td>\n",
       "      <td>659</td>\n",
       "      <td>106</td>\n",
       "      <td>29448</td>\n",
       "      <td>39991</td>\n",
       "    </tr>\n",
       "    <tr>\n",
       "      <td>서부</td>\n",
       "      <td>0.931809</td>\n",
       "      <td>1.077501</td>\n",
       "      <td>1.079762</td>\n",
       "      <td>0.584516</td>\n",
       "      <td>0.910346</td>\n",
       "      <td>1124</td>\n",
       "      <td>474</td>\n",
       "      <td>81</td>\n",
       "      <td>17522</td>\n",
       "      <td>30288</td>\n",
       "    </tr>\n",
       "    <tr>\n",
       "      <td>서초</td>\n",
       "      <td>0.612502</td>\n",
       "      <td>0.658575</td>\n",
       "      <td>1.147953</td>\n",
       "      <td>0.538693</td>\n",
       "      <td>0.896514</td>\n",
       "      <td>4095</td>\n",
       "      <td>1061</td>\n",
       "      <td>92</td>\n",
       "      <td>28719</td>\n",
       "      <td>41247</td>\n",
       "    </tr>\n",
       "    <tr>\n",
       "      <td>성동</td>\n",
       "      <td>0.810179</td>\n",
       "      <td>1.060998</td>\n",
       "      <td>1.108749</td>\n",
       "      <td>0.573079</td>\n",
       "      <td>0.899611</td>\n",
       "      <td>1730</td>\n",
       "      <td>514</td>\n",
       "      <td>87</td>\n",
       "      <td>26570</td>\n",
       "      <td>38323</td>\n",
       "    </tr>\n",
       "    <tr>\n",
       "      <td>성북</td>\n",
       "      <td>0.720731</td>\n",
       "      <td>0.972301</td>\n",
       "      <td>0.922807</td>\n",
       "      <td>0.644507</td>\n",
       "      <td>0.899625</td>\n",
       "      <td>1534</td>\n",
       "      <td>327</td>\n",
       "      <td>81</td>\n",
       "      <td>16302</td>\n",
       "      <td>25782</td>\n",
       "    </tr>\n",
       "    <tr>\n",
       "      <td>송파</td>\n",
       "      <td>0.829949</td>\n",
       "      <td>1.031845</td>\n",
       "      <td>0.952565</td>\n",
       "      <td>0.433659</td>\n",
       "      <td>0.874040</td>\n",
       "      <td>3388</td>\n",
       "      <td>759</td>\n",
       "      <td>139</td>\n",
       "      <td>45883</td>\n",
       "      <td>63198</td>\n",
       "    </tr>\n",
       "    <tr>\n",
       "      <td>수서</td>\n",
       "      <td>0.842759</td>\n",
       "      <td>0.894711</td>\n",
       "      <td>0.993421</td>\n",
       "      <td>0.459571</td>\n",
       "      <td>0.862022</td>\n",
       "      <td>2048</td>\n",
       "      <td>662</td>\n",
       "      <td>90</td>\n",
       "      <td>27340</td>\n",
       "      <td>41268</td>\n",
       "    </tr>\n",
       "    <tr>\n",
       "      <td>양천</td>\n",
       "      <td>0.863033</td>\n",
       "      <td>0.967346</td>\n",
       "      <td>1.040896</td>\n",
       "      <td>0.504837</td>\n",
       "      <td>0.865177</td>\n",
       "      <td>1877</td>\n",
       "      <td>574</td>\n",
       "      <td>115</td>\n",
       "      <td>31319</td>\n",
       "      <td>48129</td>\n",
       "    </tr>\n",
       "    <tr>\n",
       "      <td>영등포</td>\n",
       "      <td>0.801816</td>\n",
       "      <td>0.817471</td>\n",
       "      <td>0.933998</td>\n",
       "      <td>0.501601</td>\n",
       "      <td>0.882663</td>\n",
       "      <td>3690</td>\n",
       "      <td>765</td>\n",
       "      <td>258</td>\n",
       "      <td>40057</td>\n",
       "      <td>64158</td>\n",
       "    </tr>\n",
       "    <tr>\n",
       "      <td>용산</td>\n",
       "      <td>0.872137</td>\n",
       "      <td>0.818780</td>\n",
       "      <td>1.050668</td>\n",
       "      <td>0.613259</td>\n",
       "      <td>0.885352</td>\n",
       "      <td>2678</td>\n",
       "      <td>704</td>\n",
       "      <td>122</td>\n",
       "      <td>24067</td>\n",
       "      <td>39638</td>\n",
       "    </tr>\n",
       "    <tr>\n",
       "      <td>은평</td>\n",
       "      <td>0.936999</td>\n",
       "      <td>0.960049</td>\n",
       "      <td>0.935840</td>\n",
       "      <td>0.532647</td>\n",
       "      <td>0.898803</td>\n",
       "      <td>1362</td>\n",
       "      <td>356</td>\n",
       "      <td>87</td>\n",
       "      <td>19390</td>\n",
       "      <td>32999</td>\n",
       "    </tr>\n",
       "    <tr>\n",
       "      <td>종로</td>\n",
       "      <td>0.875101</td>\n",
       "      <td>0.950574</td>\n",
       "      <td>0.750000</td>\n",
       "      <td>0.615506</td>\n",
       "      <td>0.890885</td>\n",
       "      <td>1562</td>\n",
       "      <td>289</td>\n",
       "      <td>72</td>\n",
       "      <td>15286</td>\n",
       "      <td>26711</td>\n",
       "    </tr>\n",
       "    <tr>\n",
       "      <td>종암</td>\n",
       "      <td>0.912024</td>\n",
       "      <td>1.106067</td>\n",
       "      <td>1.037657</td>\n",
       "      <td>0.629682</td>\n",
       "      <td>0.906987</td>\n",
       "      <td>1132</td>\n",
       "      <td>454</td>\n",
       "      <td>89</td>\n",
       "      <td>16181</td>\n",
       "      <td>29060</td>\n",
       "    </tr>\n",
       "    <tr>\n",
       "      <td>중랑</td>\n",
       "      <td>0.870930</td>\n",
       "      <td>0.940015</td>\n",
       "      <td>1.016954</td>\n",
       "      <td>0.608453</td>\n",
       "      <td>0.908710</td>\n",
       "      <td>2573</td>\n",
       "      <td>827</td>\n",
       "      <td>194</td>\n",
       "      <td>31458</td>\n",
       "      <td>64950</td>\n",
       "    </tr>\n",
       "    <tr>\n",
       "      <td>중부</td>\n",
       "      <td>0.612878</td>\n",
       "      <td>0.956686</td>\n",
       "      <td>1.127778</td>\n",
       "      <td>0.566152</td>\n",
       "      <td>0.907433</td>\n",
       "      <td>1942</td>\n",
       "      <td>283</td>\n",
       "      <td>38</td>\n",
       "      <td>19888</td>\n",
       "      <td>29308</td>\n",
       "    </tr>\n",
       "    <tr>\n",
       "      <td>혜화</td>\n",
       "      <td>0.667341</td>\n",
       "      <td>0.860589</td>\n",
       "      <td>0.967989</td>\n",
       "      <td>0.704213</td>\n",
       "      <td>0.917438</td>\n",
       "      <td>1721</td>\n",
       "      <td>335</td>\n",
       "      <td>52</td>\n",
       "      <td>18349</td>\n",
       "      <td>30568</td>\n",
       "    </tr>\n",
       "  </tbody>\n",
       "</table>\n",
       "</div>"
      ],
      "text/plain": [
       "          검거율                                         발생 빈도                    \\\n",
       "죄목         강간        강도        살인        절도        폭력    강간    강도   살인     절도   \n",
       "지역                                                                              \n",
       "강남   0.749623  0.769744  1.029641  0.443576  0.894371  4400  1418  139  41710   \n",
       "강동   0.901278  1.021059  0.995823  0.690939  0.908320  2386   828  130  31537   \n",
       "강북   0.864869  0.944774  0.957101  0.621193  0.930794  2522   779  142  22637   \n",
       "강서   0.857818  0.934138  0.979748  0.482923  0.889729  3300  1014  201  38363   \n",
       "관악   0.630442  0.809680  0.915394  0.386436  0.873330  4942   912  152  42667   \n",
       "광진   0.836638  0.950504  1.146531  0.491655  0.873975  3569  1006  150  45594   \n",
       "구로   0.626331  0.860859  1.035277  0.452661  0.875189  3856   751  202  35673   \n",
       "금천   0.878490  0.832010  1.016093  0.537755  0.888174  2244   865  168  29614   \n",
       "남대문  0.861277  0.966497  1.083333  0.596613  0.929719   975   226   33  15617   \n",
       "노원   0.877809  0.983518  1.032872  0.582260  0.909532  2392   386  130  28534   \n",
       "도봉   0.931805  0.977448  0.976023  0.536520  0.909693  1645   395   90  21874   \n",
       "동대문  0.898661  0.911707  0.980633  0.668478  0.935915  2550   869  173  28727   \n",
       "동작   0.625443  0.732133  1.007555  0.469827  0.888358  3481   653  134  29910   \n",
       "마포   0.853078  0.848383  0.997306  0.435144  0.882194  3724   810  103  38994   \n",
       "방배   0.674001  1.033324  1.390625  0.582028  0.911971  1385   337   33  12549   \n",
       "서대문  0.861328  1.040347  0.999123  0.524143  0.883141  2569   659  106  29448   \n",
       "서부   0.931809  1.077501  1.079762  0.584516  0.910346  1124   474   81  17522   \n",
       "서초   0.612502  0.658575  1.147953  0.538693  0.896514  4095  1061   92  28719   \n",
       "성동   0.810179  1.060998  1.108749  0.573079  0.899611  1730   514   87  26570   \n",
       "성북   0.720731  0.972301  0.922807  0.644507  0.899625  1534   327   81  16302   \n",
       "송파   0.829949  1.031845  0.952565  0.433659  0.874040  3388   759  139  45883   \n",
       "수서   0.842759  0.894711  0.993421  0.459571  0.862022  2048   662   90  27340   \n",
       "양천   0.863033  0.967346  1.040896  0.504837  0.865177  1877   574  115  31319   \n",
       "영등포  0.801816  0.817471  0.933998  0.501601  0.882663  3690   765  258  40057   \n",
       "용산   0.872137  0.818780  1.050668  0.613259  0.885352  2678   704  122  24067   \n",
       "은평   0.936999  0.960049  0.935840  0.532647  0.898803  1362   356   87  19390   \n",
       "종로   0.875101  0.950574  0.750000  0.615506  0.890885  1562   289   72  15286   \n",
       "종암   0.912024  1.106067  1.037657  0.629682  0.906987  1132   454   89  16181   \n",
       "중랑   0.870930  0.940015  1.016954  0.608453  0.908710  2573   827  194  31458   \n",
       "중부   0.612878  0.956686  1.127778  0.566152  0.907433  1942   283   38  19888   \n",
       "혜화   0.667341  0.860589  0.967989  0.704213  0.917438  1721   335   52  18349   \n",
       "\n",
       "            \n",
       "죄목      폭력  \n",
       "지역          \n",
       "강남   60534  \n",
       "강동   57113  \n",
       "강북   50874  \n",
       "강서   65401  \n",
       "관악   61293  \n",
       "광진   58664  \n",
       "구로   59684  \n",
       "금천   53768  \n",
       "남대문  19803  \n",
       "노원   50226  \n",
       "도봉   38276  \n",
       "동대문  57093  \n",
       "동작   41226  \n",
       "마포   56639  \n",
       "방배   18165  \n",
       "서대문  39991  \n",
       "서부   30288  \n",
       "서초   41247  \n",
       "성동   38323  \n",
       "성북   25782  \n",
       "송파   63198  \n",
       "수서   41268  \n",
       "양천   48129  \n",
       "영등포  64158  \n",
       "용산   39638  \n",
       "은평   32999  \n",
       "종로   26711  \n",
       "종암   29060  \n",
       "중랑   64950  \n",
       "중부   29308  \n",
       "혜화   30568  "
      ]
     },
     "execution_count": 156,
     "metadata": {},
     "output_type": "execute_result"
    }
   ],
   "source": [
    "area_type = total.pivot_table(index=['지역'], \n",
    "                    columns='죄목', \n",
    "                    values=['검거율','발생 빈도','검거 빈도'],\n",
    "                     aggfunc={'검거율' : 'mean', '발생 빈도' : 'sum', '발생 빈도': 'sum'}) #aggfunc default = mean \n",
    "area_type"
   ]
  },
  {
   "cell_type": "code",
   "execution_count": 180,
   "metadata": {},
   "outputs": [
    {
     "data": {
      "text/html": [
       "<div>\n",
       "<style scoped>\n",
       "    .dataframe tbody tr th:only-of-type {\n",
       "        vertical-align: middle;\n",
       "    }\n",
       "\n",
       "    .dataframe tbody tr th {\n",
       "        vertical-align: top;\n",
       "    }\n",
       "\n",
       "    .dataframe thead th {\n",
       "        text-align: right;\n",
       "    }\n",
       "</style>\n",
       "<table border=\"1\" class=\"dataframe\">\n",
       "  <thead>\n",
       "    <tr style=\"text-align: right;\">\n",
       "      <th>죄목</th>\n",
       "      <th>강간</th>\n",
       "      <th>강도</th>\n",
       "      <th>살인</th>\n",
       "      <th>절도</th>\n",
       "      <th>폭력</th>\n",
       "    </tr>\n",
       "    <tr>\n",
       "      <th>지역</th>\n",
       "      <th></th>\n",
       "      <th></th>\n",
       "      <th></th>\n",
       "      <th></th>\n",
       "      <th></th>\n",
       "    </tr>\n",
       "  </thead>\n",
       "  <tbody>\n",
       "    <tr>\n",
       "      <td>강남</td>\n",
       "      <td>0.749623</td>\n",
       "      <td>0.769744</td>\n",
       "      <td>1.029641</td>\n",
       "      <td>0.443576</td>\n",
       "      <td>0.894371</td>\n",
       "    </tr>\n",
       "    <tr>\n",
       "      <td>강동</td>\n",
       "      <td>0.901278</td>\n",
       "      <td>1.021059</td>\n",
       "      <td>0.995823</td>\n",
       "      <td>0.690939</td>\n",
       "      <td>0.908320</td>\n",
       "    </tr>\n",
       "    <tr>\n",
       "      <td>강북</td>\n",
       "      <td>0.864869</td>\n",
       "      <td>0.944774</td>\n",
       "      <td>0.957101</td>\n",
       "      <td>0.621193</td>\n",
       "      <td>0.930794</td>\n",
       "    </tr>\n",
       "    <tr>\n",
       "      <td>강서</td>\n",
       "      <td>0.857818</td>\n",
       "      <td>0.934138</td>\n",
       "      <td>0.979748</td>\n",
       "      <td>0.482923</td>\n",
       "      <td>0.889729</td>\n",
       "    </tr>\n",
       "    <tr>\n",
       "      <td>관악</td>\n",
       "      <td>0.630442</td>\n",
       "      <td>0.809680</td>\n",
       "      <td>0.915394</td>\n",
       "      <td>0.386436</td>\n",
       "      <td>0.873330</td>\n",
       "    </tr>\n",
       "  </tbody>\n",
       "</table>\n",
       "</div>"
      ],
      "text/plain": [
       "죄목        강간        강도        살인        절도        폭력\n",
       "지역                                                  \n",
       "강남  0.749623  0.769744  1.029641  0.443576  0.894371\n",
       "강동  0.901278  1.021059  0.995823  0.690939  0.908320\n",
       "강북  0.864869  0.944774  0.957101  0.621193  0.930794\n",
       "강서  0.857818  0.934138  0.979748  0.482923  0.889729\n",
       "관악  0.630442  0.809680  0.915394  0.386436  0.873330"
      ]
     },
     "execution_count": 180,
     "metadata": {},
     "output_type": "execute_result"
    }
   ],
   "source": [
    "area_type['검거율'].head()"
   ]
  },
  {
   "cell_type": "code",
   "execution_count": null,
   "metadata": {},
   "outputs": [],
   "source": []
  },
  {
   "cell_type": "markdown",
   "metadata": {},
   "source": [
    "#### 연도 별 검거율 "
   ]
  },
  {
   "cell_type": "code",
   "execution_count": 73,
   "metadata": {},
   "outputs": [
    {
     "data": {
      "text/html": [
       "<div>\n",
       "<style scoped>\n",
       "    .dataframe tbody tr th:only-of-type {\n",
       "        vertical-align: middle;\n",
       "    }\n",
       "\n",
       "    .dataframe tbody tr th {\n",
       "        vertical-align: top;\n",
       "    }\n",
       "\n",
       "    .dataframe thead th {\n",
       "        text-align: right;\n",
       "    }\n",
       "</style>\n",
       "<table border=\"1\" class=\"dataframe\">\n",
       "  <thead>\n",
       "    <tr style=\"text-align: right;\">\n",
       "      <th></th>\n",
       "      <th>지역</th>\n",
       "      <th>발생 빈도</th>\n",
       "      <th>검거 빈도</th>\n",
       "      <th>죄목</th>\n",
       "      <th>년도</th>\n",
       "      <th>검거율</th>\n",
       "    </tr>\n",
       "  </thead>\n",
       "  <tbody>\n",
       "    <tr>\n",
       "      <td>0</td>\n",
       "      <td>중부</td>\n",
       "      <td>1</td>\n",
       "      <td>1</td>\n",
       "      <td>살인</td>\n",
       "      <td>2000</td>\n",
       "      <td>1.000000</td>\n",
       "    </tr>\n",
       "    <tr>\n",
       "      <td>1</td>\n",
       "      <td>중부</td>\n",
       "      <td>17</td>\n",
       "      <td>15</td>\n",
       "      <td>강도</td>\n",
       "      <td>2000</td>\n",
       "      <td>0.882353</td>\n",
       "    </tr>\n",
       "    <tr>\n",
       "      <td>2</td>\n",
       "      <td>중부</td>\n",
       "      <td>14</td>\n",
       "      <td>14</td>\n",
       "      <td>강간</td>\n",
       "      <td>2000</td>\n",
       "      <td>1.000000</td>\n",
       "    </tr>\n",
       "    <tr>\n",
       "      <td>3</td>\n",
       "      <td>중부</td>\n",
       "      <td>601</td>\n",
       "      <td>569</td>\n",
       "      <td>절도</td>\n",
       "      <td>2000</td>\n",
       "      <td>0.946755</td>\n",
       "    </tr>\n",
       "    <tr>\n",
       "      <td>4</td>\n",
       "      <td>중부</td>\n",
       "      <td>1783</td>\n",
       "      <td>1762</td>\n",
       "      <td>폭력</td>\n",
       "      <td>2000</td>\n",
       "      <td>0.988222</td>\n",
       "    </tr>\n",
       "  </tbody>\n",
       "</table>\n",
       "</div>"
      ],
      "text/plain": [
       "   지역  발생 빈도  검거 빈도  죄목    년도       검거율\n",
       "0  중부      1      1  살인  2000  1.000000\n",
       "1  중부     17     15  강도  2000  0.882353\n",
       "2  중부     14     14  강간  2000  1.000000\n",
       "3  중부    601    569  절도  2000  0.946755\n",
       "4  중부   1783   1762  폭력  2000  0.988222"
      ]
     },
     "execution_count": 73,
     "metadata": {},
     "output_type": "execute_result"
    }
   ],
   "source": [
    "total.head()"
   ]
  },
  {
   "cell_type": "code",
   "execution_count": 86,
   "metadata": {},
   "outputs": [
    {
     "data": {
      "text/html": [
       "<div>\n",
       "<style scoped>\n",
       "    .dataframe tbody tr th:only-of-type {\n",
       "        vertical-align: middle;\n",
       "    }\n",
       "\n",
       "    .dataframe tbody tr th {\n",
       "        vertical-align: top;\n",
       "    }\n",
       "\n",
       "    .dataframe thead tr th {\n",
       "        text-align: left;\n",
       "    }\n",
       "\n",
       "    .dataframe thead tr:last-of-type th {\n",
       "        text-align: right;\n",
       "    }\n",
       "</style>\n",
       "<table border=\"1\" class=\"dataframe\">\n",
       "  <thead>\n",
       "    <tr>\n",
       "      <th></th>\n",
       "      <th></th>\n",
       "      <th colspan=\"5\" halign=\"left\">검거율</th>\n",
       "      <th colspan=\"5\" halign=\"left\">발생 빈도</th>\n",
       "    </tr>\n",
       "    <tr>\n",
       "      <th></th>\n",
       "      <th>죄목</th>\n",
       "      <th>강간</th>\n",
       "      <th>강도</th>\n",
       "      <th>살인</th>\n",
       "      <th>절도</th>\n",
       "      <th>폭력</th>\n",
       "      <th>강간</th>\n",
       "      <th>강도</th>\n",
       "      <th>살인</th>\n",
       "      <th>절도</th>\n",
       "      <th>폭력</th>\n",
       "    </tr>\n",
       "    <tr>\n",
       "      <th>년도</th>\n",
       "      <th>지역</th>\n",
       "      <th></th>\n",
       "      <th></th>\n",
       "      <th></th>\n",
       "      <th></th>\n",
       "      <th></th>\n",
       "      <th></th>\n",
       "      <th></th>\n",
       "      <th></th>\n",
       "      <th></th>\n",
       "      <th></th>\n",
       "    </tr>\n",
       "  </thead>\n",
       "  <tbody>\n",
       "    <tr>\n",
       "      <td rowspan=\"5\" valign=\"top\">2000</td>\n",
       "      <td>강남</td>\n",
       "      <td>0.897436</td>\n",
       "      <td>0.493151</td>\n",
       "      <td>1.333333</td>\n",
       "      <td>0.197135</td>\n",
       "      <td>0.888185</td>\n",
       "      <td>78.0</td>\n",
       "      <td>146.0</td>\n",
       "      <td>3.0</td>\n",
       "      <td>2653.0</td>\n",
       "      <td>4892.0</td>\n",
       "    </tr>\n",
       "    <tr>\n",
       "      <td>강동</td>\n",
       "      <td>0.935484</td>\n",
       "      <td>0.816327</td>\n",
       "      <td>0.916667</td>\n",
       "      <td>0.365071</td>\n",
       "      <td>0.918787</td>\n",
       "      <td>62.0</td>\n",
       "      <td>49.0</td>\n",
       "      <td>12.0</td>\n",
       "      <td>1838.0</td>\n",
       "      <td>4716.0</td>\n",
       "    </tr>\n",
       "    <tr>\n",
       "      <td>강북</td>\n",
       "      <td>1.021277</td>\n",
       "      <td>1.021277</td>\n",
       "      <td>0.888889</td>\n",
       "      <td>0.533178</td>\n",
       "      <td>0.950883</td>\n",
       "      <td>47.0</td>\n",
       "      <td>47.0</td>\n",
       "      <td>9.0</td>\n",
       "      <td>859.0</td>\n",
       "      <td>3624.0</td>\n",
       "    </tr>\n",
       "    <tr>\n",
       "      <td>강서</td>\n",
       "      <td>0.853333</td>\n",
       "      <td>0.733333</td>\n",
       "      <td>1.166667</td>\n",
       "      <td>0.326491</td>\n",
       "      <td>0.914469</td>\n",
       "      <td>75.0</td>\n",
       "      <td>75.0</td>\n",
       "      <td>6.0</td>\n",
       "      <td>1559.0</td>\n",
       "      <td>4361.0</td>\n",
       "    </tr>\n",
       "    <tr>\n",
       "      <td>관악</td>\n",
       "      <td>0.745763</td>\n",
       "      <td>0.642857</td>\n",
       "      <td>0.875000</td>\n",
       "      <td>0.197846</td>\n",
       "      <td>0.909962</td>\n",
       "      <td>59.0</td>\n",
       "      <td>56.0</td>\n",
       "      <td>8.0</td>\n",
       "      <td>1764.0</td>\n",
       "      <td>2921.0</td>\n",
       "    </tr>\n",
       "    <tr>\n",
       "      <td>...</td>\n",
       "      <td>...</td>\n",
       "      <td>...</td>\n",
       "      <td>...</td>\n",
       "      <td>...</td>\n",
       "      <td>...</td>\n",
       "      <td>...</td>\n",
       "      <td>...</td>\n",
       "      <td>...</td>\n",
       "      <td>...</td>\n",
       "      <td>...</td>\n",
       "      <td>...</td>\n",
       "    </tr>\n",
       "    <tr>\n",
       "      <td rowspan=\"5\" valign=\"top\">2018</td>\n",
       "      <td>종로</td>\n",
       "      <td>0.838235</td>\n",
       "      <td>0.000000</td>\n",
       "      <td>0.800000</td>\n",
       "      <td>0.534946</td>\n",
       "      <td>0.877984</td>\n",
       "      <td>136.0</td>\n",
       "      <td>1.0</td>\n",
       "      <td>5.0</td>\n",
       "      <td>744.0</td>\n",
       "      <td>1131.0</td>\n",
       "    </tr>\n",
       "    <tr>\n",
       "      <td>종암</td>\n",
       "      <td>0.862069</td>\n",
       "      <td>2.000000</td>\n",
       "      <td>0.833333</td>\n",
       "      <td>0.597518</td>\n",
       "      <td>0.868914</td>\n",
       "      <td>58.0</td>\n",
       "      <td>1.0</td>\n",
       "      <td>6.0</td>\n",
       "      <td>564.0</td>\n",
       "      <td>801.0</td>\n",
       "    </tr>\n",
       "    <tr>\n",
       "      <td>중랑</td>\n",
       "      <td>0.833333</td>\n",
       "      <td>1.000000</td>\n",
       "      <td>1.250000</td>\n",
       "      <td>0.574050</td>\n",
       "      <td>0.849671</td>\n",
       "      <td>174.0</td>\n",
       "      <td>3.0</td>\n",
       "      <td>4.0</td>\n",
       "      <td>1526.0</td>\n",
       "      <td>2581.0</td>\n",
       "    </tr>\n",
       "    <tr>\n",
       "      <td>중부</td>\n",
       "      <td>0.477273</td>\n",
       "      <td>1.400000</td>\n",
       "      <td>1.000000</td>\n",
       "      <td>0.392621</td>\n",
       "      <td>0.858844</td>\n",
       "      <td>132.0</td>\n",
       "      <td>5.0</td>\n",
       "      <td>1.0</td>\n",
       "      <td>1057.0</td>\n",
       "      <td>1176.0</td>\n",
       "    </tr>\n",
       "    <tr>\n",
       "      <td>혜화</td>\n",
       "      <td>0.580000</td>\n",
       "      <td>1.000000</td>\n",
       "      <td>1.000000</td>\n",
       "      <td>0.460081</td>\n",
       "      <td>0.856799</td>\n",
       "      <td>100.0</td>\n",
       "      <td>2.0</td>\n",
       "      <td>1.0</td>\n",
       "      <td>739.0</td>\n",
       "      <td>831.0</td>\n",
       "    </tr>\n",
       "  </tbody>\n",
       "</table>\n",
       "<p>589 rows × 10 columns</p>\n",
       "</div>"
      ],
      "text/plain": [
       "              검거율                                          발생 빈도               \\\n",
       "죄목             강간        강도        살인        절도        폭력     강간     강도    살인   \n",
       "년도   지역                                                                         \n",
       "2000 강남  0.897436  0.493151  1.333333  0.197135  0.888185   78.0  146.0   3.0   \n",
       "     강동  0.935484  0.816327  0.916667  0.365071  0.918787   62.0   49.0  12.0   \n",
       "     강북  1.021277  1.021277  0.888889  0.533178  0.950883   47.0   47.0   9.0   \n",
       "     강서  0.853333  0.733333  1.166667  0.326491  0.914469   75.0   75.0   6.0   \n",
       "     관악  0.745763  0.642857  0.875000  0.197846  0.909962   59.0   56.0   8.0   \n",
       "...           ...       ...       ...       ...       ...    ...    ...   ...   \n",
       "2018 종로  0.838235  0.000000  0.800000  0.534946  0.877984  136.0    1.0   5.0   \n",
       "     종암  0.862069  2.000000  0.833333  0.597518  0.868914   58.0    1.0   6.0   \n",
       "     중랑  0.833333  1.000000  1.250000  0.574050  0.849671  174.0    3.0   4.0   \n",
       "     중부  0.477273  1.400000  1.000000  0.392621  0.858844  132.0    5.0   1.0   \n",
       "     혜화  0.580000  1.000000  1.000000  0.460081  0.856799  100.0    2.0   1.0   \n",
       "\n",
       "                         \n",
       "죄목           절도      폭력  \n",
       "년도   지역                  \n",
       "2000 강남  2653.0  4892.0  \n",
       "     강동  1838.0  4716.0  \n",
       "     강북   859.0  3624.0  \n",
       "     강서  1559.0  4361.0  \n",
       "     관악  1764.0  2921.0  \n",
       "...         ...     ...  \n",
       "2018 종로   744.0  1131.0  \n",
       "     종암   564.0   801.0  \n",
       "     중랑  1526.0  2581.0  \n",
       "     중부  1057.0  1176.0  \n",
       "     혜화   739.0   831.0  \n",
       "\n",
       "[589 rows x 10 columns]"
      ]
     },
     "execution_count": 86,
     "metadata": {},
     "output_type": "execute_result"
    }
   ],
   "source": [
    "year_area_type = total.pivot_table(index=['년도','지역'], \n",
    "                    columns='죄목', \n",
    "                    values=['검거율','발생 빈도','검거 빈도'],\n",
    "                     aggfunc={'검거율' : 'mean', '발생 빈도' : 'sum', '발생 빈도': 'sum'}) #aggfunc default = mean \n",
    "year_area_type"
   ]
  },
  {
   "cell_type": "code",
   "execution_count": 88,
   "metadata": {},
   "outputs": [
    {
     "data": {
      "text/html": [
       "<div>\n",
       "<style scoped>\n",
       "    .dataframe tbody tr th:only-of-type {\n",
       "        vertical-align: middle;\n",
       "    }\n",
       "\n",
       "    .dataframe tbody tr th {\n",
       "        vertical-align: top;\n",
       "    }\n",
       "\n",
       "    .dataframe thead tr th {\n",
       "        text-align: left;\n",
       "    }\n",
       "</style>\n",
       "<table border=\"1\" class=\"dataframe\">\n",
       "  <thead>\n",
       "    <tr>\n",
       "      <th></th>\n",
       "      <th>년도</th>\n",
       "      <th>지역</th>\n",
       "      <th colspan=\"5\" halign=\"left\">검거율</th>\n",
       "      <th colspan=\"5\" halign=\"left\">발생 빈도</th>\n",
       "    </tr>\n",
       "    <tr>\n",
       "      <th>죄목</th>\n",
       "      <th></th>\n",
       "      <th></th>\n",
       "      <th>강간</th>\n",
       "      <th>강도</th>\n",
       "      <th>살인</th>\n",
       "      <th>절도</th>\n",
       "      <th>폭력</th>\n",
       "      <th>강간</th>\n",
       "      <th>강도</th>\n",
       "      <th>살인</th>\n",
       "      <th>절도</th>\n",
       "      <th>폭력</th>\n",
       "    </tr>\n",
       "  </thead>\n",
       "  <tbody>\n",
       "    <tr>\n",
       "      <td>0</td>\n",
       "      <td>2000</td>\n",
       "      <td>강남</td>\n",
       "      <td>0.897436</td>\n",
       "      <td>0.493151</td>\n",
       "      <td>1.333333</td>\n",
       "      <td>0.197135</td>\n",
       "      <td>0.888185</td>\n",
       "      <td>78.0</td>\n",
       "      <td>146.0</td>\n",
       "      <td>3.0</td>\n",
       "      <td>2653.0</td>\n",
       "      <td>4892.0</td>\n",
       "    </tr>\n",
       "    <tr>\n",
       "      <td>1</td>\n",
       "      <td>2000</td>\n",
       "      <td>강동</td>\n",
       "      <td>0.935484</td>\n",
       "      <td>0.816327</td>\n",
       "      <td>0.916667</td>\n",
       "      <td>0.365071</td>\n",
       "      <td>0.918787</td>\n",
       "      <td>62.0</td>\n",
       "      <td>49.0</td>\n",
       "      <td>12.0</td>\n",
       "      <td>1838.0</td>\n",
       "      <td>4716.0</td>\n",
       "    </tr>\n",
       "    <tr>\n",
       "      <td>2</td>\n",
       "      <td>2000</td>\n",
       "      <td>강북</td>\n",
       "      <td>1.021277</td>\n",
       "      <td>1.021277</td>\n",
       "      <td>0.888889</td>\n",
       "      <td>0.533178</td>\n",
       "      <td>0.950883</td>\n",
       "      <td>47.0</td>\n",
       "      <td>47.0</td>\n",
       "      <td>9.0</td>\n",
       "      <td>859.0</td>\n",
       "      <td>3624.0</td>\n",
       "    </tr>\n",
       "    <tr>\n",
       "      <td>3</td>\n",
       "      <td>2000</td>\n",
       "      <td>강서</td>\n",
       "      <td>0.853333</td>\n",
       "      <td>0.733333</td>\n",
       "      <td>1.166667</td>\n",
       "      <td>0.326491</td>\n",
       "      <td>0.914469</td>\n",
       "      <td>75.0</td>\n",
       "      <td>75.0</td>\n",
       "      <td>6.0</td>\n",
       "      <td>1559.0</td>\n",
       "      <td>4361.0</td>\n",
       "    </tr>\n",
       "    <tr>\n",
       "      <td>4</td>\n",
       "      <td>2000</td>\n",
       "      <td>관악</td>\n",
       "      <td>0.745763</td>\n",
       "      <td>0.642857</td>\n",
       "      <td>0.875000</td>\n",
       "      <td>0.197846</td>\n",
       "      <td>0.909962</td>\n",
       "      <td>59.0</td>\n",
       "      <td>56.0</td>\n",
       "      <td>8.0</td>\n",
       "      <td>1764.0</td>\n",
       "      <td>2921.0</td>\n",
       "    </tr>\n",
       "  </tbody>\n",
       "</table>\n",
       "</div>"
      ],
      "text/plain": [
       "      년도  지역       검거율                                         발생 빈도         \\\n",
       "죄목                  강간        강도        살인        절도        폭력    강간     강도   \n",
       "0   2000  강남  0.897436  0.493151  1.333333  0.197135  0.888185  78.0  146.0   \n",
       "1   2000  강동  0.935484  0.816327  0.916667  0.365071  0.918787  62.0   49.0   \n",
       "2   2000  강북  1.021277  1.021277  0.888889  0.533178  0.950883  47.0   47.0   \n",
       "3   2000  강서  0.853333  0.733333  1.166667  0.326491  0.914469  75.0   75.0   \n",
       "4   2000  관악  0.745763  0.642857  0.875000  0.197846  0.909962  59.0   56.0   \n",
       "\n",
       "                          \n",
       "죄목    살인      절도      폭력  \n",
       "0    3.0  2653.0  4892.0  \n",
       "1   12.0  1838.0  4716.0  \n",
       "2    9.0   859.0  3624.0  \n",
       "3    6.0  1559.0  4361.0  \n",
       "4    8.0  1764.0  2921.0  "
      ]
     },
     "execution_count": 88,
     "metadata": {},
     "output_type": "execute_result"
    }
   ],
   "source": [
    "year_area_type.reset_index(inplace=True)\n",
    "year_area_type.head()"
   ]
  },
  {
   "cell_type": "code",
   "execution_count": 89,
   "metadata": {},
   "outputs": [
    {
     "data": {
      "text/html": [
       "<div>\n",
       "<style scoped>\n",
       "    .dataframe tbody tr th:only-of-type {\n",
       "        vertical-align: middle;\n",
       "    }\n",
       "\n",
       "    .dataframe tbody tr th {\n",
       "        vertical-align: top;\n",
       "    }\n",
       "\n",
       "    .dataframe thead tr th {\n",
       "        text-align: left;\n",
       "    }\n",
       "\n",
       "    .dataframe thead tr:last-of-type th {\n",
       "        text-align: right;\n",
       "    }\n",
       "</style>\n",
       "<table border=\"1\" class=\"dataframe\">\n",
       "  <thead>\n",
       "    <tr>\n",
       "      <th></th>\n",
       "      <th>년도</th>\n",
       "      <th colspan=\"5\" halign=\"left\">검거율</th>\n",
       "      <th colspan=\"5\" halign=\"left\">발생 빈도</th>\n",
       "    </tr>\n",
       "    <tr>\n",
       "      <th>죄목</th>\n",
       "      <th></th>\n",
       "      <th>강간</th>\n",
       "      <th>강도</th>\n",
       "      <th>살인</th>\n",
       "      <th>절도</th>\n",
       "      <th>폭력</th>\n",
       "      <th>강간</th>\n",
       "      <th>강도</th>\n",
       "      <th>살인</th>\n",
       "      <th>절도</th>\n",
       "      <th>폭력</th>\n",
       "    </tr>\n",
       "    <tr>\n",
       "      <th>지역</th>\n",
       "      <th></th>\n",
       "      <th></th>\n",
       "      <th></th>\n",
       "      <th></th>\n",
       "      <th></th>\n",
       "      <th></th>\n",
       "      <th></th>\n",
       "      <th></th>\n",
       "      <th></th>\n",
       "      <th></th>\n",
       "      <th></th>\n",
       "    </tr>\n",
       "  </thead>\n",
       "  <tbody>\n",
       "    <tr>\n",
       "      <td>강남</td>\n",
       "      <td>2000</td>\n",
       "      <td>0.897436</td>\n",
       "      <td>0.493151</td>\n",
       "      <td>1.333333</td>\n",
       "      <td>0.197135</td>\n",
       "      <td>0.888185</td>\n",
       "      <td>78.0</td>\n",
       "      <td>146.0</td>\n",
       "      <td>3.0</td>\n",
       "      <td>2653.0</td>\n",
       "      <td>4892.0</td>\n",
       "    </tr>\n",
       "    <tr>\n",
       "      <td>강동</td>\n",
       "      <td>2000</td>\n",
       "      <td>0.935484</td>\n",
       "      <td>0.816327</td>\n",
       "      <td>0.916667</td>\n",
       "      <td>0.365071</td>\n",
       "      <td>0.918787</td>\n",
       "      <td>62.0</td>\n",
       "      <td>49.0</td>\n",
       "      <td>12.0</td>\n",
       "      <td>1838.0</td>\n",
       "      <td>4716.0</td>\n",
       "    </tr>\n",
       "    <tr>\n",
       "      <td>강북</td>\n",
       "      <td>2000</td>\n",
       "      <td>1.021277</td>\n",
       "      <td>1.021277</td>\n",
       "      <td>0.888889</td>\n",
       "      <td>0.533178</td>\n",
       "      <td>0.950883</td>\n",
       "      <td>47.0</td>\n",
       "      <td>47.0</td>\n",
       "      <td>9.0</td>\n",
       "      <td>859.0</td>\n",
       "      <td>3624.0</td>\n",
       "    </tr>\n",
       "    <tr>\n",
       "      <td>강서</td>\n",
       "      <td>2000</td>\n",
       "      <td>0.853333</td>\n",
       "      <td>0.733333</td>\n",
       "      <td>1.166667</td>\n",
       "      <td>0.326491</td>\n",
       "      <td>0.914469</td>\n",
       "      <td>75.0</td>\n",
       "      <td>75.0</td>\n",
       "      <td>6.0</td>\n",
       "      <td>1559.0</td>\n",
       "      <td>4361.0</td>\n",
       "    </tr>\n",
       "    <tr>\n",
       "      <td>관악</td>\n",
       "      <td>2000</td>\n",
       "      <td>0.745763</td>\n",
       "      <td>0.642857</td>\n",
       "      <td>0.875000</td>\n",
       "      <td>0.197846</td>\n",
       "      <td>0.909962</td>\n",
       "      <td>59.0</td>\n",
       "      <td>56.0</td>\n",
       "      <td>8.0</td>\n",
       "      <td>1764.0</td>\n",
       "      <td>2921.0</td>\n",
       "    </tr>\n",
       "    <tr>\n",
       "      <td>...</td>\n",
       "      <td>...</td>\n",
       "      <td>...</td>\n",
       "      <td>...</td>\n",
       "      <td>...</td>\n",
       "      <td>...</td>\n",
       "      <td>...</td>\n",
       "      <td>...</td>\n",
       "      <td>...</td>\n",
       "      <td>...</td>\n",
       "      <td>...</td>\n",
       "      <td>...</td>\n",
       "    </tr>\n",
       "    <tr>\n",
       "      <td>종로</td>\n",
       "      <td>2018</td>\n",
       "      <td>0.838235</td>\n",
       "      <td>0.000000</td>\n",
       "      <td>0.800000</td>\n",
       "      <td>0.534946</td>\n",
       "      <td>0.877984</td>\n",
       "      <td>136.0</td>\n",
       "      <td>1.0</td>\n",
       "      <td>5.0</td>\n",
       "      <td>744.0</td>\n",
       "      <td>1131.0</td>\n",
       "    </tr>\n",
       "    <tr>\n",
       "      <td>종암</td>\n",
       "      <td>2018</td>\n",
       "      <td>0.862069</td>\n",
       "      <td>2.000000</td>\n",
       "      <td>0.833333</td>\n",
       "      <td>0.597518</td>\n",
       "      <td>0.868914</td>\n",
       "      <td>58.0</td>\n",
       "      <td>1.0</td>\n",
       "      <td>6.0</td>\n",
       "      <td>564.0</td>\n",
       "      <td>801.0</td>\n",
       "    </tr>\n",
       "    <tr>\n",
       "      <td>중랑</td>\n",
       "      <td>2018</td>\n",
       "      <td>0.833333</td>\n",
       "      <td>1.000000</td>\n",
       "      <td>1.250000</td>\n",
       "      <td>0.574050</td>\n",
       "      <td>0.849671</td>\n",
       "      <td>174.0</td>\n",
       "      <td>3.0</td>\n",
       "      <td>4.0</td>\n",
       "      <td>1526.0</td>\n",
       "      <td>2581.0</td>\n",
       "    </tr>\n",
       "    <tr>\n",
       "      <td>중부</td>\n",
       "      <td>2018</td>\n",
       "      <td>0.477273</td>\n",
       "      <td>1.400000</td>\n",
       "      <td>1.000000</td>\n",
       "      <td>0.392621</td>\n",
       "      <td>0.858844</td>\n",
       "      <td>132.0</td>\n",
       "      <td>5.0</td>\n",
       "      <td>1.0</td>\n",
       "      <td>1057.0</td>\n",
       "      <td>1176.0</td>\n",
       "    </tr>\n",
       "    <tr>\n",
       "      <td>혜화</td>\n",
       "      <td>2018</td>\n",
       "      <td>0.580000</td>\n",
       "      <td>1.000000</td>\n",
       "      <td>1.000000</td>\n",
       "      <td>0.460081</td>\n",
       "      <td>0.856799</td>\n",
       "      <td>100.0</td>\n",
       "      <td>2.0</td>\n",
       "      <td>1.0</td>\n",
       "      <td>739.0</td>\n",
       "      <td>831.0</td>\n",
       "    </tr>\n",
       "  </tbody>\n",
       "</table>\n",
       "<p>589 rows × 11 columns</p>\n",
       "</div>"
      ],
      "text/plain": [
       "      년도       검거율                                          발생 빈도         \\\n",
       "죄목              강간        강도        살인        절도        폭력     강간     강도   \n",
       "지역                                                                         \n",
       "강남  2000  0.897436  0.493151  1.333333  0.197135  0.888185   78.0  146.0   \n",
       "강동  2000  0.935484  0.816327  0.916667  0.365071  0.918787   62.0   49.0   \n",
       "강북  2000  1.021277  1.021277  0.888889  0.533178  0.950883   47.0   47.0   \n",
       "강서  2000  0.853333  0.733333  1.166667  0.326491  0.914469   75.0   75.0   \n",
       "관악  2000  0.745763  0.642857  0.875000  0.197846  0.909962   59.0   56.0   \n",
       "..   ...       ...       ...       ...       ...       ...    ...    ...   \n",
       "종로  2018  0.838235  0.000000  0.800000  0.534946  0.877984  136.0    1.0   \n",
       "종암  2018  0.862069  2.000000  0.833333  0.597518  0.868914   58.0    1.0   \n",
       "중랑  2018  0.833333  1.000000  1.250000  0.574050  0.849671  174.0    3.0   \n",
       "중부  2018  0.477273  1.400000  1.000000  0.392621  0.858844  132.0    5.0   \n",
       "혜화  2018  0.580000  1.000000  1.000000  0.460081  0.856799  100.0    2.0   \n",
       "\n",
       "                          \n",
       "죄목    살인      절도      폭력  \n",
       "지역                        \n",
       "강남   3.0  2653.0  4892.0  \n",
       "강동  12.0  1838.0  4716.0  \n",
       "강북   9.0   859.0  3624.0  \n",
       "강서   6.0  1559.0  4361.0  \n",
       "관악   8.0  1764.0  2921.0  \n",
       "..   ...     ...     ...  \n",
       "종로   5.0   744.0  1131.0  \n",
       "종암   6.0   564.0   801.0  \n",
       "중랑   4.0  1526.0  2581.0  \n",
       "중부   1.0  1057.0  1176.0  \n",
       "혜화   1.0   739.0   831.0  \n",
       "\n",
       "[589 rows x 11 columns]"
      ]
     },
     "execution_count": 89,
     "metadata": {},
     "output_type": "execute_result"
    }
   ],
   "source": [
    "year_area_type.set_index('지역')"
   ]
  },
  {
   "cell_type": "code",
   "execution_count": 90,
   "metadata": {},
   "outputs": [
    {
     "data": {
      "text/plain": [
       "MultiIndex([(   '년도',   ''),\n",
       "            (   '지역',   ''),\n",
       "            (  '검거율', '강간'),\n",
       "            (  '검거율', '강도'),\n",
       "            (  '검거율', '살인'),\n",
       "            (  '검거율', '절도'),\n",
       "            (  '검거율', '폭력'),\n",
       "            ('발생 빈도', '강간'),\n",
       "            ('발생 빈도', '강도'),\n",
       "            ('발생 빈도', '살인'),\n",
       "            ('발생 빈도', '절도'),\n",
       "            ('발생 빈도', '폭력')],\n",
       "           names=[None, '죄목'])"
      ]
     },
     "execution_count": 90,
     "metadata": {},
     "output_type": "execute_result"
    }
   ],
   "source": [
    "year_area_type.columns"
   ]
  },
  {
   "cell_type": "markdown",
   "metadata": {},
   "source": [
    "### 범죄별 검거율 "
   ]
  },
  {
   "cell_type": "code",
   "execution_count": 100,
   "metadata": {},
   "outputs": [],
   "source": [
    "###범죄별 지역별 검거율 \n",
    "rate_area_crime = year_area_type[['지역','검거율']]"
   ]
  },
  {
   "cell_type": "code",
   "execution_count": 101,
   "metadata": {},
   "outputs": [],
   "source": [
    "rate_area_crime.set_index('지역', inplace= True)"
   ]
  },
  {
   "cell_type": "code",
   "execution_count": 102,
   "metadata": {},
   "outputs": [
    {
     "data": {
      "text/html": [
       "<div>\n",
       "<style scoped>\n",
       "    .dataframe tbody tr th:only-of-type {\n",
       "        vertical-align: middle;\n",
       "    }\n",
       "\n",
       "    .dataframe tbody tr th {\n",
       "        vertical-align: top;\n",
       "    }\n",
       "\n",
       "    .dataframe thead tr th {\n",
       "        text-align: left;\n",
       "    }\n",
       "\n",
       "    .dataframe thead tr:last-of-type th {\n",
       "        text-align: right;\n",
       "    }\n",
       "</style>\n",
       "<table border=\"1\" class=\"dataframe\">\n",
       "  <thead>\n",
       "    <tr>\n",
       "      <th></th>\n",
       "      <th colspan=\"5\" halign=\"left\">검거율</th>\n",
       "    </tr>\n",
       "    <tr>\n",
       "      <th>죄목</th>\n",
       "      <th>강간</th>\n",
       "      <th>강도</th>\n",
       "      <th>살인</th>\n",
       "      <th>절도</th>\n",
       "      <th>폭력</th>\n",
       "    </tr>\n",
       "    <tr>\n",
       "      <th>지역</th>\n",
       "      <th></th>\n",
       "      <th></th>\n",
       "      <th></th>\n",
       "      <th></th>\n",
       "      <th></th>\n",
       "    </tr>\n",
       "  </thead>\n",
       "  <tbody>\n",
       "    <tr>\n",
       "      <td>강남</td>\n",
       "      <td>0.897436</td>\n",
       "      <td>0.493151</td>\n",
       "      <td>1.333333</td>\n",
       "      <td>0.197135</td>\n",
       "      <td>0.888185</td>\n",
       "    </tr>\n",
       "    <tr>\n",
       "      <td>강동</td>\n",
       "      <td>0.935484</td>\n",
       "      <td>0.816327</td>\n",
       "      <td>0.916667</td>\n",
       "      <td>0.365071</td>\n",
       "      <td>0.918787</td>\n",
       "    </tr>\n",
       "    <tr>\n",
       "      <td>강북</td>\n",
       "      <td>1.021277</td>\n",
       "      <td>1.021277</td>\n",
       "      <td>0.888889</td>\n",
       "      <td>0.533178</td>\n",
       "      <td>0.950883</td>\n",
       "    </tr>\n",
       "    <tr>\n",
       "      <td>강서</td>\n",
       "      <td>0.853333</td>\n",
       "      <td>0.733333</td>\n",
       "      <td>1.166667</td>\n",
       "      <td>0.326491</td>\n",
       "      <td>0.914469</td>\n",
       "    </tr>\n",
       "    <tr>\n",
       "      <td>관악</td>\n",
       "      <td>0.745763</td>\n",
       "      <td>0.642857</td>\n",
       "      <td>0.875000</td>\n",
       "      <td>0.197846</td>\n",
       "      <td>0.909962</td>\n",
       "    </tr>\n",
       "  </tbody>\n",
       "</table>\n",
       "</div>"
      ],
      "text/plain": [
       "         검거율                                        \n",
       "죄목        강간        강도        살인        절도        폭력\n",
       "지역                                                  \n",
       "강남  0.897436  0.493151  1.333333  0.197135  0.888185\n",
       "강동  0.935484  0.816327  0.916667  0.365071  0.918787\n",
       "강북  1.021277  1.021277  0.888889  0.533178  0.950883\n",
       "강서  0.853333  0.733333  1.166667  0.326491  0.914469\n",
       "관악  0.745763  0.642857  0.875000  0.197846  0.909962"
      ]
     },
     "execution_count": 102,
     "metadata": {},
     "output_type": "execute_result"
    }
   ],
   "source": [
    "rate_area_crime.head()"
   ]
  },
  {
   "cell_type": "code",
   "execution_count": 128,
   "metadata": {},
   "outputs": [
    {
     "data": {
      "text/html": [
       "<div>\n",
       "<style scoped>\n",
       "    .dataframe tbody tr th:only-of-type {\n",
       "        vertical-align: middle;\n",
       "    }\n",
       "\n",
       "    .dataframe tbody tr th {\n",
       "        vertical-align: top;\n",
       "    }\n",
       "\n",
       "    .dataframe thead th {\n",
       "        text-align: right;\n",
       "    }\n",
       "</style>\n",
       "<table border=\"1\" class=\"dataframe\">\n",
       "  <thead>\n",
       "    <tr style=\"text-align: right;\">\n",
       "      <th>죄목</th>\n",
       "      <th>강간</th>\n",
       "      <th>강도</th>\n",
       "      <th>살인</th>\n",
       "      <th>절도</th>\n",
       "      <th>폭력</th>\n",
       "    </tr>\n",
       "    <tr>\n",
       "      <th>지역</th>\n",
       "      <th></th>\n",
       "      <th></th>\n",
       "      <th></th>\n",
       "      <th></th>\n",
       "      <th></th>\n",
       "    </tr>\n",
       "  </thead>\n",
       "  <tbody>\n",
       "    <tr>\n",
       "      <td>강남</td>\n",
       "      <td>0.897436</td>\n",
       "      <td>0.493151</td>\n",
       "      <td>1.333333</td>\n",
       "      <td>0.197135</td>\n",
       "      <td>0.888185</td>\n",
       "    </tr>\n",
       "    <tr>\n",
       "      <td>강동</td>\n",
       "      <td>0.935484</td>\n",
       "      <td>0.816327</td>\n",
       "      <td>0.916667</td>\n",
       "      <td>0.365071</td>\n",
       "      <td>0.918787</td>\n",
       "    </tr>\n",
       "    <tr>\n",
       "      <td>강북</td>\n",
       "      <td>1.021277</td>\n",
       "      <td>1.021277</td>\n",
       "      <td>0.888889</td>\n",
       "      <td>0.533178</td>\n",
       "      <td>0.950883</td>\n",
       "    </tr>\n",
       "    <tr>\n",
       "      <td>강서</td>\n",
       "      <td>0.853333</td>\n",
       "      <td>0.733333</td>\n",
       "      <td>1.166667</td>\n",
       "      <td>0.326491</td>\n",
       "      <td>0.914469</td>\n",
       "    </tr>\n",
       "    <tr>\n",
       "      <td>관악</td>\n",
       "      <td>0.745763</td>\n",
       "      <td>0.642857</td>\n",
       "      <td>0.875000</td>\n",
       "      <td>0.197846</td>\n",
       "      <td>0.909962</td>\n",
       "    </tr>\n",
       "    <tr>\n",
       "      <td>...</td>\n",
       "      <td>...</td>\n",
       "      <td>...</td>\n",
       "      <td>...</td>\n",
       "      <td>...</td>\n",
       "      <td>...</td>\n",
       "    </tr>\n",
       "    <tr>\n",
       "      <td>종로</td>\n",
       "      <td>0.838235</td>\n",
       "      <td>0.000000</td>\n",
       "      <td>0.800000</td>\n",
       "      <td>0.534946</td>\n",
       "      <td>0.877984</td>\n",
       "    </tr>\n",
       "    <tr>\n",
       "      <td>종암</td>\n",
       "      <td>0.862069</td>\n",
       "      <td>2.000000</td>\n",
       "      <td>0.833333</td>\n",
       "      <td>0.597518</td>\n",
       "      <td>0.868914</td>\n",
       "    </tr>\n",
       "    <tr>\n",
       "      <td>중랑</td>\n",
       "      <td>0.833333</td>\n",
       "      <td>1.000000</td>\n",
       "      <td>1.250000</td>\n",
       "      <td>0.574050</td>\n",
       "      <td>0.849671</td>\n",
       "    </tr>\n",
       "    <tr>\n",
       "      <td>중부</td>\n",
       "      <td>0.477273</td>\n",
       "      <td>1.400000</td>\n",
       "      <td>1.000000</td>\n",
       "      <td>0.392621</td>\n",
       "      <td>0.858844</td>\n",
       "    </tr>\n",
       "    <tr>\n",
       "      <td>혜화</td>\n",
       "      <td>0.580000</td>\n",
       "      <td>1.000000</td>\n",
       "      <td>1.000000</td>\n",
       "      <td>0.460081</td>\n",
       "      <td>0.856799</td>\n",
       "    </tr>\n",
       "  </tbody>\n",
       "</table>\n",
       "<p>589 rows × 5 columns</p>\n",
       "</div>"
      ],
      "text/plain": [
       "죄목        강간        강도        살인        절도        폭력\n",
       "지역                                                  \n",
       "강남  0.897436  0.493151  1.333333  0.197135  0.888185\n",
       "강동  0.935484  0.816327  0.916667  0.365071  0.918787\n",
       "강북  1.021277  1.021277  0.888889  0.533178  0.950883\n",
       "강서  0.853333  0.733333  1.166667  0.326491  0.914469\n",
       "관악  0.745763  0.642857  0.875000  0.197846  0.909962\n",
       "..       ...       ...       ...       ...       ...\n",
       "종로  0.838235  0.000000  0.800000  0.534946  0.877984\n",
       "종암  0.862069  2.000000  0.833333  0.597518  0.868914\n",
       "중랑  0.833333  1.000000  1.250000  0.574050  0.849671\n",
       "중부  0.477273  1.400000  1.000000  0.392621  0.858844\n",
       "혜화  0.580000  1.000000  1.000000  0.460081  0.856799\n",
       "\n",
       "[589 rows x 5 columns]"
      ]
     },
     "execution_count": 128,
     "metadata": {},
     "output_type": "execute_result"
    }
   ],
   "source": [
    "rate_area_crime['검거율']"
   ]
  },
  {
   "cell_type": "code",
   "execution_count": 139,
   "metadata": {},
   "outputs": [],
   "source": [
    "rate_area_crime_t=rate_area_crime.transpose()"
   ]
  },
  {
   "cell_type": "code",
   "execution_count": 311,
   "metadata": {},
   "outputs": [
    {
     "data": {
      "text/html": [
       "<div>\n",
       "<style scoped>\n",
       "    .dataframe tbody tr th:only-of-type {\n",
       "        vertical-align: middle;\n",
       "    }\n",
       "\n",
       "    .dataframe tbody tr th {\n",
       "        vertical-align: top;\n",
       "    }\n",
       "\n",
       "    .dataframe thead th {\n",
       "        text-align: right;\n",
       "    }\n",
       "</style>\n",
       "<table border=\"1\" class=\"dataframe\">\n",
       "  <thead>\n",
       "    <tr style=\"text-align: right;\">\n",
       "      <th></th>\n",
       "      <th>지역</th>\n",
       "      <th>강남</th>\n",
       "      <th>강동</th>\n",
       "      <th>강북</th>\n",
       "      <th>강서</th>\n",
       "      <th>관악</th>\n",
       "      <th>광진</th>\n",
       "      <th>구로</th>\n",
       "      <th>금천</th>\n",
       "      <th>남대문</th>\n",
       "      <th>노원</th>\n",
       "      <th>...</th>\n",
       "      <th>수서</th>\n",
       "      <th>양천</th>\n",
       "      <th>영등포</th>\n",
       "      <th>용산</th>\n",
       "      <th>은평</th>\n",
       "      <th>종로</th>\n",
       "      <th>종암</th>\n",
       "      <th>중랑</th>\n",
       "      <th>중부</th>\n",
       "      <th>혜화</th>\n",
       "    </tr>\n",
       "    <tr>\n",
       "      <th></th>\n",
       "      <th>죄목</th>\n",
       "      <th></th>\n",
       "      <th></th>\n",
       "      <th></th>\n",
       "      <th></th>\n",
       "      <th></th>\n",
       "      <th></th>\n",
       "      <th></th>\n",
       "      <th></th>\n",
       "      <th></th>\n",
       "      <th></th>\n",
       "      <th></th>\n",
       "      <th></th>\n",
       "      <th></th>\n",
       "      <th></th>\n",
       "      <th></th>\n",
       "      <th></th>\n",
       "      <th></th>\n",
       "      <th></th>\n",
       "      <th></th>\n",
       "      <th></th>\n",
       "      <th></th>\n",
       "    </tr>\n",
       "  </thead>\n",
       "  <tbody>\n",
       "    <tr>\n",
       "      <td rowspan=\"5\" valign=\"top\">검거율</td>\n",
       "      <td>강간</td>\n",
       "      <td>0.897436</td>\n",
       "      <td>0.935484</td>\n",
       "      <td>1.021277</td>\n",
       "      <td>0.853333</td>\n",
       "      <td>0.745763</td>\n",
       "      <td>1.043478</td>\n",
       "      <td>0.963636</td>\n",
       "      <td>0.954545</td>\n",
       "      <td>0.884615</td>\n",
       "      <td>0.800000</td>\n",
       "      <td>...</td>\n",
       "      <td>0.881443</td>\n",
       "      <td>0.925000</td>\n",
       "      <td>0.682864</td>\n",
       "      <td>0.861027</td>\n",
       "      <td>0.900000</td>\n",
       "      <td>0.838235</td>\n",
       "      <td>0.862069</td>\n",
       "      <td>0.833333</td>\n",
       "      <td>0.477273</td>\n",
       "      <td>0.580000</td>\n",
       "    </tr>\n",
       "    <tr>\n",
       "      <td>강도</td>\n",
       "      <td>0.493151</td>\n",
       "      <td>0.816327</td>\n",
       "      <td>1.021277</td>\n",
       "      <td>0.733333</td>\n",
       "      <td>0.642857</td>\n",
       "      <td>0.931034</td>\n",
       "      <td>1.057143</td>\n",
       "      <td>0.794521</td>\n",
       "      <td>0.538462</td>\n",
       "      <td>0.947368</td>\n",
       "      <td>...</td>\n",
       "      <td>0.400000</td>\n",
       "      <td>3.500000</td>\n",
       "      <td>0.750000</td>\n",
       "      <td>0.666667</td>\n",
       "      <td>1.000000</td>\n",
       "      <td>0.000000</td>\n",
       "      <td>2.000000</td>\n",
       "      <td>1.000000</td>\n",
       "      <td>1.400000</td>\n",
       "      <td>1.000000</td>\n",
       "    </tr>\n",
       "    <tr>\n",
       "      <td>살인</td>\n",
       "      <td>1.333333</td>\n",
       "      <td>0.916667</td>\n",
       "      <td>0.888889</td>\n",
       "      <td>1.166667</td>\n",
       "      <td>0.875000</td>\n",
       "      <td>2.500000</td>\n",
       "      <td>1.000000</td>\n",
       "      <td>0.900000</td>\n",
       "      <td>1.000000</td>\n",
       "      <td>1.000000</td>\n",
       "      <td>...</td>\n",
       "      <td>1.000000</td>\n",
       "      <td>1.500000</td>\n",
       "      <td>0.882353</td>\n",
       "      <td>1.000000</td>\n",
       "      <td>1.000000</td>\n",
       "      <td>0.800000</td>\n",
       "      <td>0.833333</td>\n",
       "      <td>1.250000</td>\n",
       "      <td>1.000000</td>\n",
       "      <td>1.000000</td>\n",
       "    </tr>\n",
       "    <tr>\n",
       "      <td>절도</td>\n",
       "      <td>0.197135</td>\n",
       "      <td>0.365071</td>\n",
       "      <td>0.533178</td>\n",
       "      <td>0.326491</td>\n",
       "      <td>0.197846</td>\n",
       "      <td>0.401036</td>\n",
       "      <td>0.351324</td>\n",
       "      <td>0.325737</td>\n",
       "      <td>0.605322</td>\n",
       "      <td>0.450742</td>\n",
       "      <td>...</td>\n",
       "      <td>0.488821</td>\n",
       "      <td>0.466763</td>\n",
       "      <td>0.464223</td>\n",
       "      <td>0.476277</td>\n",
       "      <td>0.635188</td>\n",
       "      <td>0.534946</td>\n",
       "      <td>0.597518</td>\n",
       "      <td>0.574050</td>\n",
       "      <td>0.392621</td>\n",
       "      <td>0.460081</td>\n",
       "    </tr>\n",
       "    <tr>\n",
       "      <td>폭력</td>\n",
       "      <td>0.888185</td>\n",
       "      <td>0.918787</td>\n",
       "      <td>0.950883</td>\n",
       "      <td>0.914469</td>\n",
       "      <td>0.909962</td>\n",
       "      <td>0.957158</td>\n",
       "      <td>0.933130</td>\n",
       "      <td>0.910150</td>\n",
       "      <td>0.993854</td>\n",
       "      <td>0.961224</td>\n",
       "      <td>...</td>\n",
       "      <td>0.850324</td>\n",
       "      <td>0.840399</td>\n",
       "      <td>0.820562</td>\n",
       "      <td>0.875253</td>\n",
       "      <td>0.885321</td>\n",
       "      <td>0.877984</td>\n",
       "      <td>0.868914</td>\n",
       "      <td>0.849671</td>\n",
       "      <td>0.858844</td>\n",
       "      <td>0.856799</td>\n",
       "    </tr>\n",
       "  </tbody>\n",
       "</table>\n",
       "<p>5 rows × 589 columns</p>\n",
       "</div>"
      ],
      "text/plain": [
       "지역            강남        강동        강북        강서        관악        광진        구로  \\\n",
       "    죄목                                                                         \n",
       "검거율 강간  0.897436  0.935484  1.021277  0.853333  0.745763  1.043478  0.963636   \n",
       "    강도  0.493151  0.816327  1.021277  0.733333  0.642857  0.931034  1.057143   \n",
       "    살인  1.333333  0.916667  0.888889  1.166667  0.875000  2.500000  1.000000   \n",
       "    절도  0.197135  0.365071  0.533178  0.326491  0.197846  0.401036  0.351324   \n",
       "    폭력  0.888185  0.918787  0.950883  0.914469  0.909962  0.957158  0.933130   \n",
       "\n",
       "지역            금천       남대문        노원  ...        수서        양천       영등포  \\\n",
       "    죄목                                ...                                 \n",
       "검거율 강간  0.954545  0.884615  0.800000  ...  0.881443  0.925000  0.682864   \n",
       "    강도  0.794521  0.538462  0.947368  ...  0.400000  3.500000  0.750000   \n",
       "    살인  0.900000  1.000000  1.000000  ...  1.000000  1.500000  0.882353   \n",
       "    절도  0.325737  0.605322  0.450742  ...  0.488821  0.466763  0.464223   \n",
       "    폭력  0.910150  0.993854  0.961224  ...  0.850324  0.840399  0.820562   \n",
       "\n",
       "지역            용산        은평        종로        종암        중랑        중부        혜화  \n",
       "    죄목                                                                        \n",
       "검거율 강간  0.861027  0.900000  0.838235  0.862069  0.833333  0.477273  0.580000  \n",
       "    강도  0.666667  1.000000  0.000000  2.000000  1.000000  1.400000  1.000000  \n",
       "    살인  1.000000  1.000000  0.800000  0.833333  1.250000  1.000000  1.000000  \n",
       "    절도  0.476277  0.635188  0.534946  0.597518  0.574050  0.392621  0.460081  \n",
       "    폭력  0.875253  0.885321  0.877984  0.868914  0.849671  0.858844  0.856799  \n",
       "\n",
       "[5 rows x 589 columns]"
      ]
     },
     "execution_count": 311,
     "metadata": {},
     "output_type": "execute_result"
    }
   ],
   "source": [
    "rate_area_crime_t.head()"
   ]
  },
  {
   "cell_type": "code",
   "execution_count": 319,
   "metadata": {},
   "outputs": [],
   "source": [
    "rate_area_crime_t.reset_index(inplace=True)"
   ]
  },
  {
   "cell_type": "code",
   "execution_count": 321,
   "metadata": {},
   "outputs": [
    {
     "data": {
      "text/html": [
       "<div>\n",
       "<style scoped>\n",
       "    .dataframe tbody tr th:only-of-type {\n",
       "        vertical-align: middle;\n",
       "    }\n",
       "\n",
       "    .dataframe tbody tr th {\n",
       "        vertical-align: top;\n",
       "    }\n",
       "\n",
       "    .dataframe thead th {\n",
       "        text-align: right;\n",
       "    }\n",
       "</style>\n",
       "<table border=\"1\" class=\"dataframe\">\n",
       "  <thead>\n",
       "    <tr style=\"text-align: right;\">\n",
       "      <th>지역</th>\n",
       "      <th>level_0</th>\n",
       "      <th>죄목</th>\n",
       "      <th>강남</th>\n",
       "      <th>강동</th>\n",
       "      <th>강북</th>\n",
       "      <th>강서</th>\n",
       "      <th>관악</th>\n",
       "      <th>광진</th>\n",
       "      <th>구로</th>\n",
       "      <th>금천</th>\n",
       "      <th>...</th>\n",
       "      <th>수서</th>\n",
       "      <th>양천</th>\n",
       "      <th>영등포</th>\n",
       "      <th>용산</th>\n",
       "      <th>은평</th>\n",
       "      <th>종로</th>\n",
       "      <th>종암</th>\n",
       "      <th>중랑</th>\n",
       "      <th>중부</th>\n",
       "      <th>혜화</th>\n",
       "    </tr>\n",
       "  </thead>\n",
       "  <tbody>\n",
       "    <tr>\n",
       "      <td>0</td>\n",
       "      <td>검거율</td>\n",
       "      <td>강간</td>\n",
       "      <td>0.897436</td>\n",
       "      <td>0.935484</td>\n",
       "      <td>1.021277</td>\n",
       "      <td>0.853333</td>\n",
       "      <td>0.745763</td>\n",
       "      <td>1.043478</td>\n",
       "      <td>0.963636</td>\n",
       "      <td>0.954545</td>\n",
       "      <td>...</td>\n",
       "      <td>0.881443</td>\n",
       "      <td>0.925000</td>\n",
       "      <td>0.682864</td>\n",
       "      <td>0.861027</td>\n",
       "      <td>0.900000</td>\n",
       "      <td>0.838235</td>\n",
       "      <td>0.862069</td>\n",
       "      <td>0.833333</td>\n",
       "      <td>0.477273</td>\n",
       "      <td>0.580000</td>\n",
       "    </tr>\n",
       "    <tr>\n",
       "      <td>1</td>\n",
       "      <td>검거율</td>\n",
       "      <td>강도</td>\n",
       "      <td>0.493151</td>\n",
       "      <td>0.816327</td>\n",
       "      <td>1.021277</td>\n",
       "      <td>0.733333</td>\n",
       "      <td>0.642857</td>\n",
       "      <td>0.931034</td>\n",
       "      <td>1.057143</td>\n",
       "      <td>0.794521</td>\n",
       "      <td>...</td>\n",
       "      <td>0.400000</td>\n",
       "      <td>3.500000</td>\n",
       "      <td>0.750000</td>\n",
       "      <td>0.666667</td>\n",
       "      <td>1.000000</td>\n",
       "      <td>0.000000</td>\n",
       "      <td>2.000000</td>\n",
       "      <td>1.000000</td>\n",
       "      <td>1.400000</td>\n",
       "      <td>1.000000</td>\n",
       "    </tr>\n",
       "    <tr>\n",
       "      <td>2</td>\n",
       "      <td>검거율</td>\n",
       "      <td>살인</td>\n",
       "      <td>1.333333</td>\n",
       "      <td>0.916667</td>\n",
       "      <td>0.888889</td>\n",
       "      <td>1.166667</td>\n",
       "      <td>0.875000</td>\n",
       "      <td>2.500000</td>\n",
       "      <td>1.000000</td>\n",
       "      <td>0.900000</td>\n",
       "      <td>...</td>\n",
       "      <td>1.000000</td>\n",
       "      <td>1.500000</td>\n",
       "      <td>0.882353</td>\n",
       "      <td>1.000000</td>\n",
       "      <td>1.000000</td>\n",
       "      <td>0.800000</td>\n",
       "      <td>0.833333</td>\n",
       "      <td>1.250000</td>\n",
       "      <td>1.000000</td>\n",
       "      <td>1.000000</td>\n",
       "    </tr>\n",
       "    <tr>\n",
       "      <td>3</td>\n",
       "      <td>검거율</td>\n",
       "      <td>절도</td>\n",
       "      <td>0.197135</td>\n",
       "      <td>0.365071</td>\n",
       "      <td>0.533178</td>\n",
       "      <td>0.326491</td>\n",
       "      <td>0.197846</td>\n",
       "      <td>0.401036</td>\n",
       "      <td>0.351324</td>\n",
       "      <td>0.325737</td>\n",
       "      <td>...</td>\n",
       "      <td>0.488821</td>\n",
       "      <td>0.466763</td>\n",
       "      <td>0.464223</td>\n",
       "      <td>0.476277</td>\n",
       "      <td>0.635188</td>\n",
       "      <td>0.534946</td>\n",
       "      <td>0.597518</td>\n",
       "      <td>0.574050</td>\n",
       "      <td>0.392621</td>\n",
       "      <td>0.460081</td>\n",
       "    </tr>\n",
       "    <tr>\n",
       "      <td>4</td>\n",
       "      <td>검거율</td>\n",
       "      <td>폭력</td>\n",
       "      <td>0.888185</td>\n",
       "      <td>0.918787</td>\n",
       "      <td>0.950883</td>\n",
       "      <td>0.914469</td>\n",
       "      <td>0.909962</td>\n",
       "      <td>0.957158</td>\n",
       "      <td>0.933130</td>\n",
       "      <td>0.910150</td>\n",
       "      <td>...</td>\n",
       "      <td>0.850324</td>\n",
       "      <td>0.840399</td>\n",
       "      <td>0.820562</td>\n",
       "      <td>0.875253</td>\n",
       "      <td>0.885321</td>\n",
       "      <td>0.877984</td>\n",
       "      <td>0.868914</td>\n",
       "      <td>0.849671</td>\n",
       "      <td>0.858844</td>\n",
       "      <td>0.856799</td>\n",
       "    </tr>\n",
       "  </tbody>\n",
       "</table>\n",
       "<p>5 rows × 591 columns</p>\n",
       "</div>"
      ],
      "text/plain": [
       "지역 level_0  죄목        강남        강동        강북        강서        관악        광진  \\\n",
       "0      검거율  강간  0.897436  0.935484  1.021277  0.853333  0.745763  1.043478   \n",
       "1      검거율  강도  0.493151  0.816327  1.021277  0.733333  0.642857  0.931034   \n",
       "2      검거율  살인  1.333333  0.916667  0.888889  1.166667  0.875000  2.500000   \n",
       "3      검거율  절도  0.197135  0.365071  0.533178  0.326491  0.197846  0.401036   \n",
       "4      검거율  폭력  0.888185  0.918787  0.950883  0.914469  0.909962  0.957158   \n",
       "\n",
       "지역        구로        금천  ...        수서        양천       영등포        용산        은평  \\\n",
       "0   0.963636  0.954545  ...  0.881443  0.925000  0.682864  0.861027  0.900000   \n",
       "1   1.057143  0.794521  ...  0.400000  3.500000  0.750000  0.666667  1.000000   \n",
       "2   1.000000  0.900000  ...  1.000000  1.500000  0.882353  1.000000  1.000000   \n",
       "3   0.351324  0.325737  ...  0.488821  0.466763  0.464223  0.476277  0.635188   \n",
       "4   0.933130  0.910150  ...  0.850324  0.840399  0.820562  0.875253  0.885321   \n",
       "\n",
       "지역        종로        종암        중랑        중부        혜화  \n",
       "0   0.838235  0.862069  0.833333  0.477273  0.580000  \n",
       "1   0.000000  2.000000  1.000000  1.400000  1.000000  \n",
       "2   0.800000  0.833333  1.250000  1.000000  1.000000  \n",
       "3   0.534946  0.597518  0.574050  0.392621  0.460081  \n",
       "4   0.877984  0.868914  0.849671  0.858844  0.856799  \n",
       "\n",
       "[5 rows x 591 columns]"
      ]
     },
     "execution_count": 321,
     "metadata": {},
     "output_type": "execute_result"
    }
   ],
   "source": [
    "rate_area_crime_t.head()\n"
   ]
  },
  {
   "cell_type": "code",
   "execution_count": 337,
   "metadata": {},
   "outputs": [],
   "source": [
    "rate_area_crime_t=rate_area_crime_t.iloc[:,1:]"
   ]
  },
  {
   "cell_type": "code",
   "execution_count": 339,
   "metadata": {},
   "outputs": [
    {
     "ename": "TypeError",
     "evalue": "ufunc 'isnan' not supported for the input types, and the inputs could not be safely coerced to any supported types according to the casting rule ''safe''",
     "output_type": "error",
     "traceback": [
      "\u001b[0;31m---------------------------------------------------------------------------\u001b[0m",
      "\u001b[0;31mTypeError\u001b[0m                                 Traceback (most recent call last)",
      "\u001b[0;32m<ipython-input-339-7790cce1f932>\u001b[0m in \u001b[0;36m<module>\u001b[0;34m\u001b[0m\n\u001b[1;32m      1\u001b[0m \u001b[0mplt\u001b[0m\u001b[0;34m.\u001b[0m\u001b[0mfigure\u001b[0m\u001b[0;34m(\u001b[0m\u001b[0mfigsize\u001b[0m\u001b[0;34m=\u001b[0m\u001b[0;34m(\u001b[0m\u001b[0;36m15\u001b[0m\u001b[0;34m,\u001b[0m\u001b[0;36m8\u001b[0m\u001b[0;34m)\u001b[0m\u001b[0;34m)\u001b[0m\u001b[0;34m\u001b[0m\u001b[0;34m\u001b[0m\u001b[0m\n\u001b[1;32m      2\u001b[0m \u001b[0;34m\u001b[0m\u001b[0m\n\u001b[0;32m----> 3\u001b[0;31m \u001b[0msns\u001b[0m\u001b[0;34m.\u001b[0m\u001b[0mheatmap\u001b[0m\u001b[0;34m(\u001b[0m\u001b[0mrate_area_crime_t\u001b[0m\u001b[0;34m)\u001b[0m \u001b[0;31m#\u001b[0m\u001b[0;34m\u001b[0m\u001b[0;34m\u001b[0m\u001b[0m\n\u001b[0m\u001b[1;32m      4\u001b[0m \u001b[0mplt\u001b[0m\u001b[0;34m.\u001b[0m\u001b[0mtitle\u001b[0m\u001b[0;34m(\u001b[0m\u001b[0;34m'서울시내 5대 범죄 죄목별 검거율'\u001b[0m\u001b[0;34m,\u001b[0m \u001b[0mfontsize\u001b[0m\u001b[0;34m=\u001b[0m\u001b[0;36m20\u001b[0m\u001b[0;34m)\u001b[0m\u001b[0;34m\u001b[0m\u001b[0;34m\u001b[0m\u001b[0m\n\u001b[1;32m      5\u001b[0m \u001b[0mplt\u001b[0m\u001b[0;34m.\u001b[0m\u001b[0mxticks\u001b[0m \u001b[0;34m=\u001b[0m \u001b[0;34m[\u001b[0m\u001b[0;34m'강간'\u001b[0m\u001b[0;34m,\u001b[0m\u001b[0;34m'강도'\u001b[0m\u001b[0;34m,\u001b[0m\u001b[0;34m'살인'\u001b[0m\u001b[0;34m,\u001b[0m\u001b[0;34m'절도'\u001b[0m\u001b[0;34m,\u001b[0m\u001b[0;34m'폭력'\u001b[0m\u001b[0;34m]\u001b[0m\u001b[0;34m\u001b[0m\u001b[0;34m\u001b[0m\u001b[0m\n",
      "\u001b[0;32m/opt/anaconda3/lib/python3.7/site-packages/seaborn/matrix.py\u001b[0m in \u001b[0;36mheatmap\u001b[0;34m(data, vmin, vmax, cmap, center, robust, annot, fmt, annot_kws, linewidths, linecolor, cbar, cbar_kws, cbar_ax, square, xticklabels, yticklabels, mask, ax, **kwargs)\u001b[0m\n\u001b[1;32m    515\u001b[0m     plotter = _HeatMapper(data, vmin, vmax, cmap, center, robust, annot, fmt,\n\u001b[1;32m    516\u001b[0m                           \u001b[0mannot_kws\u001b[0m\u001b[0;34m,\u001b[0m \u001b[0mcbar\u001b[0m\u001b[0;34m,\u001b[0m \u001b[0mcbar_kws\u001b[0m\u001b[0;34m,\u001b[0m \u001b[0mxticklabels\u001b[0m\u001b[0;34m,\u001b[0m\u001b[0;34m\u001b[0m\u001b[0;34m\u001b[0m\u001b[0m\n\u001b[0;32m--> 517\u001b[0;31m                           yticklabels, mask)\n\u001b[0m\u001b[1;32m    518\u001b[0m \u001b[0;34m\u001b[0m\u001b[0m\n\u001b[1;32m    519\u001b[0m     \u001b[0;31m# Add the pcolormesh kwargs here\u001b[0m\u001b[0;34m\u001b[0m\u001b[0;34m\u001b[0m\u001b[0;34m\u001b[0m\u001b[0m\n",
      "\u001b[0;32m/opt/anaconda3/lib/python3.7/site-packages/seaborn/matrix.py\u001b[0m in \u001b[0;36m__init__\u001b[0;34m(self, data, vmin, vmax, cmap, center, robust, annot, fmt, annot_kws, cbar, cbar_kws, xticklabels, yticklabels, mask)\u001b[0m\n\u001b[1;32m    165\u001b[0m         \u001b[0;31m# Determine good default values for the colormapping\u001b[0m\u001b[0;34m\u001b[0m\u001b[0;34m\u001b[0m\u001b[0;34m\u001b[0m\u001b[0m\n\u001b[1;32m    166\u001b[0m         self._determine_cmap_params(plot_data, vmin, vmax,\n\u001b[0;32m--> 167\u001b[0;31m                                     cmap, center, robust)\n\u001b[0m\u001b[1;32m    168\u001b[0m \u001b[0;34m\u001b[0m\u001b[0m\n\u001b[1;32m    169\u001b[0m         \u001b[0;31m# Sort out the annotations\u001b[0m\u001b[0;34m\u001b[0m\u001b[0;34m\u001b[0m\u001b[0;34m\u001b[0m\u001b[0m\n",
      "\u001b[0;32m/opt/anaconda3/lib/python3.7/site-packages/seaborn/matrix.py\u001b[0m in \u001b[0;36m_determine_cmap_params\u001b[0;34m(self, plot_data, vmin, vmax, cmap, center, robust)\u001b[0m\n\u001b[1;32m    202\u001b[0m                                cmap, center, robust):\n\u001b[1;32m    203\u001b[0m         \u001b[0;34m\"\"\"Use some heuristics to set good defaults for colorbar and range.\"\"\"\u001b[0m\u001b[0;34m\u001b[0m\u001b[0;34m\u001b[0m\u001b[0m\n\u001b[0;32m--> 204\u001b[0;31m         \u001b[0mcalc_data\u001b[0m \u001b[0;34m=\u001b[0m \u001b[0mplot_data\u001b[0m\u001b[0;34m.\u001b[0m\u001b[0mdata\u001b[0m\u001b[0;34m[\u001b[0m\u001b[0;34m~\u001b[0m\u001b[0mnp\u001b[0m\u001b[0;34m.\u001b[0m\u001b[0misnan\u001b[0m\u001b[0;34m(\u001b[0m\u001b[0mplot_data\u001b[0m\u001b[0;34m.\u001b[0m\u001b[0mdata\u001b[0m\u001b[0;34m)\u001b[0m\u001b[0;34m]\u001b[0m\u001b[0;34m\u001b[0m\u001b[0;34m\u001b[0m\u001b[0m\n\u001b[0m\u001b[1;32m    205\u001b[0m         \u001b[0;32mif\u001b[0m \u001b[0mvmin\u001b[0m \u001b[0;32mis\u001b[0m \u001b[0;32mNone\u001b[0m\u001b[0;34m:\u001b[0m\u001b[0;34m\u001b[0m\u001b[0;34m\u001b[0m\u001b[0m\n\u001b[1;32m    206\u001b[0m             \u001b[0mvmin\u001b[0m \u001b[0;34m=\u001b[0m \u001b[0mnp\u001b[0m\u001b[0;34m.\u001b[0m\u001b[0mpercentile\u001b[0m\u001b[0;34m(\u001b[0m\u001b[0mcalc_data\u001b[0m\u001b[0;34m,\u001b[0m \u001b[0;36m2\u001b[0m\u001b[0;34m)\u001b[0m \u001b[0;32mif\u001b[0m \u001b[0mrobust\u001b[0m \u001b[0;32melse\u001b[0m \u001b[0mcalc_data\u001b[0m\u001b[0;34m.\u001b[0m\u001b[0mmin\u001b[0m\u001b[0;34m(\u001b[0m\u001b[0;34m)\u001b[0m\u001b[0;34m\u001b[0m\u001b[0;34m\u001b[0m\u001b[0m\n",
      "\u001b[0;31mTypeError\u001b[0m: ufunc 'isnan' not supported for the input types, and the inputs could not be safely coerced to any supported types according to the casting rule ''safe''"
     ]
    },
    {
     "data": {
      "text/plain": [
       "<Figure size 1080x576 with 0 Axes>"
      ]
     },
     "metadata": {},
     "output_type": "display_data"
    }
   ],
   "source": [
    "plt.figure(figsize=(15,8))\n",
    "\n",
    "sns.heatmap(rate_area_crime_t) # \n",
    "plt.title('서울시내 5대 범죄 죄목별 검거율', fontsize=20)\n",
    "plt.xticks = ['강간','강도','살인','절도','폭력']\n",
    "plt.show()"
   ]
  },
  {
   "cell_type": "markdown",
   "metadata": {},
   "source": [
    "#### 범죄 발생 횟수와 범죄 검거의 상관관계 "
   ]
  },
  {
   "cell_type": "code",
   "execution_count": 306,
   "metadata": {},
   "outputs": [
    {
     "data": {
      "text/html": [
       "<div>\n",
       "<style scoped>\n",
       "    .dataframe tbody tr th:only-of-type {\n",
       "        vertical-align: middle;\n",
       "    }\n",
       "\n",
       "    .dataframe tbody tr th {\n",
       "        vertical-align: top;\n",
       "    }\n",
       "\n",
       "    .dataframe thead th {\n",
       "        text-align: right;\n",
       "    }\n",
       "</style>\n",
       "<table border=\"1\" class=\"dataframe\">\n",
       "  <thead>\n",
       "    <tr style=\"text-align: right;\">\n",
       "      <th></th>\n",
       "      <th></th>\n",
       "      <th>발생 빈도</th>\n",
       "      <th>검거 빈도</th>\n",
       "      <th>검거율</th>\n",
       "    </tr>\n",
       "    <tr>\n",
       "      <th>지역</th>\n",
       "      <th>년도</th>\n",
       "      <th></th>\n",
       "      <th></th>\n",
       "      <th></th>\n",
       "    </tr>\n",
       "  </thead>\n",
       "  <tbody>\n",
       "    <tr>\n",
       "      <td rowspan=\"5\" valign=\"top\">강남</td>\n",
       "      <td>2000</td>\n",
       "      <td>7772</td>\n",
       "      <td>5014</td>\n",
       "      <td>0.761848</td>\n",
       "    </tr>\n",
       "    <tr>\n",
       "      <td>2001</td>\n",
       "      <td>8705</td>\n",
       "      <td>5390</td>\n",
       "      <td>0.779481</td>\n",
       "    </tr>\n",
       "    <tr>\n",
       "      <td>2002</td>\n",
       "      <td>7866</td>\n",
       "      <td>5939</td>\n",
       "      <td>1.009971</td>\n",
       "    </tr>\n",
       "    <tr>\n",
       "      <td>2003</td>\n",
       "      <td>6368</td>\n",
       "      <td>5775</td>\n",
       "      <td>1.006682</td>\n",
       "    </tr>\n",
       "    <tr>\n",
       "      <td>2004</td>\n",
       "      <td>5302</td>\n",
       "      <td>4569</td>\n",
       "      <td>0.778622</td>\n",
       "    </tr>\n",
       "  </tbody>\n",
       "</table>\n",
       "</div>"
      ],
      "text/plain": [
       "         발생 빈도  검거 빈도       검거율\n",
       "지역 년도                          \n",
       "강남 2000   7772   5014  0.761848\n",
       "   2001   8705   5390  0.779481\n",
       "   2002   7866   5939  1.009971\n",
       "   2003   6368   5775  1.006682\n",
       "   2004   5302   4569  0.778622"
      ]
     },
     "execution_count": 306,
     "metadata": {},
     "output_type": "execute_result"
    }
   ],
   "source": [
    "freq_area = total.groupby(['지역','년도']).agg({'발생 빈도':'sum',\n",
    "                                      '검거 빈도':'sum',\n",
    "                                      '검거율': 'mean',\n",
    "                                      })\n",
    "freq_area.head()"
   ]
  },
  {
   "cell_type": "code",
   "execution_count": 309,
   "metadata": {},
   "outputs": [
    {
     "data": {
      "text/html": [
       "<div>\n",
       "<style scoped>\n",
       "    .dataframe tbody tr th:only-of-type {\n",
       "        vertical-align: middle;\n",
       "    }\n",
       "\n",
       "    .dataframe tbody tr th {\n",
       "        vertical-align: top;\n",
       "    }\n",
       "\n",
       "    .dataframe thead th {\n",
       "        text-align: right;\n",
       "    }\n",
       "</style>\n",
       "<table border=\"1\" class=\"dataframe\">\n",
       "  <thead>\n",
       "    <tr style=\"text-align: right;\">\n",
       "      <th></th>\n",
       "      <th>지역</th>\n",
       "      <th>년도</th>\n",
       "      <th>발생 빈도</th>\n",
       "      <th>검거 빈도</th>\n",
       "      <th>검거율</th>\n",
       "    </tr>\n",
       "  </thead>\n",
       "  <tbody>\n",
       "    <tr>\n",
       "      <td>0</td>\n",
       "      <td>강남</td>\n",
       "      <td>2000</td>\n",
       "      <td>7772</td>\n",
       "      <td>5014</td>\n",
       "      <td>0.761848</td>\n",
       "    </tr>\n",
       "    <tr>\n",
       "      <td>1</td>\n",
       "      <td>강남</td>\n",
       "      <td>2001</td>\n",
       "      <td>8705</td>\n",
       "      <td>5390</td>\n",
       "      <td>0.779481</td>\n",
       "    </tr>\n",
       "    <tr>\n",
       "      <td>2</td>\n",
       "      <td>강남</td>\n",
       "      <td>2002</td>\n",
       "      <td>7866</td>\n",
       "      <td>5939</td>\n",
       "      <td>1.009971</td>\n",
       "    </tr>\n",
       "    <tr>\n",
       "      <td>3</td>\n",
       "      <td>강남</td>\n",
       "      <td>2003</td>\n",
       "      <td>6368</td>\n",
       "      <td>5775</td>\n",
       "      <td>1.006682</td>\n",
       "    </tr>\n",
       "    <tr>\n",
       "      <td>4</td>\n",
       "      <td>강남</td>\n",
       "      <td>2004</td>\n",
       "      <td>5302</td>\n",
       "      <td>4569</td>\n",
       "      <td>0.778622</td>\n",
       "    </tr>\n",
       "    <tr>\n",
       "      <td>...</td>\n",
       "      <td>...</td>\n",
       "      <td>...</td>\n",
       "      <td>...</td>\n",
       "      <td>...</td>\n",
       "      <td>...</td>\n",
       "    </tr>\n",
       "    <tr>\n",
       "      <td>584</td>\n",
       "      <td>혜화</td>\n",
       "      <td>2014</td>\n",
       "      <td>2632</td>\n",
       "      <td>1848</td>\n",
       "      <td>0.710768</td>\n",
       "    </tr>\n",
       "    <tr>\n",
       "      <td>585</td>\n",
       "      <td>혜화</td>\n",
       "      <td>2015</td>\n",
       "      <td>2233</td>\n",
       "      <td>1354</td>\n",
       "      <td>0.670361</td>\n",
       "    </tr>\n",
       "    <tr>\n",
       "      <td>586</td>\n",
       "      <td>혜화</td>\n",
       "      <td>2016</td>\n",
       "      <td>2069</td>\n",
       "      <td>1293</td>\n",
       "      <td>0.776704</td>\n",
       "    </tr>\n",
       "    <tr>\n",
       "      <td>587</td>\n",
       "      <td>혜화</td>\n",
       "      <td>2017</td>\n",
       "      <td>1786</td>\n",
       "      <td>1152</td>\n",
       "      <td>0.724534</td>\n",
       "    </tr>\n",
       "    <tr>\n",
       "      <td>588</td>\n",
       "      <td>혜화</td>\n",
       "      <td>2018</td>\n",
       "      <td>1673</td>\n",
       "      <td>1113</td>\n",
       "      <td>0.779376</td>\n",
       "    </tr>\n",
       "  </tbody>\n",
       "</table>\n",
       "<p>589 rows × 5 columns</p>\n",
       "</div>"
      ],
      "text/plain": [
       "     지역    년도  발생 빈도  검거 빈도       검거율\n",
       "0    강남  2000   7772   5014  0.761848\n",
       "1    강남  2001   8705   5390  0.779481\n",
       "2    강남  2002   7866   5939  1.009971\n",
       "3    강남  2003   6368   5775  1.006682\n",
       "4    강남  2004   5302   4569  0.778622\n",
       "..   ..   ...    ...    ...       ...\n",
       "584  혜화  2014   2632   1848  0.710768\n",
       "585  혜화  2015   2233   1354  0.670361\n",
       "586  혜화  2016   2069   1293  0.776704\n",
       "587  혜화  2017   1786   1152  0.724534\n",
       "588  혜화  2018   1673   1113  0.779376\n",
       "\n",
       "[589 rows x 5 columns]"
      ]
     },
     "execution_count": 309,
     "metadata": {},
     "output_type": "execute_result"
    }
   ],
   "source": [
    "freq_area.reset_index()"
   ]
  },
  {
   "cell_type": "code",
   "execution_count": null,
   "metadata": {},
   "outputs": [],
   "source": [
    "plt.figure(figsize=(12,10), dpi= 80)\n",
    "sns.heatmap(df.corr(), xticklabels=df.corr().columns, yticklabels=df.corr().columns, cmap='RdYlGn', center=0, annot=True)\n"
   ]
  },
  {
   "cell_type": "code",
   "execution_count": 370,
   "metadata": {},
   "outputs": [
    {
     "data": {
      "text/html": [
       "<div>\n",
       "<style scoped>\n",
       "    .dataframe tbody tr th:only-of-type {\n",
       "        vertical-align: middle;\n",
       "    }\n",
       "\n",
       "    .dataframe tbody tr th {\n",
       "        vertical-align: top;\n",
       "    }\n",
       "\n",
       "    .dataframe thead th {\n",
       "        text-align: right;\n",
       "    }\n",
       "</style>\n",
       "<table border=\"1\" class=\"dataframe\">\n",
       "  <thead>\n",
       "    <tr style=\"text-align: right;\">\n",
       "      <th></th>\n",
       "      <th>발생 빈도</th>\n",
       "      <th>검거 빈도</th>\n",
       "      <th>검거율</th>\n",
       "    </tr>\n",
       "    <tr>\n",
       "      <th>죄목</th>\n",
       "      <th></th>\n",
       "      <th></th>\n",
       "      <th></th>\n",
       "    </tr>\n",
       "  </thead>\n",
       "  <tbody>\n",
       "    <tr>\n",
       "      <td>강간</td>\n",
       "      <td>78396</td>\n",
       "      <td>60749</td>\n",
       "      <td>0.809325</td>\n",
       "    </tr>\n",
       "    <tr>\n",
       "      <td>강도</td>\n",
       "      <td>20292</td>\n",
       "      <td>17949</td>\n",
       "      <td>0.925133</td>\n",
       "    </tr>\n",
       "    <tr>\n",
       "      <td>살인</td>\n",
       "      <td>3683</td>\n",
       "      <td>3609</td>\n",
       "      <td>1.017526</td>\n",
       "    </tr>\n",
       "    <tr>\n",
       "      <td>절도</td>\n",
       "      <td>871779</td>\n",
       "      <td>442070</td>\n",
       "      <td>0.548791</td>\n",
       "    </tr>\n",
       "    <tr>\n",
       "      <td>폭력</td>\n",
       "      <td>1394377</td>\n",
       "      <td>1250621</td>\n",
       "      <td>0.896452</td>\n",
       "    </tr>\n",
       "  </tbody>\n",
       "</table>\n",
       "</div>"
      ],
      "text/plain": [
       "      발생 빈도    검거 빈도       검거율\n",
       "죄목                            \n",
       "강간    78396    60749  0.809325\n",
       "강도    20292    17949  0.925133\n",
       "살인     3683     3609  1.017526\n",
       "절도   871779   442070  0.548791\n",
       "폭력  1394377  1250621  0.896452"
      ]
     },
     "execution_count": 370,
     "metadata": {},
     "output_type": "execute_result"
    }
   ],
   "source": [
    "rate_crime= total.groupby(['죄목']).agg({'발생 빈도':'sum',\n",
    "                                      '검거 빈도':'sum',\n",
    "                                      '검거율': 'mean'})\n",
    "rate_crime.head()"
   ]
  },
  {
   "cell_type": "code",
   "execution_count": 371,
   "metadata": {},
   "outputs": [
    {
     "data": {
      "text/html": [
       "<div>\n",
       "<style scoped>\n",
       "    .dataframe tbody tr th:only-of-type {\n",
       "        vertical-align: middle;\n",
       "    }\n",
       "\n",
       "    .dataframe tbody tr th {\n",
       "        vertical-align: top;\n",
       "    }\n",
       "\n",
       "    .dataframe thead th {\n",
       "        text-align: right;\n",
       "    }\n",
       "</style>\n",
       "<table border=\"1\" class=\"dataframe\">\n",
       "  <thead>\n",
       "    <tr style=\"text-align: right;\">\n",
       "      <th></th>\n",
       "      <th>죄목</th>\n",
       "      <th>발생 빈도</th>\n",
       "      <th>검거 빈도</th>\n",
       "      <th>검거율</th>\n",
       "    </tr>\n",
       "  </thead>\n",
       "  <tbody>\n",
       "    <tr>\n",
       "      <td>0</td>\n",
       "      <td>강간</td>\n",
       "      <td>78396</td>\n",
       "      <td>60749</td>\n",
       "      <td>0.809325</td>\n",
       "    </tr>\n",
       "    <tr>\n",
       "      <td>1</td>\n",
       "      <td>강도</td>\n",
       "      <td>20292</td>\n",
       "      <td>17949</td>\n",
       "      <td>0.925133</td>\n",
       "    </tr>\n",
       "    <tr>\n",
       "      <td>2</td>\n",
       "      <td>살인</td>\n",
       "      <td>3683</td>\n",
       "      <td>3609</td>\n",
       "      <td>1.017526</td>\n",
       "    </tr>\n",
       "    <tr>\n",
       "      <td>3</td>\n",
       "      <td>절도</td>\n",
       "      <td>871779</td>\n",
       "      <td>442070</td>\n",
       "      <td>0.548791</td>\n",
       "    </tr>\n",
       "    <tr>\n",
       "      <td>4</td>\n",
       "      <td>폭력</td>\n",
       "      <td>1394377</td>\n",
       "      <td>1250621</td>\n",
       "      <td>0.896452</td>\n",
       "    </tr>\n",
       "  </tbody>\n",
       "</table>\n",
       "</div>"
      ],
      "text/plain": [
       "   죄목    발생 빈도    검거 빈도       검거율\n",
       "0  강간    78396    60749  0.809325\n",
       "1  강도    20292    17949  0.925133\n",
       "2  살인     3683     3609  1.017526\n",
       "3  절도   871779   442070  0.548791\n",
       "4  폭력  1394377  1250621  0.896452"
      ]
     },
     "execution_count": 371,
     "metadata": {},
     "output_type": "execute_result"
    }
   ],
   "source": [
    "rate_crime.reset_index(inplace=True)\n",
    "rate_crime.head()"
   ]
  },
  {
   "cell_type": "code",
   "execution_count": 372,
   "metadata": {},
   "outputs": [],
   "source": [
    "sizes = rate_crime['발생 빈도'].values.tolist()\n",
    "labels = rate_crime.apply(lambda x: str(x[0]) + \"\\n (\" + str(x[1]) + \")\", axis=1)\n",
    "\n",
    "#labels = rate_crime.index"
   ]
  },
  {
   "cell_type": "code",
   "execution_count": 366,
   "metadata": {},
   "outputs": [],
   "source": [
    "colors = [plt.cm.Spectral(i/float(len(labels))) for i in range(len(labels))]"
   ]
  },
  {
   "cell_type": "code",
   "execution_count": 376,
   "metadata": {},
   "outputs": [
    {
     "data": {
      "image/png": "[encoded data removed]",
      "text/plain": [
       "<Figure size 864x648 with 1 Axes>"
      ]
     },
     "metadata": {
      "needs_background": "light"
     },
     "output_type": "display_data"
    }
   ],
   "source": [
    "import squarify\n",
    "plt.figure(figsize=(12,9))\n",
    "squarify.plot(sizes=sizes, label=labels,color=colors, alpha=.8)\n",
    "\n",
    "plt.title('서울 시내 5대범죄 죄목별 발생 건수(2000-2018)')\n",
    "plt.axis('off')\n",
    "plt.show()"
   ]
  },
  {
   "cell_type": "code",
   "execution_count": 381,
   "metadata": {},
   "outputs": [
    {
     "data": {
      "image/png": "[encoded data removed]",
      "text/plain": [
       "<Figure size 864x648 with 1 Axes>"
      ]
     },
     "metadata": {
      "needs_background": "light"
     },
     "output_type": "display_data"
    }
   ],
   "source": [
    "sizes1 = rate_crime['검거율'].values.tolist()\n",
    "labels1 = rate_crime.apply(lambda x: str(x[0]) + \"\\n (\" + str(round(x[3],2)) + \")\", axis=1)\n",
    "\n",
    "import squarify\n",
    "plt.figure(figsize=(12,9))\n",
    "squarify.plot(sizes=sizes1, label=labels1,color=colors, alpha=.8)\n",
    "\n",
    "plt.title('서울 시내 5대범죄 죄목별 검거율(2000-2018)')\n",
    "plt.axis('off')\n",
    "plt.show()"
   ]
  }
 ],
 "metadata": {
  "kernelspec": {
   "display_name": "Python 3",
   "language": "python",
   "name": "python3"
  },
  "language_info": {
   "codemirror_mode": {
    "name": "ipython",
    "version": 3
   },
   "file_extension": ".py",
   "mimetype": "text/x-python",
   "name": "python",
   "nbconvert_exporter": "python",
   "pygments_lexer": "ipython3",
   "version": "3.7.3"
  }
 },
 "nbformat": 4,
 "nbformat_minor": 2
}
